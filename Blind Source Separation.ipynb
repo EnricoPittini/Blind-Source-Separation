{
  "cells": [
    {
      "cell_type": "markdown",
      "metadata": {
        "id": "wI7WsoZFUVvN"
      },
      "source": [
        "<center>\n",
        "    <h1>Blind Source Separation</h1>\n",
        "    <h2>Deep Learning exam - 29 July 2022</h2>\n",
        "    <h3>Enrico Pittini 0001036908</h3>\n",
        "</center>"
      ]
    },
    {
      "cell_type": "markdown",
      "metadata": {
        "id": "MY6W54y5P2Ts"
      },
      "source": [
        "The task consists in decomposing an image obtained as a sum of a two images img1 and img2 into its components.\n",
        "\n",
        "The network takes in input the sum img1+img2 and returns the predicted components hat_img1 and hat_img2.\n",
        "\n",
        "No preprocessing is allowed."
      ]
    },
    {
      "cell_type": "markdown",
      "metadata": {
        "id": "fW3n6RN6Fpn8"
      },
      "source": [
        "## DATASET"
      ]
    },
    {
      "cell_type": "code",
      "execution_count": 1,
      "metadata": {
        "id": "JSa4gXMIRx2s"
      },
      "outputs": [],
      "source": [
        "import numpy as np\n",
        "from tensorflow.keras.datasets import mnist, fashion_mnist\n",
        "import matplotlib.pyplot as plt"
      ]
    },
    {
      "cell_type": "markdown",
      "metadata": {
        "id": "0PvzcVDjFvGi"
      },
      "source": [
        "### Loading the MNIST and Fashion MNIST dataset"
      ]
    },
    {
      "cell_type": "code",
      "execution_count": 2,
      "metadata": {
        "colab": {
          "base_uri": "https://localhost:8080/"
        },
        "id": "HligbBqGRx2s",
        "outputId": "791db1ee-5eb8-41d8-dbef-27f76c96f327"
      },
      "outputs": [
        {
          "name": "stdout",
          "output_type": "stream",
          "text": [
            "Downloading data from https://storage.googleapis.com/tensorflow/tf-keras-datasets/mnist.npz\n",
            "11493376/11490434 [==============================] - 0s 0us/step\n",
            "11501568/11490434 [==============================] - 0s 0us/step\n",
            "Downloading data from https://storage.googleapis.com/tensorflow/tf-keras-datasets/train-labels-idx1-ubyte.gz\n",
            "32768/29515 [=================================] - 0s 0us/step\n",
            "40960/29515 [=========================================] - 0s 0us/step\n",
            "Downloading data from https://storage.googleapis.com/tensorflow/tf-keras-datasets/train-images-idx3-ubyte.gz\n",
            "26427392/26421880 [==============================] - 0s 0us/step\n",
            "26435584/26421880 [==============================] - 0s 0us/step\n",
            "Downloading data from https://storage.googleapis.com/tensorflow/tf-keras-datasets/t10k-labels-idx1-ubyte.gz\n",
            "16384/5148 [===============================================================================================] - 0s 0us/step\n",
            "Downloading data from https://storage.googleapis.com/tensorflow/tf-keras-datasets/t10k-images-idx3-ubyte.gz\n",
            "4423680/4422102 [==============================] - 0s 0us/step\n",
            "4431872/4422102 [==============================] - 0s 0us/step\n",
            "\n",
            "Shape MNIST train: (60000, 28, 28)\n",
            "Shape Fashion MNIST train: (60000, 28, 28)\n",
            "\n",
            "Shape MNIST train after padding: (60000, 32, 32)\n",
            "Shape Fashion MNIST train after padding: (60000, 32, 32)\n"
          ]
        }
      ],
      "source": [
        "(mnist_x_train, mnist_y_train), (mnist_x_test, mnist_y_test) = mnist.load_data()\n",
        "(fashion_mnist_x_train, fashion_mnist_y_train), (fashion_mnist_x_test, fashion_mnist_y_test) = fashion_mnist.load_data()\n",
        "print()\n",
        "\n",
        "print('Shape MNIST train:', np.shape(mnist_x_train))\n",
        "print('Shape Fashion MNIST train:', np.shape(fashion_mnist_x_train))\n",
        "print()\n",
        "\n",
        "# Normalization and Padding\n",
        "mnist_x_train = np.pad(mnist_x_train,((0,0),(2,2),(2,2)))/255.\n",
        "mnist_x_test = np.pad(mnist_x_test,((0,0),(2,2),(2,2)))/255.\n",
        "print('Shape MNIST train after padding:', np.shape(mnist_x_train))\n",
        "fashion_mnist_x_train = np.pad(fashion_mnist_x_train,((0,0),(2,2),(2,2)))/255.\n",
        "fashion_mnist_x_test = np.pad(fashion_mnist_x_test,((0,0),(2,2),(2,2)))/255.\n",
        "print('Shape Fashion MNIST train after padding:', np.shape(mnist_x_train))"
      ]
    },
    {
      "cell_type": "code",
      "execution_count": null,
      "metadata": {
        "colab": {
          "base_uri": "https://localhost:8080/"
        },
        "id": "gTqEhsA_MWHJ",
        "outputId": "992b2a09-0e9b-49e7-f2df-105bae77b41f"
      },
      "outputs": [
        {
          "name": "stdout",
          "output_type": "stream",
          "text": [
            "Number of MNIST/fashion MNIST training samples: 60000\n",
            "Number of MNIST/fashion MNIST test samples: 10000\n",
            "MNIST/fashion MNIST resolution: (32, 32)\n"
          ]
        }
      ],
      "source": [
        "print(f'Number of MNIST/fashion MNIST training samples: {np.shape(mnist_x_train)[0]}')\n",
        "print(f'Number of MNIST/fashion MNIST test samples: {np.shape(mnist_x_test)[0]}')\n",
        "print(f'MNIST/fashion MNIST resolution: {np.shape(mnist_x_test)[1:]}')"
      ]
    },
    {
      "cell_type": "code",
      "execution_count": 3,
      "metadata": {
        "id": "puyeUReORx2u"
      },
      "outputs": [],
      "source": [
        "N_train, h, w = mnist_x_train.shape[0], mnist_x_train.shape[1], mnist_x_train.shape[2]\n",
        "N_test = mnist_x_test.shape[0]"
      ]
    },
    {
      "cell_type": "markdown",
      "metadata": {
        "id": "KB274CUpMv5R"
      },
      "source": [
        "### Data generator\n",
        "Generator which generates batches. A batch is a couple `x_batch, y_batch`, containing `batchsize` number of samples. `x_batch` represents the input, and it contains images `x`: each image `x` has spatial dimensions $32*32$ and it contains a pair of MNIST-fashion MNIST images added together. `y_batch` represents the ground truth, and it contains the images `y`: each image `y` has spatial dimensions $32*64$ and it contains the same pair of MNIST-fashion MNIST images concatenated along the width."
      ]
    },
    {
      "cell_type": "code",
      "execution_count": 4,
      "metadata": {
        "id": "pelzhL0uRx2u"
      },
      "outputs": [],
      "source": [
        "def datagenerator(x1, x2, batchsize):\n",
        "    # x1: first dataset of images. In our case, MNIST dataset (either train or test)\n",
        "    # x2: second dataset of images. In our case, fashion MNIST dataset (either train or test)\n",
        "\n",
        "    n1 = x1.shape[0]\n",
        "    n2 = x2.shape[0]\n",
        "    while True:\n",
        "        num1 = np.random.randint(0, n1, batchsize)\n",
        "        num2 = np.random.randint(0, n2, batchsize)\n",
        "\n",
        "        x_batch = (x1[num1] + x2[num2]) / 2.0\n",
        "        y_batch = np.concatenate((x1[num1], x2[num2]), axis=2)\n",
        "\n",
        "        yield x_batch, y_batch "
      ]
    },
    {
      "cell_type": "code",
      "execution_count": 5,
      "metadata": {
        "id": "oMW8s3frRx2u"
      },
      "outputs": [],
      "source": [
        "batchsize = 64"
      ]
    },
    {
      "cell_type": "code",
      "execution_count": 6,
      "metadata": {
        "id": "Pae00fk6Rx2v"
      },
      "outputs": [],
      "source": [
        "# Generator for creating the training batches\n",
        "train_generator = datagenerator(mnist_x_train, fashion_mnist_x_train, batchsize)\n",
        "\n",
        "# Generator for creating the validation batches\n",
        "test_generator = datagenerator(mnist_x_test, fashion_mnist_x_test, batchsize)"
      ]
    },
    {
      "cell_type": "markdown",
      "metadata": {
        "id": "B_HWmrN3O5TY"
      },
      "source": [
        "### Example of a batch\n",
        "Example of a training batch"
      ]
    },
    {
      "cell_type": "code",
      "execution_count": null,
      "metadata": {
        "colab": {
          "base_uri": "https://localhost:8080/"
        },
        "id": "zZwwy43SRx2v",
        "outputId": "56ed1f00-51ba-49aa-a1f9-69eddc8c5e09"
      },
      "outputs": [
        {
          "name": "stdout",
          "output_type": "stream",
          "text": [
            "Shape of the x_batch: (64, 32, 32)\n",
            "Shape of the y_batch: (64, 32, 64)\n"
          ]
        }
      ],
      "source": [
        "x_batch, y_batch = next(train_generator)\n",
        "print('Shape of the x_batch:', x_batch.shape)\n",
        "print('Shape of the y_batch:', y_batch.shape)"
      ]
    },
    {
      "cell_type": "markdown",
      "metadata": {
        "id": "vCbz5aukPNVG"
      },
      "source": [
        "The data is already normalized into $[0,1]$"
      ]
    },
    {
      "cell_type": "code",
      "execution_count": null,
      "metadata": {
        "colab": {
          "base_uri": "https://localhost:8080/"
        },
        "id": "X1pc-nZKRx2v",
        "outputId": "ea1d6233-339e-4f38-e65f-ae5372cf431f"
      },
      "outputs": [
        {
          "data": {
            "text/plain": [
              "(0.0, 0.696078431372549)"
            ]
          },
          "execution_count": 9,
          "metadata": {},
          "output_type": "execute_result"
        }
      ],
      "source": [
        "x_batch[0].min(), x_batch[0].max()"
      ]
    },
    {
      "cell_type": "code",
      "execution_count": null,
      "metadata": {
        "colab": {
          "base_uri": "https://localhost:8080/"
        },
        "id": "2hpb20YqRx2w",
        "outputId": "7708d767-edc5-458c-f0e0-b0852d5c0f1c"
      },
      "outputs": [
        {
          "data": {
            "text/plain": [
              "(0.0, 1.0)"
            ]
          },
          "execution_count": 10,
          "metadata": {},
          "output_type": "execute_result"
        }
      ],
      "source": [
        "y_batch[0].min(), y_batch[0].max()"
      ]
    },
    {
      "cell_type": "markdown",
      "metadata": {
        "id": "5nECVcliPTOM"
      },
      "source": [
        "Visualization of a sample in the batch"
      ]
    },
    {
      "cell_type": "code",
      "execution_count": null,
      "metadata": {
        "colab": {
          "base_uri": "https://localhost:8080/",
          "height": 466
        },
        "id": "fT7UnUpbPX4D",
        "outputId": "faa65baa-22b9-4c3c-9a4f-27a660c53499"
      },
      "outputs": [
        {
          "data": {
            "image/png": "[encoded data removed]",
            "text/plain": [
              "<Figure size 432x288 with 1 Axes>"
            ]
          },
          "metadata": {
            "needs_background": "light"
          },
          "output_type": "display_data"
        },
        {
          "data": {
            "image/png": "[encoded data removed]",
            "text/plain": [
              "<Figure size 432x288 with 1 Axes>"
            ]
          },
          "metadata": {
            "needs_background": "light"
          },
          "output_type": "display_data"
        }
      ],
      "source": [
        "x = x_batch[0]  # Input\n",
        "y = y_batch[0]  # Ground truth\n",
        "plt.imshow(x,cmap='gray', interpolation='nearest')\n",
        "plt.show()\n",
        "plt.imshow(y, cmap='gray', interpolation='nearest')\n",
        "plt.show()"
      ]
    },
    {
      "cell_type": "markdown",
      "metadata": {
        "id": "wR5eVANv2TuP"
      },
      "source": [
        "## UTILITIES"
      ]
    },
    {
      "cell_type": "code",
      "execution_count": 46,
      "metadata": {
        "id": "BPPy67LF1Ssa"
      },
      "outputs": [],
      "source": [
        "def plot_history(training_history, n_epochs=None):\n",
        "    \"\"\"Plot the training history\n",
        "  \n",
        "    Parameters\n",
        "    ----------\n",
        "    training_history : dict\n",
        "    n_epochs : int, optional\n",
        "\n",
        "    \"\"\"\n",
        "    if not n_epochs:\n",
        "      n_epochs = len(training_history.history['loss'])\n",
        "\n",
        "    epochs = range(1,n_epochs+1)\n",
        "\n",
        "    plt.plot(epochs, training_history.history['loss'], label='train_loss')\n",
        "    plt.plot(epochs, training_history.history['val_loss'], label='val_loss')\n",
        "    plt.legend()\n",
        "    plt.grid()\n",
        "    plt.xlabel('Number of epochs')\n",
        "    plt.title('Loss')"
      ]
    },
    {
      "cell_type": "code",
      "execution_count": 47,
      "metadata": {
        "id": "gnnFw3ra2Vl4"
      },
      "outputs": [],
      "source": [
        "def compute_final_score(model):\n",
        "  \"\"\"Compute the final score of the given model.\n",
        "\n",
        "  Namely, it computes the min MSE, the mean MSE and the std.\n",
        "\n",
        "  Parameters\n",
        "  ----------\n",
        "  model : tf.Model\n",
        "\n",
        "  Returns\n",
        "  -------\n",
        "  min_mse : float\n",
        "  mean_mse : float\n",
        "  std_mse : float\n",
        "  \n",
        "  \"\"\"\n",
        "  test_generator = datagenerator(mnist_x_test, fashion_mnist_x_test, 20000)\n",
        "  mse_list = []\n",
        "  for i in range(10):\n",
        "    x_batch, y_batch = next(test_generator)\n",
        "    mse = model.evaluate(x_batch, y_batch)\n",
        "    mse_list.append(mse)\n",
        "  min_mse = min(mse_list)\n",
        "  mean_mse = np.mean(mse_list)\n",
        "  std_mse = np.std(mse_list)\n",
        "  return min_mse, mean_mse, std_mse"
      ]
    },
    {
      "cell_type": "markdown",
      "metadata": {
        "id": "Gt3kh3dIRwVS"
      },
      "source": [
        "## MODEL: FIRST ATTEMPTS\n",
        "Before the final model, the following models have been tried. *Disclaimer: this is only a brief sum-up.*\n",
        "1. **Convolutional autoencoder**. Fully convolutional autoencoder, with one single encoder and one single decoder, which produces both the MNIST and fashion MNIST images at the same time. Input: $32*32*1$. Output: $32*64*1$.\n",
        "2. **Two-branches convolutional autoencoder**. Fully convolutional autoencoder, with one single encoder and two decoders: one for producing the MNIST image, and one for producing the fashion MNIST image. Input: $32*32*1$. Two outputs $32*32*1$, which are concatenated together along the width, producing a single output $32*64*1$. Convolutional autoencoder with two decoders/branches.\n",
        "3. **Two-branches U-Net**. U-Net (i.e. fully convolutional autoencoder with skip connections), with one single encoder and two decoders: one for producing the MNIST image, and one for producing the fashion MNIST image. Input: $32*32*1$. Two outputs $32*32*1$, which are concatenated together along the width, producing a single output $32*64*1$. U-net with two decoders/branches.\n",
        "4. **Single branch U-Net**. U-Net with one single encoder and one decoder (single branch): classic U-Net. It computes only a single image: the fashion MNIST image. Then, the MNIST image is obtained by simply subtracting from the input image the computed fashion MNIST image. Finally, the output of the network is the concatenation between the MNIST image and the fashion MNIST image along the width, obtaining a single output $32*64*1$.\n",
        "\n",
        "*Remark: the single-branch U-Net produces directly the fashion MNIST image and not the MNIST image because the network performs better in this way. For some reason, it is harder for the U-Net to separate the MNIST digit from the input than separating the fashion MNIST digit from the input.*\n",
        "\n"
      ]
    },
    {
      "cell_type": "markdown",
      "metadata": {
        "id": "Cj_L7NuoXCL2"
      },
      "source": [
        "\n",
        "| Model                                  | Parameters | MSE    |\n",
        "| :------------------------------------- | ---------: | -----: |\n",
        "| Convolutional autoencoder                            | 47,617     | 0.0240 |\n",
        "| Two-branches convolutional autoencoder | 337,570    | 0.0062 |\n",
        "| Two-branches U-Net                                  | 157,410    | 0.00049 |\n",
        "| Single-branch U-Net                                  | 11,261,121    | 0.00038 |"
      ]
    },
    {
      "cell_type": "markdown",
      "metadata": {
        "id": "uilTgYWQVEwH"
      },
      "source": [
        "Regarding the U-Net, several different variants have been tried. Let's point out some of the design choices.\n",
        "- Initial number of channels.\n",
        "- Number of downsampling-upsampling floors.\n",
        "- Max Pooling vs strided convolution for downsampling.\n",
        "- Transposed convolution vs interpolation for upsampling.\n",
        "- Usage of batch normalization, different activation functions, dropout, ... .\n",
        "- Usage of different networks as backbones, like vgg16 or vgg19. \n",
        "\n",
        "In addition, different U-Net implementations are tried. An interesting implementation which has been tried is the one found in this [repository](https://github.com/MrGiovanni/UNetPlusPlus). It is an interesting implementation, in which you can easily specify many things, like the backbone of interest. "
      ]
    },
    {
      "cell_type": "markdown",
      "metadata": {
        "id": "PupNBwo6Y-YK"
      },
      "source": [
        "## FINAL MODEL\n",
        "The final model is the **Attention U-net**, which is an improvement of the classic U-Net.\n",
        "\n",
        "This improvement consists in adding an attention mechanism in each skip connection: the network learns in which part of the skip connection focus.\n",
        "\n",
        "The intuition is the following. For each upsampling block, the input is the concatenation of the output of the previous block with the skip connection from the corresponding downsampling block. The skip connection has great spatial information, but poor semantic information; while the output of the previous block has great semantic information, and poor spatial information. The attention mechanism is applied on the skip connection: using the output of the previous block (the *gating signal*) the network focuses only on the portion of the skip connection which is semantically important. The network learns to focus only on the relevant part of the skip connection. \n",
        "\n",
        "![image.png](data:image/png;base64,iVBORw0KGgoAAAANSUhEUgAAAwwAAAI8CAIAAADTELs1AAAgAElEQVR4nOzdd3gU1doA8Cnbe02yqZveG+mNEEJHioBYUAHFigX12q/Xgopi4yJNqg3xC6D0KgEMEFoCJJBCet1ks73vzuzM98dqbggQEkhDzu+5z31kMzPn7GSz++4573kPTJIkBAAAAAAAAFyLMmgtOZ1OgiAGrTkAAAAAAP4xYBhGEARBkMFsdACDJBzHMQxz/T9BEDiOO53OgWsOAAAAAIB/KgRBUBRFUZRCoVAoFCqVSqFQBjpm6v8gCcdxh8Nh7wLHcZIkXU8PhuF+bxEAAAAAgH82p9PpdDpd40k0Go1Op7v+n06nU6nUAYqW4H7MSXI4HDabzWq1ms1mm80GwzCFQnEFfa6ID0XRQR4oAwAAAADgHwDHcdeUFN4FlUplsVgMBoPFYtHpdBRF+7fR/gmSXOGRyWQyGAwEQVAoFDqdzmAwOkM8MIAEAAAAAMCdIwgCwzCbzWaxWFyzVTiOs1gsLpfrCpj6cTjmToMkgiCsVqter9fr9SRJ0ul01t/AoBEAAAAAAAOEJEkMwywWi8lkstlsrlCJx+NxOBw6nd4vTdxRkIRhmNFoVKvVDoeDRqNxuVwej0ej0cC4EQAAAAAAg8PpdJrNZoPBYLVacRzn8/kikYjJZN75YM3tB0lWq1Wr1Wo0GgqFwuFwhEIhnU4H4REAAAAAAIOPIAiDwaDT6Ww2G5VKlUqlXC6XQrmjBWq3EySRJGmxWNrb281mM51Ol0gkPB4PhEcAAAAAAAwhkiQdDodarTaZTE6nUyqVikQiKpV62xfsc5BEEITZbG5pacEwjMPhuLu799fMHwAAAAAAwB0iCEKn06lUKhzHJRKJRCK57Tipb0FSZ4TkdDo5HI5MJuv35XYAAAAAAAB3giRJo9GoUqmsVqubm5tYLL69OKkPQVLXCEksFovFYrB+DQAAAACA4clutzc3N9tsttuOk3ob5bjykFpaWnAcF4vFUqkUREgAAAAAAAxbdDrd29ubwWB0dHSo1Wocx/t6hV4FOiRJ2u12pVKJ4ziXy5VKpX3vKgAAAAAAwKCi0+k+Pj40Gk2pVOp0ur7uIdurIAnDsI6ODovFwuFwPD09b6ufAAAAAAAAg41Go7m5uaEoqlAozGYzQRC9P/fWQRJBECaTSavV0ul0d3d3MMsGAAAAAMBdhMfjSSQSGIbb29sxDOv9ibeIeEiStNlsbW1tFArF3d2dRqPdWT8BAAAAAAAGm0QiYbPZNputT8lJtwiSMAxTq9UEQfD5fDabfcedBAAAAAAAGAIymYxCoajVapvN1sul/T2V63bla+v1ejqdLhaL+6mTQ4mEIJIkSRK6w21971IwBMEIDEOgOjoAAABwz6FSqRKJRKlUdnR00Gi03kyO9RQkYRim0+kQBBEKhXdS1fsOEQSBYRgMwwRBUCgUGIYRBOnr5zxJkgRBmqyYxmDV6G1Gi2OAejucMWgUTymHx6ZzWFQUQUCoBAAAANxT+Hy+Xq83mUxWq5VCodwyzfqmQZIrG8k1jMTn8/u7n71lt9sLCwtXrlwpFArLysoeeughmUw2cuRIVwZWLy9CklCz0nSqtLW0TmO24RB0L0cHJJ2KRvgKxiT5yqSce/lGAAAAAPcaFEXFYrFCodBoNAwG45b7qt00SMIwzGg0IggiEAiGakWb1Wrdt2/fc889t2nTpnHjxv3+++9z5sxZtGhRRkZGn65T3aQ5eK6pusUg5jNDfKViAZvHYVDusQ1VcCdhstg1OnNdq6a4Wt3YYX5sXIifbMjCXwAAAAAYfGw2m0KhmM1mDMNoNFrPAy43DZJwHDeZTCiKcrncAehkr2i12p9//jkpKWnixIkkSbq5uZEkmZiYKBaLez+MpDPazld2NLSb4kM9R4R7M5k0GILu1cEkkoSg2DDvspq2M5cbdxTUPXd/NI16bwWLAAAAwL0MRVEej6dWq81mM4PBoFB6yju68RARQRA2mw3HcSaTOYTZSCaTqaCgIDw8HEEQp9NZWFgIQVBfazW1dJjaNJZAb3FUkAebRUdgF+ie/B+MwDCLSQv1dwuTS7Ume4NCP2C/PQAAAAAYjng8HoIgZrP5lrUAbhxA4ThutVoRBOFwOAPQvd5yc3N75ZVXVq1alZiY2NDQsHTp0iVLlqSlpaF9mSlr01jVelukm1jAYw1cV+8uDDrV041f16ppbDcG+4qGujsAAAAAMHjodDqNRrNYLBiG0en0Huambjwkg+O4xWJBUZTJZA5YJ2+NzWZnZWXZ7XYcx4OCgvbv379w4cJbpll1Y7RiNCpFwO3pLtxrqBRULOA4naTWYBvqvgAAAADAYGOz2QiC2Gy2nndzu+lIkt1uZ7PZQzjXBkGQWq1euXIlDMN8Pj8zM5PL5fY8d3hDJAlBMAzWu3eDIDB0j5aLAgAAAO51TCYTQRC73d7zVm43GEnqrEt0y6zvgYYgCJfL1ev1zz///MiRI7du3WqzgZEPAAAAAADuiCvCueVI0o2DJIIgUBTt68RWPyIIoqmpad26dePHjz958uRHH33k5ub29ttvHzx4sE/79wIAAAAAAHRDpVJRFMUwrM8jSU6n02azwTA8tOvaCgsL29vbJ0yYMGLEiAceeGDlypXBwcEXLlwAU0QAAAAAANwJ13QZQRA9BxU3CJJIkiRJEobhPi0i619Op9NkMpEkyeVyURRls9keHh58Pj86Ovouzb+22awmk6GvZzkcdofD3te40GoxW8ymvrYFAAAAAPcOGIZJkuw5TuopD3oIwxEWixUWFnb06NENGzYEBwc7HI4jR45kZ2fn5ub2S/lvDMPqa6suFZ+x220QBPEFosioOINeV1NdYbVaEBgRisQTpszCMCxv83rXKakZOf4BwUjfA0ezyXil9EJlWWlAUGhG9phenuVw2C8Vn921/Zd5T78sDwjuZcBqNOhLLp47sHt7SFjkY0++0NeuAgAAAMA9gkqlIgjimnG72YdsT4nbQziSRKPRYmJiXn/99ejoaB6PJ5FIHn300dmzZwsEgn65Poqi7h6eBEGs/XZp/sHd7h6ebh6eHp7emMPx47pvK8pKQsKiXYdFxyWt/XYpjUaXunnAfY/Paqsr9+z4v82bVh/ev8Ng0PXmFIIg6mur9u3M+3njyv27tlnMRgjq1UhSbXXl/t3bft6wct/OvLbW5r52FQAAAADuHSiKwjDcc07SDUaSSJJ0Op0IgtzGevv+AsMwh8OJjo52Lc+DYfhmFZvMZrNrIV+fro8gCJfHlwcEi8QSm9Xq6xfA5nBRCkUklqpVSpFY6usf6DqSQWcwGMzUjFFcHv82htbc3GUJyRk1V8vra6t6eQoMwxKpe0JyZltry5EDu3s/1yZ1lyWlZpUUnzUaQB1tAAAAAOhJbz7TbxoG/bV5x5CCYZjBYPR8zL59+0wmU1paWkBAAI1G69PFuTy+u8zbaNDBCAxBEI5hGnUHhmGtLY2uANHpxAtP5D/x7Ksenj493w0cxxEEuT5W43B5AWyOh6d3nzrG4fI4XJ5/YEifxq64XB6HwxVL3Xp/CgAAAAAANzNkY0X9pbGxMS8v76effpoyZcr48eMDAwN7X7mAxWJLpR5atcpsMpFuZIey7cjB3XabrfzyJQiCCIJoV7SWXb749gdf9LzQD8fxP/MP2O22hKR0Nw/Pbj9FEOT6iUsMw9oVzZXll+12W2BwWFBIhLJdUXT2ZHRMgl9AkOsYlIJeH5fV11RVVpRaLeaY+CQfv4D62ura6gpfeWBAUCidzoBhGIb7IWcLAAAAAIC7PkiCIKixsVEikWzatGnfvn0TJkwYP358UFDQLYegIAii0RlcPh/D7Aa9zmI2NdbXuLl7uss8jQYdhmFOJ35o3+8padkCobjn6xAE0dRYZzYZwyJiettpkkRQlCSIo4f2lJVeeHjuMwVHD9msVr1Oc4vzIJLFYm/f8r3ZbFJ1KJsb67RqlYfMG8RGAAAAANC//glBEgRBL774ot1uP3PmTF5e3qFDh8aNGzd27Njg4OCe955jMBh8gRDHcJPJ2KZoPlv45/gpMzRq5ZXSC+qOdp1WXVlW8ub7S2/ZOoVCycoei+GY1M2jlx1GKRSxxC04LPJUQX7+wd3evnL/wBB3Dy++QNjziR4yL7FEunrZkj/279SqVQnJGbEjkiVSj6HdQAYAAAAA/nn6J0iyWCxms3lIamGbTCaCIEaMGBESEpKTk1NYWFhQULB9+/Y//vgjNzd3zJgxFstNnyOVSmOzuTabtbG+BnPYRSJJYFCYUCwhCVKn1RzatyMpNUsklt6yDwiCBASH9anbCILQ6QyRWBoUGn5wz3YYRmJHpDAYt95OmMliMyH2iKT0A3u2Z4+eGBYZKxTdYqDrxkgSxxw6raq9vX8WDPbMVfjKZDJRKBRPT0+JRDIIjQIAAADAneifIKmiomL9+vUGQ5+LJfZL0yaTCYIgHo8XFRXl7++fnp5+5MiRdevWrVy58ujRo1zvON/wDAjyvf5cCpXKZLFxHK+vuapsa5k0dTaLzfaQedvttuLzhY31NXPmPTugnadQKFwOj0KhiMTS3kRIncIiYw7v38ETCFls9u01TRBEh6Lh3K7fju/k3d4V+tqczWaz2WwoigYFBX3zzTeD0CgAAAAA3Il+m25jMBgYhvXX1XqPSqV2XXdGoVAIglAqla6RLQ6Hw+MJUcqNp6JoNBqbw9Fp1VdKijNGjZUHBNvsVoFIbDYZ9vy+5YGH54ul7l2Pr6osa2mqt5hNPn4B7jJPkdjtDqskmIyG2ppKT28/RWtT788y6HUNddUWs0mnVdusVjr91tlXN0LCMEyjM3qekewvCIK4ubnZbLb169fL5XIQJAEAAADDX/8ESYGBgS+88ELPW+kOkI0bN9bU1EAQZLPZrl69unfv3vPnzzc1NSUlJY0aNSotLa20FalTOm54LoKgAqGYzxfq9dqU9GwqjYbhGI/Hh2FEKJKMGju568FlpRfzD+2OiktUtDZfrbg8Ycosoeh/M3F6rYaESDaH1/vcIKNBX1l+mcvlh4RFnjr+x+w5TyrbWt3cPRk9Ri1OJ15w9KBQLOHxhe2KVoNBZzYb2WzuLZOZrn/uIqlnwuwFE9P9+3Ti7XFVc2hoaFi/fv0gNAcAAAAAd65/giQ+n8/n8/vlUn0lkUhQFL18+fLhw4eLiooaGhoCAgLmzZuXnp4eHBzMZrPrDLWQ8qZLxvh8YXxSKl8gCgmPgiAIRVG+QMjhcmc+PE8ouiZvpuTCWRzD4hNS21qbq6+WMRiszoX9Vqv597wfdVrN5PsfCg6N6NaEQa/VqFV2m9VkNLjiyJam+pIL50iSxByOkaMnFJ44+seBXft25NEZjDETp7nOwnFM0dpMkIRa1UE4CRSFlG2tFWUlZrPJaNBlZo9rqK2uLCvZtW1zdHxSZHT8Xz2xWGxWCwRBOI5jGNZTxAbDNAZL5iUJDg7u4y2/fVqtdtDaAgAAAIA79A9Z3bZx40az2RwYGDh//vyMjIzg4GAWi9WbE+kMenhUXHRcEofDgyAIRVCR2G1EcmZicka3I718/doULZdLimqulsUlpIjEki6lI2Gz2WQyGZ043u0sk9HQ1FDH4/GT07MRBGluqhMIxAaDvuLKJR5fkJE9Vh4QbLNZE1OzGuprsnMnuObOrFZLY30NBEHjJ88wm421NZWBQWFWq+Vi8RkOm5s1erzM0/u++x+yWMxGg14gEHK5fAiCDHqdoqVJ6i6bNG22h6d3Y321ROrR1xEmAAAAAABc/glBkq+vr7u7+6hRo7Kysm657L8boUialjlaHvDXaAqKoj5+AXOfepHH7x5beHr57aj/yVceEB2XlJIxisPldv6IyWRNnfkI4STcPGTdziJJksPljcyd6PonAiMIinr7yMdNnkGlUkPCo1CUEhQa8fQLr8MwHBIe/fdpEIKgqRk5qRk5fz8ASdw80jJHSyRuXj5yKo0WER3/6BPPU1CKp7cvjU53tUVnMEaOnjBy9AQIglCUAvV6SxMAAAAAALq564OkkJCQhQsXxsfHh4SE9L7WdiehSNx1CT2MIEKRODltZLfDcBwvK71gNOovXyqaOnOOUCRGkGuKaPv4Bdzw+lwen8u7wUSkQCjq/G8GgxkZM6LrT5ks1vXTdlQqNSk1q/OfKIqGdgZVEARBEF8gBONGAAAAANBf7voyzRkZGY888kh0dPRtREi9V3zulEGvS80cbdDpftqwoqWpgRiKLHUAAAAAAAbNXR8kiUSiO1yH3xvbf/0+KjZh7lMvvvzGB00NtRp1h3MoKmcCAAAAADBo7vogaXCIxFK73dba3GSxmsdPnuHp7Xv9nrUAcOfsdntlZWVbW9ttFNTAcby1tbWsrGxIinEAQDcqlaq6ulqjucV+lDdksViOHDmi1+tJkFgJDCkQJPXK408utJhNWo1Ko+oYO2m61M2jy9I2AOgfdrv9/Pnz58+f12g0t/HZ4HQ6VSpVUVHRuXPnQJwEDK2mpqbTp0+Xl5ebzea+nkuSpMPhOHfu3G+//aZWq0GcBAyhuz5xe3DIvHxlXjfY2AS4++G6mjN/liqs9q5RBcc9IDAw0Nedz6Sh8M3OJO265qqqSiUsj40OEl+TEkdgFk19+ckKWvLYKBnjf1cgtVcP5bf6ZKaESJmUa8NsDMMKCwtPnTo1atSowMDA25hEptPpYWFhGIb99ttvHA4nKiqqr1cAhhPC6TB2NNbVXKlstkEQSqG4hSaEy72lHAoEQZCltajgNB6aE+8j6OE1emdIp8PYVHqoCEmbHOfFuLYRUl/354kaYXRCiKeQ0f21qlQqDx8+jOP42LFjfXx8+touDMN8Pn/BggWffPIJhmGPPPIIm83uurNCr5+ATVtfWV5S0WTr8iDK5Ij8I6L8PKU8+gDduNtmay0+WIpFJcX6CRmU4da5exQIkoB7nL3xj2UvfFrjHeHjwaG55lBJB03g5eWbMmna2MRIT87N/khIQ0PhtnX/PU6Z8/nia4MkkrCqKg9teO5L0YYz4bIuHyHOun1vPbF/1m+bXh7J4CDXvAk2NTXl5eWlp6dHRETc9ioEGo0WFhYWEhKyYsWKr776in27W/sBQ43Erer6S8e27TzXXF3RBtEgGLKLwsr9QlIfmDIqSEiBrK1Fh3Y6GHGRnvyBC5IIh6Gh6LffKb6jY7wY1yYYEE3HP1v0XfxHK1+cKpBd83lus9n27t1bW1s7ffp0f//bLOgPw7BEInnjjTcWLlwYGhqanp7e+80MujwBff2fW1Z+/kuxJDrSnQW7nhNJo9C9oxITRj04JdOTNbwiEX3xj8++r/9o7WcP8xg3feMBBhX4NQAABEnu/9fyhRODREzX+6ixat+KD9/7fidDKvNxDxUNfPoZjuO7du1CUTQ2NlYgEHT9EUmSNpvNYrF07o2IIAibzb5ZAMRkMrOysr788svz589nZ2cPeNeBAeEwKa7kb/xxq23S51+8myvnkZi2/s+t37y5/M16xi9fzQzhiBOf/uqHAe4EQuV4Zz/9Sx9fRA0NDQcPHkxOTg4LC+v2I6fTaTabLRZL5yMUCkUgENxs3FQmk+Xk5KxZsyY8PFwqld7OYBIEMYOTpzz35ZIJchSCIIjETE0Xd6xb+vXackl08mMRA7goGvhHAEESAHQHc/3iEsIl2+tULQazgxTRMbOmrb6uuV1rwik8scxb7ucmZNH6scWOjo7t27dPmjTJw8Oj6+NWq7WhoeHKlSt1dXUmk8n1oLu7e1ZW1s1m0xAEkUgkY8aM2bRpU1ZWFkieuyuRDoumualME7kwN1vOhyEIpgrlWQ++tKjopwVbj718X1A4oqm4UOr0Swz14FJhzNTRWlfb0GGyIyJvLzausjJkPl5eXGd7TVWHA6UhmEmn1WNMobtMJqCZOxQtSj3J5rv5BAZ5SpgUCCJwu0mraGmqb1I5KDSG1C/U10PCY8C4pa36dDkcnRnqRodJu765pqJKYcSdVL7MrLbhxI2ShU6cOIHjeEhICIfD6XyQIAitVltRUVFaWtrW1tb5uLe39yOPPNLD5HJGRsZ77733/PPPC4XC2xlM6g6mssU+MTFh3sd217QboAgp6bQbO5rra2vaTDCM0D2DI+VeIjYFhiDSYVQ211U0dNgxJ00qD/LzdhcwqQgMYRZNe1N1Y5vOZIcgjtjT21fuLuLQILOqtlahscFsql2v1JjpXKG7pzeP1CqamtUYnSX2Cgrw9WAjdn1bVWUDLPVGtZWNWhhhCP1Cw/2l7O7za06bvr35ak2L3monmGIvX18/DyGbTnEaWsvr2h0wlYZbdATD3S8gQMIBc3MD5p4IkgiCJG7413yvIkkI3JAeEHaDRq1zshhsDp2KYMbmkpPHjuw6WFTdqsJo7r4hSeOn5Y5MjfTsvxZrampMJpO7u3vX7XQsFsupU6e2bNly+fJlDMPMZjMMw0KhMD4+Pi0tzel0Go1Gh8Ph5ubW7WoUCkUul2/cuHHZsmXdxqWAuwRKZXF4ErLhTMGf0bRIDy6VyhZwWF6xo6dlFwlRCIJUZ759/nHra398PTOKpi7esy//z6OFdSoTEpQYRZTvagl+atGz86NN+1e8k1dP8/Tmk6qGqlaC6xcWF+HnbKkqq2y0sjnyjGnzHnpkpJxhV9VdKdy371TlmbOVViadFpA8KTlxzKQxAUjjkW+nLqRtrvxympu1qXD76l/2nKo1UEi2V7S7tsVkua4QisPhOHbsGIZhXV+WBEE0Njbu3bt3x44dCoWCIAiDwSCTyWg0Wlxc3EMPPdTQ0OB0Oul0ulQqpdGu+frh7u6OIMjFixdHjBjRH0ES6cSsRpXWaKVLBSwqidu1jcX7du49efLPq1oa4qSFj52YOemB+2LcmY72c/u2HTmx50w1ZjOjvompuTMfHR8fKEH15QW/79n3e2GVwWyFjExxUMrk+TMnZ4Vym05//8Wm3bXUpHCuuaK8hqSyveJyY4Xq2pJL1QYaRRY59sEnn83xNV/Zt/TFpYacJ6Kth09VoTiFF5370BOP3xfn1mUvLRLTVv+57/DxPYdKVWazg+8bm5A8cfL41HA5XHX4yyW/VDndIsSojhc4ZtZj3mIQJA2cf36QRKMguNNpsWMkSd7eaO0/D0EQZosdhmE6DRQygCAIguwtlcVnhUpXIidp7yg5tLuUGnNffIwHH286vnXz5hpO8vzFizMCmKbyI+s37Nycp2cunB/Sb+23tLRYrdauj+A4furUqU8//dRoND799NNxcXGnT582GAzjx4/38fFhMBhNTU0nT57UaDQvvvhit6shCCIUCkmSbGlpAUHSXQlmCv1SJs6/v3LZL4uXdzyaIdLbRHEx3ix++pfbZ0g4NBjqXFePaYp//XxJWcyri1Z8HutmrTiw5rMjZsP/BiTbNHjAlMdfnTECKd708ZLlv7RmPPfGe7987dX+57rl27b/8OeIODe/pvN7ftx+UDT9s00fxAiwttL9G5Z99/4lSuCX4/6+CuHsOLXqnf+eyn5/1aeTwkWWii2fP72TtF23hlKj0VgsFqFQ2HUYSaVSbdmy5ccff4yNjX3ttdeMRuOhQ4dyc3PT0tIgCCooKLhy5YrFYiEIYtKkScnJyV0v6OXlBcNwVVUVft3OmL3kNGpay4oKea0IBEGQ06atu3jgz6uOyNlZgRybpqZw61fLLyW8u3jHyjCBs7087+u5r38JBy9/KqLtwBdLD4a9+8WPS8OFtuqtXz73/W4PLw9JMlGwacV3V/1mvfj1kzlyuHznF+/9cuB3d/9gvxQIgiCt2unmMfa5F5ZIWw6uWfzvX7Z0zH7985VLIpwVOzd8vnTjb2mxLwdBTptDU9aOvPDpvo+8Ke1n1r350usf8oK+nx/b+dWV0F3due6rrei455eszwmV4M0Fv3792ebfCSp3TjwEQTaNEvJ7cPaiR7PCxUzwqTag/vlBkqeYyWNRdQar2ergsMAENARBkM2BKzr0NAoil/GGui/Dg+7I958V7aBTEBhypau2a/0mvBwa4M521Pyx64jC6pvmjupqL1+EIBsppOv0zWeKG6YH92oT5d7QarUOh6PrI+3t7Rs3biwrK3vrrbdcq3vq6ury8/O9vb0TExPVavWlS5f27Nmj1+uvD5JcSJJsa2uLjIzsr04CgwimsGVRU17+NvP+kqLyqot7128//5PFapbnPv7QI09OT5R1JqSRuvJj+WVRk58bGSrjMmjc2AnTJ/52cM//RmM84hJyMkaEuElMPsFSn5hoXvKohHAhG8K95O489GxDq6KDVlHdcFU856uxcW5MCGJ6hOfMmlq299X8003ZqX+1gmmKD2wpT/xwXW6wkI4ijMj7H3xsy67v6TeezOVwOAwGw/XfTqfz1KlTe/bsCQsLe/311xMSEhoaGk6fPr1+/fr09HSDwXDs2LGcnByLxbJ58+aKiopff/21f2+lrbG0YP0n1VtdS9lIp8NiwRluua8k+zNtusundu8+Ib3vMZmppug8BBGkTB6D/fR7YePjcsxqp1sNrdUlZfQgb0lS7sydf1D1VocBs+DiqJS01FApE8McQpm/kNNit9gwV8DoGRGWNT4zWiZxYPLA4Lgoa0BOToIHEzZIAzz9OL+db1A7gyCYxRWNeeixXD8mDEFuiY89PWPN6IMna2dHdm7+aSjdtf4YEfuYD03fcOViA0SiXCm1oryipFEZzIEgjn9GwsSxSSBCGgT//CDJx43rJWXXtelrm1RBvlI6jYKi926WBkGQNjvWqtRfbegQcul+IEhycX98ya+didukve3kprff/Hrr3vAY34mISm2pKNh7oeLMj//7ROAmjKdTeqzeAiMogpJOZ+8Ks9NotG7JQyUlJQ0NDTNnzpw+fTqbzSZJksvlarXakpISCILEYnFubm5bW9vOnTt7uGx/TE8AQ4HALDpVi9Ih8PVPGReUMggyrb0AACAASURBVO6+h1/R1Z8rOLpzzQfPfOD0/enfGX+/+AidorJNFOLlyaFRIQiCYBqDRe9a69ZbwHFj//1ZynPjunvxmQgEdb4wSYtR2aqrdvjP9Pgr6EeoDKHMO4y40Kb5e+k8aWuqLFV5jPf3ZKCutXQsWVCsN4PV/QUGwzAMwxiGdVbq0uv1J0+eVCqVc+bMiY2NhSCISqWyWCyz2VxXV+fh4TF79uyEhASLxUKS5Hvvvdev9xGCIIgdmf3I/xK3nVbllfz1X/3np3WrsuKWxOuUVxv15Rv/89zW/30Wyjy9GDDEDr/v5Rl/fv7z+8/sSJ4zLUHM8Xriwfj4QLEAnfrhp4lKrUVbfbZKY+goL2/TWLw7T+ZzmGI+hwJBDgiCIAGT7i/iIRB07XsFhU71jJO7u34pMMr2C0uC9rSrrYTHX8eR+o56le7q7tUfnfyR/r/Fi4ExAtfgP5VNZzCpYI5tMPzzgySJkBXuJ1KoLJeutmoNFj9PMY/DGOpODQ2SJC02rEmhqWzoYDPQ7FhP/r16K3oE0z1iMnLittSjdjNOCCgUJG7qc3P+9cLoUB4KQU6bXqMx4xSeWGwtv9kVEJTK5fHcCJVKZ4c8Ov/KSMxuw1AGnYZ0e3fz8/NzRUKddfOqq6sVCsXUqVNlMhkEQTab7dy5c2q1Oi4urjfPgSAIBEFuo0QNMByQVuXVA2sXfVI+cc3K17OkCASjVGFg2kSfQFr1r8+dqVLj6Z1DSZhNa3A6OnOoSRxzOAiiD2PmMIzAEEzYHRgBQSjkStvR6zoQbiqn8zIwglIgzGrHCJKEIBiCCMxucRCM7l8UGAwGk8nUaDR6vd71iEajUavVERERaWlpFAqFJEmDwaBSqaRSaUBAQNeXKJ1OT0pK6nZB1yxbt0SlO4AyxT6RaYnJOy+1muwkTKEI3KTT39uzcpoPAkEQSdr1TbVaho8PBzIbA2Z/u/NR9ZUqhanx9PpVqz5gT/z60+eyqSVbNyz7rbCViJg6e2xmAJNG6XPSAkmSmMWO/fUBTBIOmxniibgMBPr7jQGl0CmS5Oc/+nhBdoiEAUMkbla3qp1MAV/ovHKin+4F0Bv//CAJgqDYIClJkidKFDXN6sqGDuIert+KQDCFggi59Iwo9xFh7kPdnWGLyuCwUApJkAhX6u0nPlLRVtOoTA7icEl7y/lfV204ZQmY88q/4m96PkJlirx9w1jFhefrpvuHC+goBDkxs/LiyWJtQEqUP7fbl0Bvb28mk2kymTrX+bu+i9PpdBqN5nQ6q6urm5ubk5OT09PTb9l7giB0Oh2PxxOJRHd2H4ChATO40oCgVPHJS+cr20bw3dk0FCJJ3GbU6nQwm8/q8upBxX5JwVC7psNgc0iYNMJQd+VSnU4X3Pu2qEy+iCaCq4orlekSGRMlbEZlTXllm9hXJqB0HiT09BdrLl6qUKcKPCk00q4oP3emwZTl6HY1Pp8fHR198eLFzsWYrtDf9WokSdJsNl+8eLG1tXXGjBmdERJJkkajsb6+/uGHH+52wZaWFoIgIiIi+i1OQlAKk8mlQiSBUFlSvyApcvhiWfs4TxkDcZjVxRvnTtiXs/Pn131PvD9unXTp14smp4WwM7MS/RgPfXpV1VpTcHb5L42+D3+66snscAFsrs+v4NGr+tgF3GJvPFFatSA2ikMh7Yam4tOnud6ThVT479FkWOQTFWA5VlFZp0mQi2gUp6HmwPJXNlkzn5y3IKt/bgPQS/dEkISicEKYe6AXv7ZF19JhstpuMwHwH4BGRb3dOcE+QjCG1DMERmC7UqU1Ot2jJ4zyaTxXcvxEoBiT4dUFvx1SEj45Y6JldMjgWjutaWtubOzcewGl0LgiN444dsz8p84sXLP+B7fHp4WJYdLYcPzXb5brHvhkcoKUQb12KMnf318mkzU0NOh0OqFQCEFQamrq8ePHzWZzW1ubw+E4cuQIl8t96KGHAgMDb9l5m812/vz5Rx99lM/n9/udAQYDyhYHJ46Zfv7jH77fJLZPyg4Wk7hDUXZ49479HrO+G+VLRZR/HyqKGj3W65X83/d6cseFCYwXtv2a39IE9X5RAcx2D8kamdNQtz5vezBjXJwYV5QcOVCkSnnz1VxvWtNfBzH8Jj37/oQXdu/aF8XNCRNYq7Zv+01hMhM3mPBJT0/fv39/SUlJVlYWiqIymSw4OLi4uLimpobD4RQVFRUUFOTk5EybNs11vCtyKi8vt1gsOTk53a5WW1vLZrNTUlL6bzAJhmCExHFjq9rKiEnIHZ++J3/f1uOSKaGC9uJfN+ysnvDoF7FiGj9x6qQVS/btGeEDx8voprKiCqO3r4e7kMcX8igWjaKpvp7J1l/64+CfdXWa4Hij0WKn9/rrt8NqP5+/c38YLUmK1xz74fsCyfxPsv1ZVN3fB7BCch6fsuW7y4eOnhU7A+ntZ3f+ekEYeX9qjJeIUtNP9wHolXsiSHIRcBkjwjxGdC9vBtzjYCpL6CbhMNCuU2AUtshTyjpypOhcbtojExa86xm+e9WKTx/+d5XZJ3ncwwtefWBkjIwBqakMDtXeeGDN8/lr/neuVB7xxGdbns8U+4989j8/+Gz/8c2pmR0QhKBQyjOf/bxqSkYAD+0+3Uaj0RYtWvTdd9/V1tb6+vqiKJqUlPT6668fOnRo5cqV7u7uoaGhjz/+eNeRoZttaIXjeH19/YkTJ/bv39+f9wkYVChDHJL19OvfBO3Ysu61Ke+oIIjGYGU/9ckzexZlRrtRIQil8yXuNAYVpklGPvPtd14/fPTBgmVtGs6ohyYm+FxtY8IIDCFUFl/E53BcJblhCp3H4ws4rg1xYITC4PBEQg4dpXG946bPgZibf1kzc+lliCuSjXvmoyUPjg9nYToKk+fhTmOgMMSOfvjTT+HVny2a9anZLp/40mMLZrYd8uJRryv3PWLEiIiIiKampubmZj8/Pw6HM3/+fDc3t927dxcWForF4ieffDI6OtqVMEeSpMViuXLlSkVFxcsvv4yiqN1u76w4j2HYgQMHnn76ablcflt7iiNUJpcvFHK75PVAMErnSqVSnvHA3uMzU2eNfmrZrwE/rf5s2tJahOKZ9swbu+ffFyOgIrD8vg+Xmb79ePH87zQmByQaM//1Zx6eHOtL9/uQpH3535XP//SOLSj3gQcnPvY4bffvZ/b+HiibwOMKeEIWkwpDEISgNCaXLxSyqAgEQRCCUllcsUTIpMAQROEw3McF0/LfHvNKHUqNmPnWsv+bk+lDR2GEwXUTQywqinCCZ737c8D+nz/+6OnPmzscMZOfevKlJ8bEevMpRiqTz+fTWXSQkjQo4Ovfas1mc0tLC4qicrl8SPoE/FOVlpbGx8fL5fLq6uqh7suw43A4vvnmGxqNNn36dD8/v56LQJIkqVKpNm3alJ+fv3PnThqN5ipvQZJke3v7ihUrwsLCHn300cHqOzCESKfdbHQgTCaDRkFgEtOd3/jsqxVRT8994oFYT8bQfI6WlJRs27YtOjp6ypQpncvcbshisZw/f/7EiRPz58+HYbi+vl6n002YMAGCIKfTefbs2Y8++mj9+vWenp7/lAIuDmPr2f/78O0fE1blPx19D41SDEtarbajo0MikYhEoptF4ffuOi8AGFZoNNqCBQtaWlr279+vVCp73vncarUWFBRs2bJFqVT+9ttvrvIBJElqNJpt27bx+fxZs2YNVseBoWWs/PWNrHkfbzxRpdAYDI0XDxz4UxXtGxrtIRq67VtjYmImTJjQ2tpaVFTUucztegRBXL16dcmSJZ9//nlYWFhoaOhjjz3mqkJJEERdXd2KFStWr14tk8n+KREScPcBgSwADBdisfiDDz746aefLl26lJmZ2cP2tBQKJT09fevWrRAEdc5NmM3m8+fP+/j4dGZ7APcAXsQDb64n17y5IPdthRaD/HOfePGNF2dkBEuGaBTpL+np6Twe7+LFiwwGIyEh4WaH+fv7f/vtt53/dBWLJ0nSZDL9+OOPn3/+uauY5KB0eXDAEASjVNqA7UoM9LNBnW5ztXV9i67SGgPUluvKnZMR1z94h624rtn5FG72SL+02PUGdr3U3fImAqbbAAAAgGFieE23VVRULF68OCoqinWdrKysQ4cO9WNbpaWl7777bmhoKIvFys7O3rJli0aj0Wg0GzduTExMZLFYMTExa9eu7VykenuOHz/+4IMPuvbbuu+++/7888/9+/ePGjXK9aQWLVrU3Nzc3Ny8aNEiFosVHh6+Zs2aW1/05vR6/a+//up6UiwWa9SoUWPGjJkyZcqHH35YVFRkt9vv5OIAAAAAAHQzeNNtISEhU6ZMuXDhAkmSL7300gMPPMBkMp1O5/nz54uLi93d+7NmT2Rk5LRp086ePSuXy99++23XSlQIgiZNmlReXq7T6RYsWPDkk0/2sPV0b2RlZeE4XllZGRwc/Oabb8bFxSEI0traqlKpRo8e/eqrr3p5eUEQ9MQTT3A4HDc3t3nz5t1Jczweb/bs2cuWLautrX3nnXcWLFjg7u7e1ta2fPnyV1555aGHHpo9e7ZEIrmTJgAAAAAA6DR4QRKCIK4yrElJSTk5OSKRyDVJ5JrUc8UT/dhWR0eH0WhMSUnx9/fvDIZcY2tyuTwhIeEOIyRXK0FBQWw2G0VRNpvtWtHK5/MZDIZAIOByua4n2NDQwGQyJ0yYwGQy76Q5GIbNZrMrCzIlJcXT05NCofj4+MyfP//q1avffvutSCSaNWvWnT8vQKVSFRcXl5aWbt26taqqr4XiBkpkZGR2dnZERERKSkpAQMBQdwcYjlpbW0+fPl1cXLxnz56mpqah7s5foqKixo4dm5iYmJCQIJVKh7o7EARBOI4rlcoLFy4UFBQUFhZevnx5qHv0l9zc3JCQkPT09NTUVIFA0PMqV2AQDOoHallZWU1NTUJCgru7u+sjH8dxLy8vd3f3npeJ3oaLFy82NzdPmzata2mZlpYW125B3t7ePZzbeyiKds0HwjCssrKyvb1dqVRqNBqRSNTa2trQ0ODh4REUFHTnzVVWVloslhkzZgQHB7uCIQRBwsPDExISioqKiouLs7OzXbtYALfHbrfv2LHjq6++qqmpwXE8LCxs+vTpXfczH8KOXbp0admyZa7M1rlz586dO9dVdhIAIAiy2+0//fTTihUrGhsbMQxLTU1NT08fDpv32Wy2S5cuLV26lEqlxsbGPv/88xMnTuxhUcIg0Gg0mzdv/vjjjzEMQxAkMjJy+NTL2Lx58/79+1etWhUdHf3qq6/m5uYOh/efe9ngBUkqlery5ctcLjc+Pp7H49nt9pMnTxqNxpkzZ1Kp1FulHpME1nFx3Rv3f946a+Xajyf4MRHF0U8WvXZI/tKyV2bGenCvLaulVCpLSkrc3Nyio6O5XK7rQZvNVlRU5KpE7OHhcZOGnHZd7Z9rP3rxZ/tD3yz7T64MwhoOvfP0wj+Tvvq/tyf5cmjXhvUymYzJZJaXl2u1WgiCysrKCgsLlUql0+l0pVefO3fObDaPHTv2hklhhLmt/ODaf39wAHr083X/yhRh2prdSx97tyxn+epPxntd/w2irKzMYrEkJSV1jfxQFA0LC3N3d9fpdGaz+bqTgD747rvvVq9eLRaLFy9enJmZKZPJGAzGMMmLdzgcHR0dxcXFeXl5y5cv12g0r7zyCoiTAAiC7Hb7ypUr16xZEx8f/9ZbbyUmJorF4uEQIUGufcowTKFQnDp1avv27e+88051dfVrr702VN1TKpUbN25cuXJlfHz8vHnzEhISxGJx/5XzvlPvvPOOXq8vKir697///dRTT33zzTdTp07t/BQDOjkcDrVa3dHRwWQyg4N7vw1Pnw1ekNTQ0NDS0oIgSENDQ15eXnFxMYVCefDBB6FeLc6CEYowfMrcF46+8vl7a7OiXk+u2fTxpkb/Z5/J9Beyr1tL2dzcrFarzWbzvn37ysrKXA/abLbjx4+HhITk5OR0rpq+DkrjeMZNmvlg4WcbPtyUGfF8ePHat9YpEz+fmenBpF4XtrhGkqqqqnQ6HYZh+/bti4mJMZvNJpPJYrG0tra2t7fL5fKbDSMhTJFv0vjZ40s+/n71uiTvZ91Pr1jysyZ9yeMZ7jccY924caNCofD39+/2PYxCoaAoShBEz8V1Bh+GYXq9vjNBvqWlBfq7JHTXwzw8PPp9KPE2nDp16ocffoiKilq0aFFcXJxrInWoO3UNsVjs7+8/YsSIdevW7dixIyAg4A4T3YB/hgMHDmzcuHHcuHELFy4MDAyk0+nDbZpGJBIFBgZGREQsX778wIEDaWlp2dnZg98Ni8Vy7Nix1atXp6amLl68OCAgYLjdKz6f7+HhIZfLIyMj//Of/3z//feBgYGJiYkgj6Kbtra2tWvXXr58+YMPPhjQhgbvvtfW1ioUisjIyLi4uJaWljNnzkRFRfWhygBMZXqmPvXeCxemv/vJV7bUc3lN8a++NWuEj4DefYsHCCotLW1raxs9evSsWbM6t68qLi62Wq1eXl5BQUE9hGUwhSUOzpr/Uu2VBV+9s0Sdfmqzetwnbz4QKaTfuK7FxIkTq6qqjEbjpUuXxGJxXFxcXV2dVqs1GAx1dXUYhmVkZNz09Y3QOJ6Ro+c+XlO95Lt/f6KIafzddt+H/5oSzLnB8S0tLWq1Wi6X+/v7dwspTpw4UV5enpycPNz+kDAMy8/Pf+eddzr/CUFQW1vbmDFjXI8gCJKTk7NixYoh62IXmzdvRlH0mWeeSU5OHg5B2/UQBGEymaGhoTNmzCgvL9+1a9fEiRP7d9EDcNcxGo1ffvmlWCx+4oknwsLChtubgIsrcTMlJWXOnDmffPLJpk2bEhMTB3/STalUFhQUCASCl156KSwsbLh9C3Jx/ZlHR0fPnz//3Xffzc/PDwgIcNXYBDoJBAI3NzebzXbzeaH+MUh/ThiGFRYWVlRUTJkyJT09nSAIOp2OYVjfRhFRpiD8/jffKHjgo1+2+E394KUZSd582nUhEoZhx44dq6ure/bZZ7tui1haWtrR0REeHu7n59djMzBCE3qNmP7Sc4Vzlm7ZEvHwl+/cHym4SYgEQVwul0qlqtXqkpKSuLg4127VTqezubnZbrf7+fl5enr21BjKlgSmzHpy8ulnV/yuyHjgsxdnhvJv+Fu5cuWKxWJxfSh2DfIUCkVra6vdbpfJZMMkKbITg8EIDg4ODQ29cOHCzJkzu46oYRi2d+/ewsLCyZMnD4e3KlfGa0ZGRnh4+PCMkDqhKBoSEpKWlrZ79+6qqqohDJJIkrTZnXqTbag6MNRgEZ9Bow7xq7ehoUGhUMydO1culw/PCKkTnU6Pi4tLS0srKSlpaGiIiIgY5A5UV1cfPHhw8uTJqampw+FtpwcUCiUnJ4fNZl+8eFGr1d6zQZLRaHQ4HBwOp9v8j9VqJQgiNDR0oD/1BukvyvVBHhwcHBsby+PxYBjOyclxOBx9HuekUhHCrtbr9O0oR8ihoTcYEXLlTUdHR4eHh7PZbFc8odfrq6ur7XZ7cHCwWCy+RSswBFEokNOu0unJdirfjUu9+Xygp6cnk8k8d+6cKxrw9PRksVjnz5+HIGjWrFmxsbG3+lOEYRhFSdysMuh5JpTH595k28Li4mKLxRIVFdUtj6+oqKihoSElJSU5OZnFYt3iqQ0uBEH8/f0nT55cVFTEZrPnzp3repwkyaampqVLl2ZnZ48ePXo4DHfX1NTo9fqIiAgejzfUfbk1oVAol8uNRmN9fX1mZubgd8BkcVy8qixv1GlNDqeTGPwODBMUFPGWsBJC3QJ9hNdtWzxIXJnakZGRQ5sN3UsCgcDHx+fUqVMtLS2DHCTZ7fb29naSJGNiYq7/ImQ0GkeNGjWY/enm5MmT3XolEAimTp26efPmtra20NDQoerYECotLV21atXp06dnzZr15JNPdh000mq1NpstISFhoIPdQQqSmpqaVCpVZGRk51SXh4dH1wQau91eXFx87NgxmUymUCgyMzPj4+O7Z/WTuLVy9/L/lgZNnSE5s3/j5nFJb04MEzG63aGqqiqNRhMXF+fn59c54qJUKltbW135HJ33tK2t7fjx41evXoUgKCYmJjU11fWlnMTMqov71m+ojZ45za0w74t1k5Leyfag3vgtkMvl0mi0ffv2ffrppwEBAVQqFUEQo9Fot9t9fHy6rjXTarUFBQWXL18Wi8UkSaalpcXGxkKEVd9ctGvL4aq48ZPEbTuXb52W9GKmuPvvxeFw7NmzR6fThYSEdH0rbGxszMvL0+l0L774YkpKCoIgZrM5Pz+/traWSqXiOJ6ZmRkeHn6H1QfuBI/Hy8jISE5OPnHiREdHhyvDzmq1njt3zmKxPPvss8Nk7YbdbidJUiqVDp8Uzh5QqVRXmTHXrm2DiSDJ1g7zkXONtW1GDCfEApaIz6YM7y/lAwTDne0a46VaTW2bMTXcLTPOmz4Uo0o1NTWugeSbp1oOIzwez93d3WKxKJXKQW4ax3GbzcZms2+Y5oHjeHFx8SB3qSuC6P5lA4ZhkUhktVp1Oh2O48N8mLB/uWafVq1apdVqfXx8du3apVarn3nmmc5gsby8/MyZM2+99dZA92SQbnpxcXFdXZ1r8f9fDV/7+66srNy9e3doaGhoaOjFixfPnz+fmJh47TUIwlT++5crdvEmfPWvefITXzy/6vtNkT6vzIyVsa/JqL58+bJSqZTL5V1HjOrq6mpraz09PTv/PNRq9eHDh8vLy6dOnXrs2LHvv/8+KysLgiCIdJjbL+5Yu+W45/Sv354t3f/RnOXLVsd7vzYpkEe5QZwkkUjodHpGRsaIESNc4UtiYuLRo0ejo6OjoqI6n6bD4Th06ND+/fufeOKJ5ubmDRs2BAcHQ5DTpms4u2PbT5d85n68aBbtyH8Wrf1kbdTaRWN8mNc0VVtb29bWlpaW5uPj03nNK1eufP311zU1NQsWLJg6daor++rEiROlpaXJyck6ne78+fMajWZox2kQBPHz85s4ceLixYu3b9/+1ltvEQShUCi+/PLLzMzM3NzcIezb9brVdBi2YBgeql+r3mS/UNl+tUUvFXFigr34HAaFgtwVN63fkSRpd+AGk+3clcaC0jYOkxof6j74s29Wq5UkyWG4zuCGUBSl0WgEQeA4PshNkyRJEISrAzc7BkXRP/74o+c/rrfeequwsPD9998fPXp0D4cdPHjw008/HTly5OLFi3s4zG63jxs37mY/9ff3Z7FYrimneydIslqt+/fv37Nnj5eX11NPPSWTyYqLi3fs2LF06dJnnnlmxIgRdru9qamJIIhBqBg34DfdarXW1tYWFBQoFAoEQRwOh8PhuP41ajKZbDZbRESE1Wq9cOHCqFGjrv1WRBKYtmLnuo92MqYvmzc+Kpzn+9zT595a9c0GP983H0vzFdARCIIsFktjY+ORI0fa2tqcTqfFYuFyuXa7XaFQHDx4sKSkxN3d3WQymUwmDofjcDhsNptIJJLJZK7kLx6PB0GEw9h6cecva04KZ33x+LgIf1S88IU/X1n175WB8v88dKPsbQ6HQ6VSx44dGxQU5PrTEgqFWVlZubm5XYeRSJLs6Ogwm83+/v4VFRV2u93Hx5uwahpP79/8a7X3zDeeHBPvhfGfn3Pu+Q1ffRHo+/ns0M7BH7VavXfvXqPRWFFRcejQodbWVoIgSktLS0tLhULhG2+8kZyc7Obm5vqgam5uxjAsICDgjz/+aGxsHA4rgV2DSSNGjNi1a9esWbNkMll+fr5CoVi8ePFdMbcFdCJIUqm1ltZp+BxWWoy/WMBGhmiOaZjgsiEhj0WlovsKKs6WK8P9JUOVonRvxqkDoXOHhptxVWAJCwsbOXJkD4fV1dVBECSRSHo+zGq19vBTV+zbWVPmXmAwGH744Yfq6upRo0a5xgXodLq3t7e/v39+fn5eXp5arQ4JCcEwLDY2tms1nAEy4EGSyWRSqVQZGRlhYWH+/v5KpdI1P9XtMH9//7CwsLVr17LZ7OnTp6empl4by8MwyvFMn7vsJygkNVRMoyCS+Af//UVEE+IVLmH9ncRjNBoVCsXIkSNjYmJ8fX1VKhWfz9fr9c3NzcHBwS+++KKrmJBWq+VwOCKRSC6X5+XlbdiwgUqlzp8/n0KhQBBJYUpCxi74KpwakhTApVBIWcq8z1fEtTCDvNk3GkiChELh448/npyc3Dlt5O3tff/990dHR3eNTqhUamJiYktLy7fffoth2Msvv+zr6wdTIY+4SS98kcYIjvTj0hEiMOupjzela9ghHl1vkEKhkEgkCxcuxHGczWar1WqhUBgVFTVixAhPT09XrabOt8jExMS2trYvvviCyWTed999wcHBQ57x4xpMmjJlyvvvv79169aZM2d+++23aWlpnWvcgLsFhjlVOqsNI6P9hBIhG3wwQxCEooinlO/jzmvpMGgNVg6Teo8HjsCQczgcCoWipaWFwWD4+PiIxWKj0WixWHg83vBPXHM4HFFRUcnJycHBwZ01x3k8XnJyspeXV0NDA5vNbmlpsdvtISEher1+oOOkAQ+SuFxuZGRkSEiI6590Ov2G+TEGg6G5udnNzW3cuHFhYWHX56vDCF0QkDDhf0NrDGlY8uiwa47h8/lRUVFhYX89ymAwGAwGiqKRkZGdD7pWokIQhGFYU1NTY2PjtGnTQkJC/l7yBiNUjltIwpiQznZZ7lGZ46Nu+gTZbPa0adPYbHZnLBIaGhoSEtIth9rpdOp0OoPBEBcXFxcXFxYW5srR43mGJneufkNoHK+oUddt0OLt7S2RSLp+k2AwGHQ6nU6nX/+NR6/X6/V6f3//UaNGBQcHD5OMHw6H4xpM2rx5c0dHR0tLyzvvvCMQCIa6X0Df2BxOrdFGQREhjwkipE4oinhIuI3terMVI0gSgcCdAYYGQRC19/7chwAAIABJREFUtbV79+41mUypqallZWXffffd008/vXXr1ubm5q+//nr4B0mueIhOp3ebXqRSqX5+fjKZzOl07tixIz8/Pzc3t6KiIj09fUD7M+BBkitS6fkY14xYa2ur1WrdunXrY489dnurmm/YFpVKvX7NF0EQLS0tCoWCwWBs2bJl8uTJPj4+t9EiBEEIgnRbLnfDugZGo7Gjo0OtVufn5zc2Nspkst6XP+h9MGGxWOrq6lpbW5uammw2m1AoHCYVmVEU9fX1nT59+ksvvWQ2m1NSUsaOHTvUnboLmM1mvV7PYrGGSUCJOwmbHadSUA5rWFdJGHw0CgpDEEFA98ysCGSxWIxGo0gkGvIJfcCFIIjy8vL169c3NjYuXLgwJiaGSqXm5eW99tprSqVy+vTpd0V6A41Gu1nSGAzDrjyciIiI0aNHe3l5+fr6DnR/hkUi2JUrVy5cuDB37lxXDLFhw4aUlJQBbbG1tbW8vDwqKiojI6OwsPDs2bPR0dHR0dED1JzFYikvL6dSqc8//3xZWdnVq1eLi4v7a/+4Tna7/dChQ3a7fcGCBQ0NDfn5+Tt37vzXv/7Vv63cNjabnZmZmZmZWVpa+uijjw7CXPLdzmw279mzZ8+ePTk5OQ8//PAQLlHsRJIkQZAwDFMpd0GOMNC/zGZzRUVFTU1NRUVFbW2txWKx2+1ffPFF50QBMLRUKtWBAwcuXrw4Z86cjIwMVyqPRCLJy8vz9/d/9NFHh3kFuG7MZrPZbGYwGK7ELJPJ5CqYRKPRXNNNMAwPdCVJaDgESTiONzU1tbe3p6SkuLYbPHz48EA3qtPpVCpVQkJCdHQ0i8XasWPHgC4cMJlMra2tFAolKyvL19d3gF6pdru9srJSKBRmZGSEhISoVKohz0ZywXG8o6OjoaHhypUrrp1J9Hr9/v37XWOnw2Ssa7hxRUirV6/GMGzq1Kn3zsIWYLghSVKj0Rw5cmT37t2tra0qlYpGo4lEIhRFvb2974q6A/eIysrKPXv2cLncyZMnu34vMAxTqVSJRDJv3rx+2WTdxeFwqFSqlpYW12ok14NsNtvf39/b27tfdpq7cOFCSUlJcXGxXC6///77CYLYtm1bS0vL/fffP2rUKAaD4eV1XWLKwBj6d14YhgMDA9Vq9bFjx7hcrkAgGITtqKRSqVwub25u1ul0drt9zJgxAzpqx+Fw5HJ5bW1tfn4+lUoNCAgIDAzs91YYDEZKSkpzc/PRo0cZDEZiYuIgRNk9s9vt9fX1x44dO3r0qFqtViqVVVVVNBpt3bp1dDpdIpEIhcJp06alp6d3KyN+jzObzbt3716zZg2O4/Pnzx81ahSY0QCGhNPpLCoq+u9//3vlyhUul5ucnOzp6enaSABFUZFINORvMoCL1Wp1lb8ZN27cXwX/SLKjo+PixYsxMTFz5szplwpwDoejqqrqwIED586d02g0roqArh/R6XSpVOrn55eRkZGVlXWHQYxIJAoNDd2xY8fp06ddO5DQaLTo6Ohb14Lub0MfJKEoGhwczOPxtFotk8nkcDiDsM2CRCKJj49XKpU4jjOZTA8PjwFNZ2OxWOHh4QKBwGKxsNlsgUAgkUj6vRUajZaUlOTt7W0ymdhstlgsHtpEFo1Gc/jw4by8PIVC4eHhkZSUhGGY6632ySef1Ol0arX63LlzS5YsCQsLc+0hA8ZLoGsjpHnz5k2bNm247TYD3CMcDsfRo0e/+eabysrKBx98cMyYMeHh4SKRiMFggK80w43dbtdqtVwuNy4uzjWHYDAYiouLlUrlzJkzbzvptqv29vadO3fu27evtbVVJpMlJiZKJBJXyi+O4waDoaWlpaKioqCgoKCgYM6cOXeynaifn5+fn19OTs66desOHDjw8MMPz5o1SyQSDX6x32HxmUSn0319fQchA6sTiqJisXgwY1IOh+MqNj2g2Gx2P46p3jaCIOrr67dt23bgwAEKhfLAAw9kZ2f7+fk1NjZ+8803XC73hRdeMJlMer2+rKzs0KFD27dv7+joeO2117Kzs++KgtcDxxUhrV692ul0gggJGEIYhl26dGnJkiXNzc1vvvnmjBkzXFkgQ90voCcUCsU10YZhWGlp6Y8//kgQhMlkUiqVBoPhTvY2KS8vz8vLO3DgAJ/Pf+SRRzIyMvz9/QUCgas5p9NpNptVKlV5efnevXsvXLigUCieeOKJCRMm3MlX39jYWNemdXK5vN+zeHtpWARJwD9MW1vbtm3b8vLywv+fvfOOi+LO//9s77ssZReWBZZepS0dpIqC2I3GlkRTjEk0MZfvJeaSKzGXernLeWl6sUVTNBbUiCCi0kEQRMqy9LZ0dtneZ+b3x9zx40CRKqjzfOSRhztMee/u7Gden/fnXby9X3jhhbCwMGSVuq+vD9kBg8EwGAwGg2Fvbx8YGOjr63vkyJEvvvgChuG4uLgnNsoBUUjffvstBEE7duxYtWoVqpAApOhLd2dvTxffwZnveI+GEvdjoK+nqqI0NDKWbTlZxy1oNg8O9g/291rbcO3sZ2Hy/YgCw7BcLj969Gh5efkXX3yxdevWWQk0WfjAMPzuu+9OHM0pFosBAPjll1+qqqom2K22thb5/8StM0wm07QsHQsSwIDFYru6uoxGY3t7e05ODplMdnV1zc7O5vF4y5Ytm/bJOzo6Tp48+csvv/j7++/atSsmJmbMMgUOh2MymUwm08HBwdHR8R//+Mfp06dVKhUGg1m2bNm0dZKVlRUShDOPeXmoSEKZZZRKZU5OTkZGhp+f36uvvhoWFjZB+VoMBsPhcJ555hkbG5vPP//8yy+/tLCwCAoKegJDcMYopNWrV8/FmuyjBQia+3q7bxXlFudfh2Boy3MvT1IkSYcG6qor83IyK8qLP3Nxn4xIgiBocKCvvCS/pOAGiUxZ/dTWJ1kkGY3Gu3fvIssc27Zte0IUEgAAEAT97W9/m8yely5dunTp0gN3a2xs/Oyzz2Zs14MhkUjh4eE9PT3d3d1FRUV9fX08Hu/tt9+ur6+/fv06Ho93dnYe2RmGYaVS2dPT4+rq+kDnvVqtPnPmzG+//SaVSs1m8/2KHSIgqdwdHR2LFi2CIOjrr792cHDw9/efxjvS6XQtLS1IBpJMJnsIHUjuCSqSUGYTCILq6uoyMjLYbPbLL788sUIaAY/Hp6SkIP1uT5w44ejoOLtx3CAI9vX13b59OzQ0lMfjPfiAhw6Sy/bNN99AEPTCCy+sWrVqvhRSZ2enTqfj8XgL4bkIQbDZbNZo1B1tzUajYfIHGgx6s9ksqq1qbhQZ9PrJXQsCzWadVtva3IDBYlYDW6dr9ayh1+ubm5sVCoWvr+9Dji9UKpW//vqrWq1+8803F8KdMBmKiopMJpOfn5+lpeW0E3uxWOwDPUmnTp1qampat26dr6/vBLvdvXv30qVLXl5eGzZsmGA3k8n06aefTs/a0WCxWG9vbzqd3tXVhdRddHNzs7Cw8PDwEAqF7u7uY7KqpVLpxx9/HBUVtXjxYjc3NxKJdL8ht7S09MKFCw4ODsHBwbW1tUiPisjIyPEuf4VCcfXq1cOHD1Op1D179iiVyg8++OCbb745cODAVHO6QRCsqqqSyWRubm6NjY11dXVubm5Go5HJZCKnUiqVMpnM2tp6rgsmoyIJZTYZHh4uLCzs6+tDVtkm33ET0UnJyclXr15dt24dm82exUU3EATb29s//PDDxYsXJyQkhISELCippNVqL1++/NVXX0EQ9OKLL65evfrhZ3CMIBaLb9y4weVykVZC81t9DofD2fMdE5LTeiSdxfk5kz/Q0spmccKyqtulzY31kzwEi8VybO0Sl67o65WUFN6Ylr2zjF6vLy0tPX/+fFhYWHJy8kOTShAE9ff3X7t2LSYmZiZRLA+Z33777fbt27GxsTExMUga1DSkEgaD+eCDDyYeuCorK5uamjZs2LBp06YJdvvhhx8uXbrk4+Ozf//+CXbT6XSzIpIAACASia6urmNSp11cXO7pgzGZTL/++mt+fn5hYeHixYujo6Pd3NzGh+QrFIrffvvNaDRu3rw5JCTk7NmzFy9ePHjwIAAAY3SSXC6/evXq0aNHSSTS66+/Hh8fPzg4WFJScv78eeRxMMl3IZVKJRJJf39/Z2cn8j1+8cUX+fn5VCqVy+WOnKe3t/fSpUs4HA7pLTF3Uh4VSSizSWtra3FxsbW1dUJCwlRDsJlM5u7duzdu3JiXlxcQEDC7kUkmk6m2tlalUuXn58fGxiYmJiKd7+Y9EBVRSAcOHIBheOfOnatWrZpHhYTYc/PmTYlEkpeXFx8fHxUV5enpyWKxpnoepUIuH5bicHhbHh955KjVKgwAkClUHA6n1ajlcpnJaLS24dLoDAiCujpaMRiMnb0DgfD/bxssFovFYgkEwviYBhiGdTrtsHQIhEBraw6VRlcq5MPDUp69A4FAJJMpAACw2Ja4cUUv1SqlUjEMQRDb0ppGZygVcr1Oy2CyKFQaFoslkkjEhRQSp9Fobt682d7eXlZWhtSp9/HxmWupZDQa29raVCrVxo0bH6GEU7lcXlFR0djYmJ+fHxcXFx0d7efnh4TpzLdpCxdXV9eBgYEvvviioKAgNjY2MjLSzc1tdDPQlpaWmpqawMDAyMhIT09PJA384sWL3333HTBKJ8nl8qysrOPHjxOJxD179iQkJODxeBsbm23btl29ejU9PX3yImlgYODkyZMmkyk1NdXLy8vCwoLH49XW1jo7O7u6uo54pDQaTXFxcUlJSXFxcVRU1NxJpUfmB4Cy8IEgqKGhAWmHN72M05CQED8/v2vXrj377LOzrhXIZPLatWulUmlVVVVubm5CQkJCQkJQUJCdnd3kPV6zi1arzcjI+PLLL2EY3rVr16pVqxZIIXIej2cwGE6ePIl8UMj4OCWppFTKjx36JwAAu954l8O11ev1F3496eTsGhwaBUHQ1YzzKpXC3dOXZWEJAIBGrcrJugjD8Iq1m23tJlVexWw2STra2lobbxXlrtnwjIu75/WsSx3tzRu2vGBn73C/56LJZOrv62luqGuorxWGRzu7eNTX3ZUNDfgFCL39Aif/7h4mLBZr27ZtyCr2rVu3IiIikFR8CwuLOZL4RqMRWbJ55EppOzs7+/n5aTSa9PR05NaNiopCpdIEbNq0ycPDIz09vbm5+YcffiguLo6Ojo6IiHB1daVSqRgMpr6+3mg0hoSEIMllzs7Ozz33HAaDSU9P//bbbwEAiIyM1Gq1V69eRRTS7t27ExMTEW2N3EJhYWHZ2dn79u2b5ABiaWnp5OTE5XJDQkJYLBYOh1u9enVbW1tiYqKf39guqiQSSafTHT9+vKSkJCoqKi4ubtalEiqSUGYNg8HQ1dWF1LScnuygUChLliz5/PPP+/v7BQLBDLULDMMmk0mn05lMJo1GQyAQYmJi4uLiysvLf/zxx4qKCsRZkpCQEBAQYDQa4Yfbdkur1V65cuXvf/87BEGvvfbaqlWrFk7x8eXLl69YsSI7O7ugoODEiRNIL8nIyEi2zWSzcJlMC0lne1F+zuoN26ysOf293SePfL11xysBwWFVt0vP/XI8LCpW4OzOZFkAAADDEJVKgyBoCibCAAaLZTItrl/9jWfv2NXZqlYryRQqBIETHARBEJlMIRBJt4pyVUq5InRYp9EQiAvIdQSMum+VSqVer6fT6U8//TSJRCosLLxw4cLFixdLS0sjIyOTkpKQefasG2Aymbq7u/F4/EMrajwTtFotkiBmNBptbGyee+45Pp+flZWVm5t7/vz5GzduJCYmIlLp0WrKMZrW1tbbt2/PYmMiGIY7OzsBAGAymdHR0WFhYWKxODc3t6io6IcffigqKoqJiQkLC3N1db1z5w6NRhvxIQH/1UkAAKSnp3/zzTcKhUKpVP78889jFBIChUKJioq6du2aRCKZpEjicrl79uwZeUmn0zdv3ny/nX19fffv35+VlZWfn3/48GFE5MXFxbm5uc2WVEJFEsqsodfrtVqtUqksLi4eGBgYv0NXVxcAAGq1+vjx4/c7SXNzs9lsPnv2rEgkmmGOGwzDer1eqVSCINjR0QH8t/RAYmJieHh4WVnZiRMnsrOzkRkngUDQ6XQzudyU0Ol0mZmZn3/+OQRBe/bsWb169TSediqVqri4eHbdYJWVlVKplE6nh4aG+vj4pKSkXL16NTc39/jx4zk5OWGRizFMF4hi98DzMFkWaaufvl1aAEMQAABNDSK9Xufs6oHF4bOvXGBZsBOSV/D4jsj8nslir934LAaLJZEm+xgjEInunj5cW7tFAcL8G1nh0fE7d79NeNAKL4lEsndwwuHxbCvrhvpaL5+AqLgkO97sZLEN9bRevlRTxibhsDNy8EAQpNfrVSqVTqerrKwEAACLxfL5/I0bN8bGxhYWFp49e/a7774rLi6OiYmJj4/X6/Wzq+9NJtPAwMD41t2ziEKhKCoqmpVTIV0TAACor69nMplEItHT09PZ2Xn58uWZmZk5OTnnz5/PyclJTk4WCoUjPTQeLS5dulRWVja7v3SNRjMyLaFSqcHBwYsWLQoODv7nP/958eLF69ev79y5c8uWLa2trRQKZUxsokAgQPxJ586d++tf/0qn02k02niFBAAAEkJuNpuLi4tv3749JQvpdDqHwxnfnx5BLBbL5XJLS0uhUOjj47N06VJkMD948GBRUdHixYtTU1OdnJxmXngPFUkos0x9ff1HH300wQ5DQ0M7duyY+CTp6enZ2dkzX03A4/EWFhYQBCmVytHbaTRaSEgImUweGhq6ceOGRqNxdnbWTy4NaubodLqsrKxPPvkEgqC9e/dOuzs3Eil569atWbRNpVINDQ0h/6bRaEKhUCAQeHl5HT169MqVKxWVd0PiVvpFrpjMqVpbxCAI0hlMLBZbmJttbcO1tePLZUMN9bVhkYtt7exHr4CQKfceCieGQCAFBId/9fcP//jRgQcqpBHYltY2HNuhgT62lRXXdtZC+Hta7pbW3sBAxpkvghEIBBaLZTab+/v7RzZisVg7O7v4+HgMBlNbW3v9+vWBgQE2mz3SF2J2Qdp+zcWZAQAYHh7OzMwsKSmZ+aloNBqJRELqA42kmxGJRBcXl6eeeorFYh0+fLiystJoNGIwmPlaWJ8hSJ+G2Y0PG3M2mUzW2NhYXFzc09Pj5uZmb2/v6Og4QWCoQCBYtWpVbW3tmTNn+Hz+yy+/HB0dPd5CpHeNyWS6efNmTU3NlCxkMBgsFut+KkehUDQ1NUVERAAAQKFQQkND/fz8YmJiDh069Ouvv+bk5KjV6ueee27m3lBUJKHMMhwOx9fX954Z7AqFIjs7m0ajLV++/H6Ht7e319TUbNy40cfHZ+aDAplMdnBwMJlM1dXVf/rTnwAAgGFYrVa3t7fn5+fn5uZ2dHQsXrx43bp1BAKhvn6ymVAzQafTXb169cMPP4Qg6K233lqzZs203cJsNjs1NTUuLm4WzauoqBip/qLT6SQSyZ07d4qLi3U6XXBwsIf3InuPQCLpwT189Hpdbs4VO3sHtqW1VqMuKbiRuuopS2ubxvparVZt7yCgM2Yhb84MmjUaFQDAIGie/FFGg57JtMBicQaDAYOZtVAVjqNnYrgH15IyQ08SAAAUCoXP56tUqitXrly8eBEAAAiChoaGGhoa8vLyMjIykB/Rjh07Fi9e/P333897/sFUsbS0TEtLW7x48cxPZW1tzWQycTjcp59+ijiKQBCUyWR1dXXFxcV5eXlyuXzt2rUpKSlCoTAvL2/mV3z4vPTSS0899dQs9s6CYbixsTEzMxMAAJlM1tHRUVBQcOXKFaVSyeVyN27cmJSUZGtri8Ph8Hi80Wgcf4bh4WGRSIRU8cbhcBUVFRUVFeHh4WN0FQRBKpUKj8eHhISkpaVNyUi5XC4WiwcHB+/5V71ePzLLgiBIo9G0tLQgBTydnJy8vb0ZDAYITrT4PklQkYQya+DxeAKB4Obmtm/fvqVLl47fobq6Ojs728bG5tdff73fSb755psPPvhgxYoVkZGRszVzMhqNJpMJhmGFQlFbW1tYWHj9+vWysjKBQLB79+7k5GRHR8ebN28+hFmmXq+/du3aX/7yFwiC3n777TVr1sykyAedTo+IiNi6dTYr+tBotKKiIq1W29zcfOfOnezs7IqKCiwWGxoaunbtWmd33zst6tb+B69LyqSDXe2ta59+jkSmtDaLjUaDs6snDoerKCskEkkOTs6U/3UdgSCIwQBY7BS+ApPJ1Nok7pF0whDc3trs5RugkA8zWQ8IZzaZjKKaOyaTcWiwv721Sa/X4bA4DBYzOqtuetg6+aQme3gKLAn42RFecrm8trYWBMHBwcHu7u7c3NyMjAyDwcDj8V5++eXFixezWCwMBjPrCgkEQYVCMafVH5hMZmRk5OzeuhwOp7m5eWhoqLCwsLi4+Pr16319fUKhcMeOHXFxcXZ2dmq1ehYv93hQUVHR0dGRlZWlUCi4XO7evXuTkpJsbGxGBkMLC4umpqYxnnjEEfjDDz9QKJR33nmnq6vr9OnTX3755e9+97vw8PDRvh+TydTW1kYgEBITEwMDZzM3orKyEplqqlSqlpaWkpKS/Pz8srIyLy+vvXv3pqamzlaHLlQkocwaVCoVGYlqamqSkpKmoTlMJlNZWZmlpSWHw5n13GODwXDt2rXz58+XlJQ4Ozu/+OKLa9as8fX1fWgeeL1en5OT8/7774Mg+Ic//GHt2rX3W26fdyoqKrq6uioqKjAYTERExLp160JCQiwsLIbkWgCY1JMGj8PTGSwQNAMw3NQgolJpfEen9rbm/BvZYVFxru7euFHfr8GgF9dVEwgEV3dv0rjoWhiGIQiCYRgEIQAAYBjSabXDMqlGraq9W7Fj15s1Vbfzb2QuCgyRdLaFRMTgcHgAiezRaWEIQo7FYDBqldJg0Le3NrW2NPgFCNtaGvt7uxvqa1gstpU1h8AiIteCIQg0mw2Gh7T2+kDUavWPP/6INF0XCARvvPHG4sWL57TAo1arFYlEQqFw7i4xR/T19Z0/f14ikQwMDAiFwpdeeikuLs7W1na+7Vq4fPnll56enjwe7/e//31SUtL4NMDg4ODc3NzGxsaYmBhE/cjl8szMzOPHj1Op1N27d8fHx/f19eFwuJ9++umLL754++23Q0NDR3SS0WhsaGiwsLCYo771vb29P//8840bN8rLy729vffu3bt8+fIxlaJmCCqSUGYNHA7n5+dnZ2dXWloqlUqRxoRTor29/fr165s2bZqLTHiDwZCdnS0QCF5++eX169f7+Pg8zEUKnU538+bNffv2mc3mP/3pT+vWrVvIuTbFxcV8Pj86OhqRR9Ook8Sx5cUmpZhMxq6O1tLCmzy+o3RosEFU4+Htl7pyvQ33f55bSvnw2Z+PkinU53e9OboZCARBBr1ONjRoNpmYLLZMOqSQy4hEcltLY/aVCzQ6PVAY4eru9exLe/7+0Xuu7t7+wWEAgAEAQK/XSQcHhmVSK2uOfFgqH5YymRZNDaK7lbdamxuWpKzyCxQ2iuuqKm5lXjqbmJxm7+CEHDXQ32MwGEhkSq+kUyYdotMZ8142Sa1WZ2VlCQSCXbt2JScnz3UdVAiCFApFb29vQEDAnF5oLpBIJBAEhYSEvPrqq3FxcdMYgp4oPDw8rK2tX3nllaSkJDabfc8qCYsWLbK1tW1qaurv73dwcJDL5VeuXDl27BgSqR0fH4/H4/l8/vbt2wEAOHny5Keffvruu++GhIQQiUQQBHt7e2/evBkdHW1n9+Bsj2lQXV396aefent7/+53v1u+fPlctC5BRRLKbOLs7CwUCnNzcwsLC1euXDmlwE+9Xn/y5Ek8Hh8bGzu7E2UMBkOlUkNCQlJTUxF5NNUzNDc39/T0TNsAGIb7+/v//Oc/m83m/fv3r1+/fuY5F3ME0hEzNDR0/fr1QqFwJmsuO3a+UZh3rSgvJzcnMzg0Mv9Glu+i4FXrN9s7CMasbVHpjOCwKAAGxigSEARlsqH+vh6Bi7vAxd2g13Z1tvEdnI1Gg1qldHX3CouMhWEoMXlFfW0VhUYPDo1C/IJKhbypQeTh7efq7qXVaCQdba4e3jAMN4hqwiJjA4URTJbF2o3PmM0mKysbN08fIpEEAIBCPtze2szh2qWufAoGgPbWRoGLh+X8iSQsFmtpabl48eJt27YlJyfP0WNmDAaDobOzk0AgPBL5/6Ph8/krV65cs2ZNbGzsTDpDFxQUTFxUSSaTAQBQX1+fn58/wW6NjY0AAAwNDU282xzF3T8QKpX617/+NS4uDlm0vd9uXl5enp6eVVVV1dXVZDL52rVrR44cYTAYe/bsiYuLG/H329vb79ixA4PBHD9+/OOPP37vvfeQXMLMzMze3t4PP/xw1u3H4XDW1tbx8fFpaWlpaWkCwRRaX08JVCShzCY2NjYRERFZWVmHDh3y9vb28vKapLcGgqDCwsJvv/02NTXV399/dstt43A4Nze3I0eOeHt7T+8M//jHP5AKs9MGg8E4OTl98sknTz311EKuYuzq6vqHP/zByclp5jrVzdPHzdPnVlEukUjcsn1XZEzi/bwyNBp97cZnx28nEAj2fCd7vtOY7UEhkUEhkci/MRgs185+/+f/8+1wuHYc7lhJERwaGRwaOfLSydnt/977ePQOXFseN2XV5N7cw4BMJsfHxy9ZsuThyCMEpKso0uDioV10VtixYweZTJ5h2QIQBBMSEiaz5/79+yfuN4KAlP+eiUlzAQaDcXBwmEzJXysrq3Xr1u3fv//s2bNIUCmLxULWfMeMYzwe7/nnn8dgMIcPH/7www/37dun0+mOHj3q4+MzyY90SrDZ7A0bNnh6ejo5jR0fZpeFO1ijPIrgcDihULhu3bqffvrpyJEjb775JpIiMfF0q5hOAAAgAElEQVRRJpOpo6Pjj3/8I41Ge/7552e3uy3w3xn5TJbwHB0dg4ODZ2IDDod76623NmzYsMAr/7q7u8/uCSvLi0lkMo/vOPkUfRQEIpE4vcr10wbp2paTk8Pj8R6hrm0Is+L6wmAwQUFBE+/T0tKiUCicnZ0nrv4qk8na29stLCwmXgOCIKiqqmo6tj4soqKiIiIiLl68eO7cuYiIiD179oxXSAi2traITjp48ODrr7+OFIX/+OOP5yKEztHR0dHRcdZPOx5UJKHMMkgG6fDw8NWrVwkEwvbt252cnCaIv0ECvf/1r3/19PTs27dPKBQuwKWoffv27du3b76tePQwm831tXcTl66wtLJ55NLUn0BUKlVRUdHdu3c/+OCDOY0NX7BgsdgHlm1csWJFRkbGxx9//MAGt9u3b09MTDx37twEu+l0ugWbwIHAYrFef/11tVqdkZHh4eFha2trNptxONw9f9E2NjYbNmxob28/fPiwk5PTa6+9FhUV9fBtnkVQkYQy+7i4uLzyyitYLPbUqVP19fUvv/xycHAwg8Ewm/9TzAaCILPZbDAY5HL5tWvXvvrqq8HBwT/+8Y9bt26dxdL7KPOOQiELi47z8Q2clapIKHOKTqerqKg4duyYi4vLihWTqheK8oTg7Oz8xhtvmM3mX375pbu7+6WXXgoICLCwsCCRSIhagiDIZDIZDIaBgYG8vLzq6moPD48XXnhh165d8237TEFFEsqcIBAI9u7da2lp+dVXX925cycmJmblypVInRKTySQSiXp7e8Vi8cWLF6uqqmg02ldffZWamjp3FX5R5gUrK862Ha/OtxUoDwCGYZ1OV15e/tlnn8nl8o8//viRi9pGmWv8/Pz279/v5eV1+vRpxD+UkpLi7u5uaWlJIBA0Gk1HR4dYLM7KyqqsrPTw8Pjkk0+Sk5NnN7p0XkBFEspcgfQpTE5O/vnnn3/++efs7Gyz2Uyn0xUKRVRUFB6Px+PxJBLp888/X7lyJZvNRpdjUFAeMogDYHh4uKio6Pvvv29ra3vllVdSUlLm2y6UhYiDg8Prr78eGxt76NChnJyc7Oxso9GIZOchLiU8Hi8QCD7++OPly5fPda2KhwYqklDmEDKZHBgY6Ofn9+abb7a0tLS1tSHFW21tbd3d3QUCgaur61y0MUdBQbknyEo3CIIgCJrN5sHBwerq6suXL58+fdrT0/ODDz5Yt27dYzD7R5kjKBRKZGRkaGhob29va2trWVlZRkYGkUhcsmSJQCBwc3Pz8PCYSReBBQgqklDmHDweb2dnZ2dnFxISUlpaevLkyb///e+PaKdJFJRHmq6ururq6sbGxqamJpFIhAQp83i8N95445lnnplGCTGUJxA8Hu/g4MDlcjs7Ozs7Oz09PdPS0ka6Cz9moCIJ5eEhk8lOnDiRnZ1dXl6OdG9GedTAABgAAAAYhufbEpTp0NbW9vXXXxcUFGAwGDc3t7feeiswMDA0NHTuavGhPK60t7cXFBR0d3cDAHDlyhVvb+8FXt9keqAiCeUhodfrKyoqTpw4QaPR/v3vf4eHh6NBSI8cRDyWTiEaTCqZQmNpMWs9yR8D/qMZF/wdLRQKDx06hMPhLC0tZ7GrPMqThslkKikpqa6uXrFihdlsvnbt2ooVK6ZdrXch8xjqPpSFydDQ0MWLF8lksouLy5UrV27fvj3fFqFMGTweSyUTzCCk1Rvn25aFRXuPzAxCdCoRh13QQonBYAgEAgcHB1QhocyEtra2/Px8KysrpLZkQ0PDpUuX5tuoOQEVSSgPA8SNdOHChU2bNv3tb39Tq9Uz7PKBMi9QyQSuJdVsMjd0DKk0+vk2Z6EwKFP1DqntrShsBgm7sEUSCsrMMZvNRUVFIpEoOjo6MjIyPj4+MDAwOztbLBbPt2mzDyqSUB4GAwMDv/32m6Wl5c6dOwMDA7du3ZqRkYE6kx5FbC2pYd6cAZkmp6RxQKqcb3Pmn3aJNKtQbDCBsYH2VDIawIAym+h0OgiC5tuKsbS2thYUFHA4nGXLlpFIJHd397i4uKamposXL863abMP+pNGmXN0Ot3t27czMjLWr18fHBwMQdCmTZt+/PHH77777siRI/NtHcrUsGCQIv3s1DrjnSbZ+Ru1JCKeZ/1YZfxOARjo6FeAIGwGwadiXfxcrQn4ecvZVKlUZrN5IfdORgBB0GhcuGu1IAhyOJyJ91GpVAAAvPTSS6+99toEuyFv8/LlyzPpudve3q7Vaq2srCbo7PSQMZvNBQUFDQ0NK1euRDLamExmXFxcXl5eVlbW6tWrvby85tvG2WSh/6JQHgP6+/szMzMtLCy2bt2KDOIBAQFbt25NT0+vqKgQCoXzbSAAAACFQsFisf39/QaDYeG3RjEajRqNZl4ujcFgOJbUVTGuvgKrujZpW6+quWt4XiyZdzAYgG9F4VlTI/x4tlY0ImF+FJKvry+ZTJbL5Y+ESNJqtcPDw3Q6/eEX9SYSiXQ6XalUNjY2xsbG3m83mUw2mbMh/QMeiNFonOQJ74lCoTCZTEipxmmfZHZpaWkpKCjgcrlLlixBpBsGg3F1dU1MTPz73/9+4cKFx6zN5UL/RaE86iDtDq5evbp69eoRPcRgMLZs2XLy5Mnvvvvu8OHD82shgpOTE4lEamho0Gg0C7++pUql6unpYbFYrq6uD//qWAyGSSMtcrPxEliaQBiCntxyAHgcBo/Dkgi4eQxF4nK5eDxeJBJFRUUtHH/D/RgaGmptbaXT6ba2tg/50gQCgcfjsdnsu3fvjv8ri8Xq6Oh4yCaNZvzcTKVSZWZm+vr6PvzP6n6Yzeb8/PyioiI2m33+/PmcnBxkOwRBdXV1/f39WVlZa9eu9fT0nF87ZxFUJKHMLb29vdnZ2TAMW1tb5+bmjmxXKBQeHh4XLlx49dVXg4KC5r0cgJ2dXUxMTHp6ekpKio2NDZFInF97JqaxsTE7O9vCwsLd3X1eDMBgAAIeS8CjQY3zj4eHh5+fX1ZWVmpqKpvNXsi1akAQFIlEN2/edHZ2dnZ2fshXx2AwfD4/KCjo1q1bd+/eDQgIGP1XLBbr6Oj4kE2amNzc3O7u7meffZbL5c63Lf+hpaWlsLCwq6uru7u7paVl9LhtMplAEGxpaUlPT3+cnEmoSEKZQ7RabVlZ2blz57Ra7cGDB48dOzbyJwiCZDKZ0Wj87rvvvvvuu3lfJsDhcJs3b87Nzf3ll1/s7e19fHzm3aR7AoJgc3PzqVOnpFLpa6+9tnBGT5T5gsFgPPPMM++9996//vWvd955x9XVdWHqJBAEy8rKDh8+TKfTX3rpJSqV+vBtsLOzS01NLSoqeueddw4ePLiQS2jW19d/9tlneDw+KiqKzWbPtzn/QSAQfPTRRyMa6NSpUx999NGqVas++ugjZAsOh1s41s4KC/ExgPLYgMPhhELhDz/8gLzs6OjYu3cvh8M5dOgQsgWDwTCZTJPJtBAUSVhY2O7du//973//3//93/r166OiohwdHel0+gKJBlAqlRKJpKKi4uzZs+3t7evWrVu9evUCsQ1lHsFgMMuWLbt79+6vv/7a3d29fv36iIgIBwcHBoOxQNSSQqFoamrKy8u7cOGCTCZ75pln4uPj58V5TKFQwsPDn3766c8+++zZZ5995ZVXQkNDuVwug8F4+Mbck8HBwb6+vuLi4qNHj6pUqn379gUFBREIhPm26z+QSCQ+nz/yElkHZLFYj2UZSYT5fzKhPMYQiUSkch3ysq6uDgAACoWSnJw8Zrd5MG4cFApl69atNjY2v/zyy5dffnngwAEymYzD4eZ9KRDBbDYbDAaVSmVnZ7dr1660tDRra+v5NgplQcBgMHbv3u3s7Pzll1/+5S9/YbFYSKjvwrl1dTqdXC53dnZ+5513li5dOi9uJABJO+Bwtm/fbm1t/eOPP+7bt4/JZBKJxIUz2TCZTAaDQalUhoWFbd68OT4+nsVizbdRTzSoSEKZQzAYDIFAGJkGIWIIg8Es2PBSNpudlpbm5+dXU1PT1tbW0dExX0lk46HRaHZ2dgKBwNvb28PDg8ViLZBHIMpCgMvlrl+/3s/Pr6Ghoaurq7Ozc0Hdug4ODu7u7p6eni4uLvPrtsHhcPb29lu2bAkLC6uqquru7m5qappHe8ZAo9H4fL6np6e/vz+fz6dSqejPfH5BRRIKyv9Ap9O9vb0FAoFWq9VqtSAIzrdF/wGHw5HJZBqNRqFQFs7EF2XhwGKxQkJCfH19F+CtS6VS6XQ6mUxeCI98LBbLYrGCgoI8PDx0Ot0kk/kfDjgcjkKhMBiMBfJZoaAiCQVlLFgslkajoc2tUB450Ft38mCxWAaDwWAwHlg9EuVJZkGE9aGgoKCgoKCgLDRQkYSCgoKCgoKCcg9QkYSCgoKCgoKCcg9QkYSCgoKCgoKCcg/QwG0UFBQUFJSJ6OvrKy0tLSwsVCgUXC43Ojo6IiKCSqWKRKKsrKzW1lY2mx0SEhITE8Pj8aZ3CYlEcuXKlaqqKpPJxOfzt23bptfrc3NzxWKxXq+Pi4tbtmwZlUrNysoqKioiEokJCQmRkZFMJnN6l4NhOC8vr7S0tL29HQRBBwcHHA7HZDL5fH5AQACfz18g5evmnUfPkzQ4OHjt2rXS0lKj0TjftqCgoKCgPP6QyWRLS8tr164dO3bMYDAg7R2xWKyFhUVNTc2xY8eam5stLS3HN6mdPBQKxcrK6vTp08eOHaPT6VQqlclkwjCckZFRX19PpVJJJBIej2cymRUVFR0dHQwGYyaVuDEYjI2NzdDQ0MmTJ1taWrhcrpeXl729fVVV1Ycffnj58mWFQjHtkz9OPHqeJAKBkJGRERoaOqY9IQoKCgoKylxgYWHh6upKpVK9vb1XrFgRHByMtHzhcrlMJtPCwiImJiYmJmYmZXKtrKxSUlJIJBIAACkpKba2thgMJjg4mMlk+vv7BwUFIU4jHo8XHR0dFBQkFAqRnaeNr68vUopp/fr1GzZsYLPZJpOJy+X+6U9/OnDgAJvNjo6ORv1Jj54niUaj5efnczgctJ4eCgoKCsrDobOzU6fThYeH29vbjzTFGxoaUigUbm5uXl5eM28kQKPRvLy8CATCyNOtr69Pr9fr9XqkNCjSJNjV1TUyMnKGCgkAAK1We+3aNZPJFB4ezmQyMRgMkUiMiIhISUlpa2vLzc2VSqUzvMRjwKPnSerr62tpaXF2dl4ILVFR5h2lUllXV1dRUdHX1zfmTxQKRSgUpqSkzMV1VSpVY2PjnTt32tvbKRSKg4ODr69vQEBAT09PQUFBfX09Ho93dHQMCwvz8/O75xmys7PLysr0ej0AAMuXL+fxeCKRqKamRqVSsdns5cuXe3t7FxUVFRYWqlQqd3f3hIQER0fHBxpmNBqrqqrKy8t7e3tHNgYFBfF4PBcXF2tra3R2MVVAEOzt7c3PzxeJRAAAEInEmJiYxMREGIazs7OLioogCAIAYPny5feb3JeXlxcWFiKPnLCwsEWLFkkkksrKysHBQTqdHhUVFRsb297enpWVJZFIbGxskpOTfXx8JmNbXV1dWVlZR0eH2WxGtnh4ePB4PFdXVx6PN/PnKMoId+7ckcvlPj4+o7vct7W1DQwMeHh4CASCex4F6aTtdwqyCyW0iBXrFjuRDXLJnZvn8pU+a9ct82COr6gdHBxcUVEhl8tBEFSr1ZcvXx4YGNDpdMj3293drVAoAgICkM6y4y6mGWiszLtRJ7MRpqYJHYm6oZbya1l3tItWb0pwoY27mEQiaWlp8ff3RwKSkI04HG7RokUMBqO1tVWpVNrZ2U3r03p8ePR0hlgsDg0NtbGxWSANrlHmFwwGYzKZSkpKTp8+7erqmpKSYmVlBcOwXC5vbGyk0+lzJJIAAMBisbW1tV9//bWfn98rr7yC3JBYLFalUp06dUqlUr311lsT3KU4HC4nJ6e8vDwxMXHJkiVYLFar1Z46dUoqla5ZswaGYWS3ioqKrq4uS0vLyfcogCBIJBJ9//33np6ey5YtYzKZWq02OztbLpevWrUqMjJywfbOW7BgMJjh4eFPP/2UwWDs3Llz5ImCx+OvXbtWWVm5ceNGZLd7Ho7cKpcvX3ZycvL09MRgMAaD4ebNm5cvX46NjQ0PD0d26+7uzszMDA8PX7Zs2SQNw2KxHR0d3377LZPJXLx4sYODAwRBt27dunLlSlRUVEJCgpWV1YzfPQpgMBjy8vKkUunw8PCtW7dGFqEuX77c2NgYHh5+b9UCAAAGMmv6xLkXKqtNHPutIaaK8999fUIa/5d1996dy+XicDi1Wg1BUFlZmaWlJZVKraurk8lkRqPx/PnziLfpfj4C2Cjvvpv9W0e11tpym6ei8OyJgxn6RI9V99gThisrKyEIWrlyJZ1OH33rIo2PTCYTov6fcB49kVRZWblq1appzJC0etPgsE6hNqh0Jq1hoXQ1epgQCVhLBpFBIdqwqTTK9CP+FhQMBsPT09PJycnW1nbDhg179+61traGYXhwcLCsrGzuFtQZDIaPj4+7uzuDwYiKitqyZQvStpPH44WFhWEwGCaTuWnTpgl8P0lJSTdv3qyrq3vqqaeEQiHSIeHYsWMymSw+Pt7DwwMAAH9//5CQkEWLFj399NP29vaTMYxIJC5atMjJyQmPx2/ZsuXVV19lsVhKpfLmzZvvvfeeWCz+61//6u/vP5OQzycNHA5na2sbEhKCx+Pd3d337duH+BIwGExcXBzyuHr99deDgoLu9+gSCoXJyckVFRWxsbFJSUk8Ho/D4eTl5V2+fNnHxyc6OhoAAHt7+8WLFw8ODj7//PNeXl6TtM3b29vb25tIJC5ZsmTPnj0eHh4QBJWWlh44cODu3btYLHbZsmVol5KZg/TB5fF4ZrO5ubkZ2ahWq4uKikAQFAgE98syw5KtBGHLnt480Hck5+AhQqpNTXodc9kfn17idg83EgAAtra2eDxeJpNJpdLi4uL169cXFxeXlZUNDw+3tLRIJJLExEQbG5t7W4ml2XhEpm3s6T144crhE8QwTEnOACfltW2xgvFuJAAAcnJyQBCMiooaM04qFIoRxyTKIyaS9Hp9RkbG/v37p7TWZjKDkgF1Q+dw14BaptTrDCAIAzjsk9U7EIRgAIZZVAKTRuRzGO58lgvf4vH4EIaHh/v6+lxdXZcuXWptbQ2CoNlsZjAYgYGBJpNp7q4rl8t7e3sRVTTS2NxoNHZ2dvb19aWmpj4wGdjFxYVMJmOxWGQaZzKZQBDs7u7W6XTIHd7W1obFYoVC4X3nqfdCr9dfvnwZj8enpKSwWCwAAJhM5vLly0tKSg4dOnT9+nUXF5fRSwYoD8RoNHZ3d1MolKioqJGPDobh/v7+yspKRKZPvI6JRPiOfNfIXQoAAB6PRx5RCoVieHg4ICBg0aJFU7Ltzp07SKyMo6Mjon1jYmK6uro+++yzjIwMHx+fyUsulPtRX1+v0WiSk5MRXzWyUSwWk8lkPz+/CVw7AIAlsviLElOfamn8+MTRI3wHh7QXn1/iRr/P0Gtra4vD4aRSaUlJCZPJdHR09PHxEYlEarU6PT3d3d19Ai0OIJosJHnF8u7mry4fbeFwPZNf2xrjQrvHnalUKnNzc62trT09PUefEATBmpoapVLJ4XBmkqz32PAoiSQYhru7uzs7O3k8nslkwuFwk1mAgGC4o0+VX9Xd2a+h08hWbBaVQqCSCbgnbLUOBCGdwazRG5VqfWl9f2e/EoPBuDlYzLdds0BTU1NlZaWrqysSFjA4ONja2hocHMzlcqfYRhs2yxoLr5Z20ryjovycrcmm/vqiwka1lYcw2J3PHOuU6u/vb21ttbGx8fT0HNmoVqsbGhosLCzS0tIeKOVtbW0JBIJMJkPEXGlpqV6vJ5PJiFoyGo3l5eUMBiM4OHjygURIAM2tW7e8vb1dXFxGthMIhKVLl548efLixYtPPfUUKpKmhEajqauro9FosbGxo7dXV1fDMJyWlkaj0Sa+2ZhMJoVCUSqVGo0GAACRSNTe3k6n0w0Gg1arJRAIYrFYIpGsWbNmSm5ypVJZVFREoVDc3d1HHmk4HC44ONjW1rawsHDNmjWoSJo5lZWVSqUyMDBwJMsMAICmpia9Xo/E9Ex4NIHKtvfwcbKUZtTh/dYtDXWn3/fnbGVlhcViW1paRCLR1q1bra2t/f39r1+/XlpaKpfLg4OD7+tG+g8YAsPaydNFQJdd76L5bosKd2aMvy8hCGpsbOzq6lqzZo2VldXoW7e3t7e4uBgAgJCQEHStFliwIgmJWUO6NMMwbDAYQBCkUCjt7e0eHh5isdjKymqScRUqjbG6eaizX8PjsrxduDZsOpGwQN/1Q8BsBgeH1U2dQ22SoaKaHj6XTiY+2p+GTqerra2tra11c3PTarV1dXW1tbUKhSIsLAyPx8MwDILg5BUGZJS15J35dz2vG3rtuVjL7ivHv/m5yzZth5ufqz0AjB5rIAhqbm6urKzk8/kQBLW1tSHbJRJJWVkZhUKZjD+AzWbj8XidTgeCoEwmE4lEXC7X0tJSrVYbDIbm5uahoSF/f/8HDYv/g8lkqq+vJxAIycnJiBtpBBaLhcPhbt26pVarJ39CFAAAhoeHr169isViqVTqyHcNQVBhYSEEQeHh4Q9cvqTRaCQSSavVGgwGlUrV1NSEwWCcnJx0Op1arTaZTGKxmE6nOzk5TcmwlpaWzs7OgIAABweH0aKcyWSSSKSWlpaBgYGpvlmUMahUqpKSEhqN5uLiQqVSkY0mkwmpV7Rq1SpETGi12tbWVoVC4eDgoNVq+/r6fHx8OBwOABtU/a13Kxt7LR0dLAfvFIkkQo4j5d6zdCS1IjMzMzU1VSAQkEgkNptNJBLz8/NfeumlETeSwWDo7e3t6uricrlEIlEikfD5fIFAAACQYbin4a5ILKM7cDBdVVWiXv/F9tQxOgmCoNu3b8MwnJSUNPrW1Wq1mZmZIpEoNjY2NDSUQqF0dHTcvn3b09OTxWI1NTXZ29u7u7s/UQHBC+4BCUGQUqlsbGxsaWlRKBTbtm2TSqWXLl2CYXjnzp1MJjM4OFij0Ux+stU7pJEMqtksqp+bna31NIuTPjbg8ThbaxaFRNRoDW196r4htYD3aDuTBgcHe3p6LC0tGQzGnTt36urqOjo6nn32WWQo0Wg09fX1jo6OXC53EifDEG2D1766vfXPR29ezGQP46rTa8weacuXCd2syGNGGb1e39LSgoyD3d3dyKMIgiDEreXg4ODq6vrA61lbW+PxeKlUajQaKysrbWxsFi1aVFtbizxHq6qquFxuYGDglPLRDAZDTU0NHo+PiIgY8yepVAqCII/HQ2ufTAmz2SyRSCoqKvz8/JBUI2S7Wq2+evUqCIJ+fn4P9Bqy2WwqlTo8PKxSqUQikV6vj4iIkMvlMAzr9XqxWNzf3//0009PNWm3qqpKr9fHxMSMLPgiKJVKg8HAYDDQIP2Z09zc3NbWFhwc7OjoOPIFDQ0NicViCoXi4uJCp9MBADCZTG1tbdevX+dyuU5OThqNxsHBgcOxNiq7a/KzzxVpPZ99IREuO3Hu2E8hTrvjXBj4e7gekVT8gYGB5ORkCwsLAACsra1JJBKHwxEKhSPzJRAEh4aGzpw5QyKRhEKhVqslk8kCgQAyyNpv52VkNhgDNrwYoLl5KfPoWW/HF6IF9P+5r4xG42+//QbDsFAoHBle1Gr1tWvXfvjhB3d39xdffNHZ2RkAAIVCcfbsWVdX18DAwO7ubjwe7+bmNmef9EJkwYkkGIa1Wm1HR0dFRUV6enpgYGBjY+OtW7ewWOwLL7wQEBCAw+F8fHwm/8vvlWqGVQZPZ7Y1mz6nlj8qYDAAjUIU8Cx7BhVtPcpHXST19/dLJBJfX9+0tDRra2uxWIzBYEbWF3Q6XX19PYPBuJ9I0ul0Go2GzWb/d6QgWS5Kfva5+qYvs49Xa0F+wnOrlka4WpHGjWZDQ0Pd3d1OTk6JiYkjekitVt+5c0ej0URFRY3x4twTOp2OxWIHBwcHBgaqqqpiY2PpdDqJRDIYDPX19SqVyt/fn8PhTP7TgGFYoVDcuHEDj8ePd2WJxWKj0bh06dIxD1SUidFoNE1NTUwmMyUlxdfXF9kIQVBdXd3du3cXLVpka2v7wLk1mUwmEAgqlWpgYGB4eJhCoXh7e5eUlOh0upaWlpaWFmtr6/ulkd8PEASzsrI0Go2fn9+IhwOhvb0dyVefdpcMFASFQpGbm6tUKvl8Ph6PhyAIi8Wq1eqKioqenh5/f39HR0cQBLFYLIvFioqKKi4uzs3Nff/990NCQggEAmxUdN8tvHzhjtxl1YcvrveU8aR3Pz/97U/u3N1r/CzHP4AtLCywWGxCQoKXlxfiC2CxWFZWVmlpaa6uriO3GZVK9ff3d3Jyys/PDwsLW79+PZlMBiC9vK3yxpX8GtBr8+vb19p1W8kOHDh97LgLZ2+qlwUeAwAAIspFIlF2djYAADKZrLe3F4bhvr6+srKyW7du8Xi8Xbt2jeTA+vv7p6am5ubm+vr6bt68edRQ+aSw4EQSDofj8XirVq2i0WjHjx8/c+ZMSEjIkSNHtFotkqMRHBw8pRPKNSYTCNCpJDzuCfIQTgwej2UxKGYQGpLr5tuWGQGCYFNTU319fWhoaFxcnI2NDY/Hq6urG6ntwWKxEhMTLS0tgf+ODhQKBWloQyQSQRAsKSkBACAyMvL/hyhimK5hkUHM86VlYNDykAh/ByviPSZ8PT09LS0tfD4/MTFxpKRNd3f3b7/9xmKxxkSu3A8Wi4XH49vb23NycrhcrrOzM5FIpNFoEokkLy/P19fXz89vSkOS2Wzu6uoqLy/39/cf88RF3B5arTY2NhYVSVNCo9GIxWIajZaQkCAUCpGNZrO5qakJAIDnn39+Mp45FotFoVA6OxWkK64AACAASURBVDtv3rzp6+uLlKKhUqmdnZ3FxcV4PH79+vVTdSPJZLLi4mIbGxuBQDDaBp1OV1RU1N3dvXHjRsQfgDJtmpubOzs7fXx8LCwsZDIZl8slEAidnZ1NTU22trbOzs4ajUYulyM+HiqVSqfTmUymnZ0dMqSAGoNOC9FdFm9/amW4gxXOKnbTK4OydEl3vwq8l0gCACAoKOjZZ5/lcDhIqBCbzY6Li4uKikIcSyPg8XgnJyc/Pz8+n/+fKRmo1GoMsI1PYlTKiiAHK4xF0tOb+vU3enulahCwwAMAAMAwPDQ0dOfOHSSnsqKiwmAwwDDc3t5++/btpKSkhIQEHo83+la0tbWl0+k2NjZTmrA9Niw4kYRAJBL5fD6FQikqKnr//fdJJNJMqqIRCTgCHlVI/x8MBkN8xEORENRqdV1d3dDQ0Ei6lqOjo42NDfILNxqNEomkp6fHZDJxOJza2lqxWBwbG1tYWAgAwIYNG3Q63blz5/z8/Nzd3Xk83n/kCKjqqr4rUpIZHLVU0t7WI/fmUGi4/9FJIAi2traKRKKIiIiRmToMwwMDAwUFBUgU7chGxA+BLPyz2WwejzcSJkmlUjkcDnLIe++9x+FwhoaG8Hj87du3hULhsmXLRodXK5XKgYEBrVaLxWItLS0tLS3H+1ONRmNTUxOFQlm3bt3opyYIgnl5eeXl5d7e3oi/CgCA/v7+4eFhtVpNo9E4HA6i2Gbvy3lMQB4qJSUlZDJ59EIDCIIZGRkAAAQFBY0IWWQRFlHhbDbbzs5u9MBlbW09PDxcVFQUFhbm4eEhl8upVGpHR0ddXd2SJUtGi1qDwdDT06NSqYxGo42NjY2NzRhHEYJYLDaZTCtXruRyuSM+BgiCampq8vLy6HR6eHg48mBTKpV9fX0KhYJMJtvY2LDZbLTO5CTB4/GbNm1C/k0ikSAIMplMGAwmKioqKioK2Y4kKsIw3NvbazAYaDRaR0cHh8OhUql4mq1PynafkWJtVI5nyisHJqzd9vbbb49eLbG3t9+8ebOdnd0Yb+XQ0NDQ0FBra6tYLEYWfCkUJl+48lXhyv/uwrQLWvNW0Jox58disf7+/p9//vnIFhKJFBQU9OKLL5LJ5DH5BzKZTKlUtre3SyQSqVRKoVDueSs+xizQMRGGYSKR6OvrS6fTJ7NsgfJkMjAwgEQFRUVFIQ94Mpk8MrgYDIbKyspTp0699NJLRCLx3Llz33///ZEjRw4fPlxUVBQcHGxhYQGCoFQqHRgYQGq4AYBZ3Vly+uSNdn7sugTlnbyCjExHR25KsD2DMGroUKvVjY2NCoXCxcVlZHpnMpk6Ojpqa2sTEhJGahrpdLqrV6/W1tY6OjpeuXJlzZo1GzduHB0pGRoaevfuXV9fXyRIE+mRWV1dvXnz5jFJc+Xl5SKRCKkRIBAINm7cOF4k6XS68vJyIpE4MnwDAIB41w8cOODo6PiXv/xFIBBgsVi5XH7p0iWz2dzf3y+TydLS0mJiYlCRNB6DwdDa2lpdXR0fHz/ioYRhWCaTnT59GmkLOvL0KigouHXrFp1Ob2pq8vPzW7du3eh1Xl9fX0dHRz6f7+bmRqfTjUYjnU7v6+tjMBipqakjH77RaBSLxVlZWQwGo6WlhUKh7Nq1655Pplu3bhmNxoCAgBE/KFLF56effjKbzbt27UpISKBSqWq1urCwsKGhQa1WS6XSwMDA6ZWaezK5Z5NQb2/vMVukUmlvb29bW5ubmxubzb516xabzfbx8ZnGb2pMNCGTyRxThEmr1ba3t7e2tjo5OfF4PCSV1dXVdTIZ+1gs1t7efjJF14xG4507d/r6+mxtbR0dHWtra21tbf39/Z80kbRA/SsajUYkEmEwmMrKSrlcDgDAnBa8QXkUMZlMNTU1tbW1FhYW9ww5YjAYQqEQmWRbW1snJibi8fjw8PBDhw4BAFBXV8flcpFkDaQcHwAAoKaz5NSvv7XZJa3a9PKuV1+MIUkKLp7PudspN8D/PS2Sy9bU1OTh4REeHo4UpYUgaHBwUCQSsVisiIgI5GyIb+nTTz9dunTpxo0b09PTER/DaOzs7JycnJYsWYK46ykUCmLk6Ho8AAB0dHSUlpYiYTEgCFZXVyPeoBFgGDaZTF1dXdnZ2RgMBovFKpVKqVTa1tZ24cKF77//3mg0vvfee0lJSchIWltbW1hYGBISkpaWhiRJoNHc44FheHh4WCQSsdnslJSUEY+RTqcrLCzEYrExMTEUCmVk8n3w4EGBQPDcc88ZjUalUjmmYDGLxeJyuUFBQcgSGIFAIBKJ7u7uS5YsGd38QaVS3b59WyKRPP30097e3pmZmfes1yCTyW7evKnX64lEolarlclk3d3dN27cOHLkiFgs3rhx46ZNm5DyWhKJpKCggMPhbNq0CUmjQ8tLzjoSiaSkpIRCoSxfvtzDwwP5Dc5R1LxCoSgsLNTpdKGhoWvWrPHw8NDpdLNe1EOn06Wnpw8ODnp6er7wwgtICbonsHTIwpo4Ip5Mk8nU3NwsFovXrVv3wQcf1NbWIoGxk6w4jPIkAEHQwMBAbW2tXq+3s7MzGo06nW78RIpAICD6CSkngcyixiuV/wKbpW317eSIjSvWxXnY2ZKTtj7XornS1NUpkfk5sUnIr0WhUIjFYiR1BYZhtVpNp9OVSmV9fT1SooJCofT19fH5fBiGYRgmk8larbakpMTb23v00gwCh8PZtm2bv78/MrNnMBh8Pt/X1xepuD0CHo+n0+kQBHV0dDCZzLCwsDFvFlFptbW1VCrVysqqtLQUj8fL5fL29vYzZ84sW7YMKcc8Mq/F4XAcDkepVHZ0dAQGBiJtNaf9dTyu6PX61tbWzs5OT09PJpMpl8vZbLbRaOzo6CgrK/P19XV2dkbi9xGJ6eDggMVi79y509PTk5iYOEbI2tnZLVmyJDw83NraGgAABoPh4OAQGxuLRIeMgMfjraysLCws2traurq6UlJSxmsanU6HTCDd3d2bmppqa2shCBoaGjp//rytre0f/vCHkJCQkaMoFAqXyzWbzWKxmMViBQUFoW6kWWd0BGFycnJSUtLc5RXa2dk9//zzGAwGh8OFhYWFhYXNxRfKYrE+/PBDHA6HxWJHvGJPWtQ2sNBEkkqlqqmp6enp0el0K1aswGAwlpaWZ86c8ff3j46ORkUSyggmk0mtVsfHx8fHxwP/Xf4Yf4eAIKjT6QwGAwAAI9P6MfN7jUZjNBoRfwDJMen1Q0kjf2J4LX/rH8vHnFOlUvF4vN/97ncAAJBIJIVCQaFQVCoVkUjctm0bsk9/fz+fz8disRwOZ+fOnVeuXNFoNH/729/8/f3HBBYEBwcjD0XkJYVC2bRpE5/PHzNjc3BwQHz4jo6O7u7uy5ePtQoEQb1e7+Tk9NVXX418RDQaLSYmZsuWLUhe8ej9fX19z5w5k5+fj8ViV65cOXppD2UEpPv6li1bAADA4XBDQ0MWFhZqtXpwcHDlypUrV64EAKC3t9fa2ppAIGAwmKSkpJKSkvz8/G3btqWkpIwJkLe1tV21atXo4ulRUVEBAQFjEtCoVKqNjU1ra2tubi6Lxdq+fft4w6RSKZlM/uSTT0Zv9Pb2/uc//2ljYzPGKYhUmigtLeVwOGFhYUuWLJnxB4MyltHLag/BKTtyuTnVuyMTJzwe/8SuxS+sty2Xy69cuVJTU7N3715/f3+VSvX666+fOHFi6dKlk+yJjfKEQCKRPD09J360G43Grq6uqqoqEokUHh7e3NwMQRASWQkAQF9fn8lkwmKxSHySj4/PJIc2R0fH8R3ZHBwcxlfdhSBIJpPl5eW5uLi8+OKLiJthzD7ji46Mz4xDAkJbW1upVOqSJUucnZ3Hp6cRiUQXF5fRJbYnprW1dXBw0M3NLT4+fkxuFMoIbDZ7/NdhZWV1z+xFpNGyyWR65plnvL29xzfzGi/i7zmsqdXqlpYWEASR23JMThMCn8/n8/mTfBd9fX3d3d3W1tYrVqxwdXVF19pQUCbPwopJcnBwePfddw8fPpyUlAQAAIPB2L59+y+//ILM2O4JMtWbxrVAs1mjUauUCuQ/jUZtMhlHXqpVSmRRxmgwjGwcacw+JWAYNhj0arXKaDRMzUIQlMukJqMRAKZwXZPJqFYp9bpHO7d/VkAi2wYGBsrLy+vr67Ozsz08PLKysu7evRsQEFBWVqZSqZycnEQiUVNTk1arnd73ez9gGNbpdCKRiEwmnzt37ve//31mZub0umorlcrW1lYcDtfW1vbuu++mp6fPsGS2XC5vaWlxcnI6derUJ598UlVVdf8lSJRJgXS8Qrx9+/fvP3HihFQqncZ5jEZjb2/v8PAwjUZ7//33jx49qlAoZmKYRqPp6Oig0WhVVVV//OMfMzIykL4oKCgok2FheZKQwJHRs2Q8Hj/xKltNTQ2FQrGzs5tqArNKqRCLqrslHRq1ikgiOTm7CZzda6srpEMDZpOJbWkdEBzG4zv1dHdWVZQqFXJbHj9hSRphihNuo9Eolw01iGvlsiG/gBBnV48HH4N0ZVEp21oaC25cXbl+s4OTy2RWgk0mk1qlaGkSd7a1uHp4BwSHTcnUxw82m71z586dO3ciL0fP/levXo38Y9u2bcuWLbO0tJz1tXYIgrq6us6dO/evf/3LbDafOnXq3//+95o1a6ZR0b+qqqqnp2fLli1vvPHGmTNnqquro6OjZ9KQKyMjw8LC4ve///2ePXu+/vrrhoYGd3f3KTU/QRmDXC7/5ptv/vznP+/Zsyc/P//999+PjIycRl2Z7u7uwsLC0NDQXbt2VVRU/Pjjj01NTWFh0/8tV1ZWDgwMbN68effu3WfPnu3s7JRIJGg3NxSUSbKwRNI0yM/Pv3DhQnJy8vLly11cXJhM5iSlEoVKJZJIRXk5Vy+fCxBGvP2nT+lMJo1GP3jg0/bWpu0vvxERk4DBYChU6t3KsowLv3558CcMdkrdUgEYhru72i5fOJ2RftrewcnFbVIDEwzD8mFZXs6Vj/70O5VKGbckZZKepIHe7pysS+dP/0CmUF55870pmfokM0fiAIIgo9HI5XKRWm1ubm7r1q2bXs8jDAZDIBAgCIIgiMPheHp6jk6GmgZ6vR6PxxsMhv/H3n3HNXX1fwA/2Tc7hLCnA3ECKgjiwFX3Qqu2tY4OV1u7q7Wtto+tWvuro8O22vaxtn3aaq22rmrVqnWBE3AAsncgkISQcTNu7u+PiylCgBBCAPm+X8+rD0lu7jkEJJ+cc+73cLncgICA0NDQrnZZr8vp9Xoej2c2my0WS0hIyDPPPOPcGkqCICwWC4vFMpvNPj4+ffv2beVaTGofQLPZTNUe9PLycmyLHgAAQg9BSEIIZWdnp6enHzx4cObMmdSku0AgaDYqcTBu957hfftH3U69Nu/JZ6MGxSKEwsL79erTv6K8bFri454yb4SQp8zHLyB44ZKVMUNHMpktu/zHZDRiGG/YyHHlZSVlJUWOP9FqtYwYM37k2Qknjhxw/FkcDBuWMC43OyPjblqL+gnaAovFCgsLGzp06KFDh/h8Pp1Of+qpp5wbrxo4cKDVar169SqXy8UwbObMma0sHjZjxoy//vrr0qVLOI5HRkb2798f1qm0UlBQ0OzZs5OTk8VisdlsnjFjhnPliYOCgoYNG3b9+nWFQoEQmjRpUitDUnx8/OXLl1NTU7OyssRicWRkZBe8ihsAp3X6kERds7N27dq0tLQ9e/b89ttviYmJ06dP79mzJ5/PbzoqsdmYQCQ2my06XQ2qXTxkVFYpCIulXF4a2j2MJEmNRn3u1LENW3exmjyV2WSi0WkMBrPuNUQcDPMLCOLxBZ4y74YhiSRJK0EQVoLJZNHpdJK0WswWJotFo9G8vP0QQoHB3Wm0+gMPJElarYSVsDKYTDqdTo0u0Ol0Op0u8/aVeft6eMKkSUdBFU1p/XmEQiF1EZ+ryGQy6oot4EIu+RlxOJzIyEi7BQydIxaLJ05sssAzAKBxrglJJEk6viKVvM8lTfN4PDqd3r9//2effTY1NXX37t3ff//9/v37ExMTZ82aFRYWRhBEY9NVGBeTeEgNem1ZcSFCyGjE02+nXDh7UiSSGAx6hJDFYrlw9q8Zjz4ZHNqd1vhEidVqvfjPaaFI1LtvBF/g0K5YpNWq1+uKCnML8nIiBsZ4+/gpKuR3b6UMiU8QNHUGUq/TFhfmlRYX9Ysc5OnpVVSYV6WoCA7t7uXT8vkXElmtRLPL3p1bF28XVAQFAADQibgmJCmVytLSUgffTfV6vUKhcNUVFoWFhQRBaDQaOp0eHx8fHR1948aN//73v7t37/7555/nzJkjCI4j2PbHvel0BpvNqVarUm9cIUlSWaW4duXChKmzLp49pddqSZKsViv3/vD1F7sP0OlNzZJUKsp/+u5LHp+//MU1vftFONJtpbLyxtVLmXdv7f9595Ln3xg+evyOre8nXzz3wcdfjRg9obFnmUymC+dOZmfe3f/z7uUvrQnvM+DzLe9fT77w1vtbZ81byGC04KdJkiRuqCnIVdzybuqyJoPBUFJS4qpLn4qKimg0WtvVWAMAAABcyDUh6erVq0uXLqUm0R1Rr65dXdTuCtRKVUdORZIktbkghcVixcTEeHp6slisgwcPfvLJJ8F9ksfNfBoNrF+NhiLz8okYOMRqtWo06vzcLLPRmDh34blTf+bnZZlMxjN/HZ0+6wmxpJkpfG8fv3UbP+Xx+WKJ1JE+I4Q8Zd6PTJoZ3mdAXu69E0cPkKR15Wvr3nlfKhLbqYliw2ZzJkyZFTloyLnTf95JvVEhL335zfUh3XpyOJwWJSSEkJWwFOemf/Xtmncb/1lQmvhhOSEkJGTbtm0uPCEAAADQRlwTksLDw7/88ksHJ1PYbLaXl5fdCmkIoeTk5MWLF1PlgB0526VLl9auXUt9TZJkSUnJH3/88cUXX9y7d2/ixIlLly6tJAOKlI1OBfL4fB8/f3lpcVbGnbQbV2fOWaDRqBFCVqu1rKR447uvnb2W60g3AoNDmz+oAS6X7+MbcO3yBV+/oKAQR8sA+voFYlzeLz/s2rjt6569+mBY85saNkSnM7wDur20Zkt8ZFPLQnk8XmBgoAs3rGAwGFKpo1ESAAAAaEeuCUmhoaGhoc6khIaKi4sRQhiGNaxEbFd+fj71Fl5cXHz8+PEdO3bk5uZOmTLlo48+io+Pl0gkv5/PLVKqGns6hnGlnl5FBXmKcnm1WjlgYExezj2L2ZyTeffiuZOr1n7Y7DBSa3B5vG7de3EwTrceYS164qTpc5hMZnBoD+cSEkKIRqeLPLwG9+w9Y5y796Nw7dAUAAAA0EZcE5La4m2vRef88ssvMzIyFArF1KlTt27dGhsbK5FI6HQ6jUZDqKnzsDmYxENamJ/z56FfH1u0lGrUYNAfP/Jb8qVzR86m2o40GvHCvByBSOTt438v/bZQLPbx9WexWrWZQ3W16vqVi0bcmJ+X3aNXHwefpVQqbqdeu3XzWnlZidlsak0faDQaRBYAAADArk5fAoDyzz//JCYmLliwYMiQIRKJhMFgOPjez2AwORwuabXyBIKBg+MQQjy+IG7YqDu3br729kYPqaftyMK8nBPHDqqqFINjhyvkpWG9+0ulstYEFE216l76bf+AYL/AoDu3box+ZIpOWyMUNV//5o9ff+wfOfhWyrXyshKdtoZOp7PYHC4XigECAAAArvQwhKR58+aNGDEiOjpaIpEwmcwWDY1gXK6nzMvXP3DKzHkYl4cQYrHY3cP60BmM8VNm1j1V97Dw6bOfWDBrbGBwt2mzHhdLPGy1Jc1m04G930skHrHxoyR1chXFYjGbTWaL2WLbu02lrLqXfltZVVFclD911jylUnHkwC9x8aNup914evkrjXW1qqpCrazKuHMrIDC0X+SgE0cO3Eq9zuZgAUEhA6KiqZCE4wYjjjv+7QMAAACgMR1rg1snxMbGrl69euzYsTKZjMVitXTyiMFgSGVeEYOGDIoeSj2XwaD7BwTOW7BEIBA9eCQzMCiEIIjgkO5CkZjFYtva0mlrsjLv3E67Wa2uv/gpJyv9h28+P33iUE52xh/7/3ct+WJVZcWZk0fXvPJM0sWzk6bPCQgMGT95Jl8g/Pn7XZNnzEUIkVZrYX7OgV/2/LznK4vFvP/n7/7+6whuMFy9fP7lZU9kpqf1jxzs5x/49IpXy0qKsjLvBId0l8m8EUJlJUX7fvzm4rmTt1Nv7Pvxm4vnTqmUlU6/sAAAAEAX1+lHkoRCYWtW1XA42JChI3v26svjC6h7BELR1FmPCwSihqc9d/p4YHBoRXmZTqdlszm2A0RiydPLXmFzOBKP+tdtBYf2WLzs5XkLl5KkFcN4fL6AyWKNGT+1f8QgiYdU5u1Do9EHxsR/vON7Lo/v7eOHEKLR6f4BweOnJMYOSyBJxOPzMS6Pg2EjR0/09QsMCAqRenrR6Yy4+FFem33EEg9vH386g4EQ8vLxS5y7cPyUWRazGcMwgVDEZnOcfmUAAACALq7Th6RWrjum0WhCkYRfJxIxmSxfv4B6+4HkZmfIS0s01erZjy1OuZ6krFJMn/2Ef2AItRUXnc7w9Q+0uwiaxWJLPKT1wpNY4iESS2zHc7m8bj161X06k8USsFgC4QNDWTw+v3/kINvOJ2wOp1fv/jQ63bZnKpPJFIrEjqxqAgAAAECzOn1Iaj0ajVZv29GG9bVrqqsJghgxegJCZLVKOTAmztPLp+6O7i3a3b1hnHLw6fV22GU0t4kvAAAAAJwG77IOCevT32q18vkChMhZjy3iC4R1p9sAAAAA8PCBkOQQHo9//0ua1NOrPbsCAAAAALfo9Fe3AQAAAAC0BQhJAAAAAAB2QEgCAAAAALADQhIAAAAAgB0Pf0jishlmi0VnMLd3RzoQgrBqdTidRuNzYeU+AAAAYN/DH5I8RRweh6HS6LV6Y3v3paMwmi0l5Womk+7nKWjvvgAAAAAd1MMfkkJ8Rf6eguLy6tyiStwI40nIZLYUlalyS5RSISfET9T8EwAAAIAu6eGfbfEUY5FhMmWN8Va2XKkx+EgFAl4X3dGMJEmDyVxepS1TaJh0NCLCTyLE2rtTAAAAQAf18IckBoPeK0hCENbrmRWFpVXF5WqM8/B/13aRJDKZCZPZHCjjR/TwGdBDRqdD0XAAAADAvi4RF3gYq183T08xVqLQqbVGs8Xa3j1qNwwGXSLgBHrx/WR8DrtL/PQBAAAA53SVt0mMwwz1Ewd5C41mgiC6bkii0+kYh8mAASQAAACgOV0lJFEYDDqP8fCvVQcAAABA60FiAAAAAACwA0ISAAAAAIAdEJIAAAAAAOzooGuSKioqduzY0d69AAAAAIB9Fy5caO8utLkOGpIKCwtfeuml9u4FAAAAALouOyGJRqPR6XSSJAmCYDAYbu6Qn5/fokWL3NwoAAAAAJwQHx/f3l1oQzSSJOvdheO4XC43mUwBAQEYBttWAAAAAOBhU1lZWVVV5ePjI5FIGhsSsr9wm06HBd0AAAAAeGiZzWaSJBkMRhOZx84DNBqNRqNR021t2T0AAAAAgPZBEAQVkmi0RnehsBOS6HQ6k8m0Wq0mk6ktuwcAAAAA0D4sFgs1KtTEMfZDEovFIknSYrG0Wd8AAAAAANqH1WolCILD4TR9gZqdq9sYDAaHwyFJ0mg0urxbOI4bDAa7E3l0Oh3DMB6P1/pWDAaDwWCwWms3smWz2dRp9Xq9bXiMzWbz+XynL9/TarVGo5Fa9s5kMrlcLo7jZrO5bosEQej1euqbxTBMIBA4/R1ZLJaampp6rxuGYRiGNT1UCAAAAIB6cBy3Wq0cDqfpRdj26yRRg0kmk8lqtbp2EbdSqczMzMzNza2srOTz+TKZjApkVJiIiIgYOHBg61spKyvLyMjIz883mUy+vr5hYWE9e/YkSTIzM/Pu3bsVFRVSqTQqKqpv3758Pt+5JgoLC9PS0kpLS5lMZq9evfr3719aWnrz5k21Wi0WiwcMGNC/f3+tVpuSkpKfn89ms2NjYyMiIpz+jnAcT0lJSUtLw3Gcy+V6e3tzOBwej8fhcIKDgwMCAjgcjtMnBwAAALoUo9FotVqpgYYmDrMfgJhMJoZhBEHodDrXdksqlUokkjNnzmzcuPHkyZMEQUgkEpFIpFKpLl++XFFR4ZJWPD09EUI///zz7t27tVptUFAQn8/ncrl8Pv/y5csbN268evWqv78/m812uglfX9/i4uLt27fv27dPp9OJRKLAwMBLly598MEHp06dQveHjrRa7dGjR2/evCkUClvzHQkEgpCQkJ07d7799tvHjh2zWq0SiSQ1NXXVqlUbNmy4efMmjuOtOT8AAADQdej1epIkmw1J9keSGAwGl8utqanR6/WtfHevB8MwJpNpsViioqKef/758ePHU/f37ds3LCwsICDAJa2IxWKqwlNsbGxCQoK3tze6n/wQQhEREXPmzGllW1KpND4+fs+ePaNGjRo6dKhIJBKJROPHj79582ZkZGS/fv04HA6LxRKLxQkJCePGjevWrVsrvylPT08mk8nn81etWjVy5Egmkzl8+PCgoKDNmzdrNJrVq1cPHjwY5t0AAACAppnNZr1ez2Aw2Gx2ixduo/uLbBBCer3etrLHVcrLy8vLywMDA3v06EH1FcdxHo8XEhLiqpBEkuSdO3fKysr8/f2pUSVKWVlZQUGBl5dXcHBw61sJCgricrm5ublarRYhZDKZCgoKVCqVxWKhFg9pNJrk5GSdTte3b9/WN5eRkYHj+IgRI4KCgphMJkKIxWLNmDFj4MCBR44cOX36tF6vb30rAAAAwMNNp9NZrVZH1iU3ut6IxWLx+Xyz2VxTU+PCnhEEkZGRkZeX5+vr6+XlZbFYcnNzb968KZFI+vTp4+Hh0egzScKoLs/LK1HozCSJHDnYlgAAIABJREFUELLolWWFxZUao8Vav2Y4MhgMly5dksvl3t7ePB7PbDabzWaj0ZiZmZmVleXl5eXr69tIIyadUl5QKFfqLQghkjTrFCV5hVU6S4PC5AhRK6ZNJhMVie7cuZOUlFRVVVVRUaFWq0mSTEtL8/f3nzt3LpU467NajDVVpYXFZSoDQbVdU1lUUFalt39R4d27dw0Gw7Bhw+q+Sjweb/DgwQEBAaWlpZWVlY2+egAAAABAiCTJ6upqq9UqEomoEYcmNBWSxGIxQRDV1dUNty5xWmVl5d27d9lsdnBwsEqlunr16pkzZ0pLS21dN5vNBoOhwQob0mqpuvO/V4dETnnxpztKI0Hosw+/80TCjA/231LoiPrdy8/PV6lUERERDAbj2rVrycnJycnJp0+fPnv2LIfDiY2NFYvF9npHGNU5Z3e8OCJhwTuHc/SE2ahM/fnFaVFTtvwtxxs0gvz9/TkcTlpamkqlIgji77//7tGjR9++fUmSJElSo9GkpqbSaLTevXvba4sk9OXpR7Y8PXrSY5tOFhjMZk3h1W9fHR3/7JaLFQ3H7giCuHTpUk1NTY8ePepdACgUCjEMM5lMULIBAAAAaJper6cugcIwrNlL0xrNUHQ6nToFjuN6vd7pq8DqKSwsLCkpKS0t3bhx46ZNm3AcT0hI+PDDD6lHDQbDvXv30tPTxWLx5MmT6zyPRmfKohas+TR92YoPPjswZN2wu19sOmQd98HCyX28hMz6E4p5eXlKpfLevXvvvfeebbrRaDTq9frhw4f36tWrkd4xMI/uIxY890bee5s3fTViwAt9L37x/nHhU/97boI/1qARhBDCMKygoECj0RQVFYlEohEjRuTm5uI4Tl2MJhaL4+LiGgmqNIbAt/cj81/OL3/7u292xASs8Lnw6RdnZYu/fWmsf8MfmlwuP3funMVi6dmzZ92QZLVaT58+nZGRkZCQAAuSAAAAgCaQJFlVVWW1WoVCoSM1gJoaaGKxWFKptLS0tKqqisfjtf49mCTJ3NzcwsLCxx57bN26dTweb+/evZWVlbYVQhiG0Wi05OTkiRMn1n8yjU4X9p33zporZ+Zv/EA76OZJy6RPnpvaW8av/y2QJHnr1q2Kior33ntvyZIltnh36NCh999/38vLKzAwsNEu0jmiwOjHVy5Me/KNt9YWR6ecFS7e8+bEQFYjWTMxMTE7O7u6uvrEiRMBAQFhYWEYhsnl8oyMjIyMDH9//+7duzf+ejAwWc+4xxc8k/HOf95em9tPfc3r2W9fGuVjr63s7GyTyTR//nwfH5+691dVVel0OgaDERAQUHf1FQAAAADq0ev1er2eyWQ6MteGmphuQwgxGAwej4dhmF6vV6vVLuncpUuX7ty54+fn5+fnJ5PJhgwZEhkZacsxdDq9qqrq/Pnz1Jru+mh0uu/4NzYsZh0/dNhv6buvTOnjwW34LVZWVl66dInD4fTs2dN2ZpPJdOPGjdTUVG9vb2p5OEmSVquVWpb+wEZ1TL5Hr0nPvzLdeOzEifDXPl89zpeOGouH1EhdWlpaenq6TCbz9vZmMpkkSSYnJ0ul0uHDh1M/A1tb1Ewc9QVCCCGOxD9y6tOzR2ou/HO1+/MfLR3nzbLbUGpqqsFgiI6OrnuxIUmSt2/fLi8vj4qKiomJEYvFjbQCAAAAdHUkSZaXl1utVh8fHwdrADUzG8fhcLy9va1Wa2VlZeu3cquoqFAqlQMHDoyJiWGxWAihmJiYmTNn2g7Q6XSlpaV8Pr/Rq89IbWlOYTmioVyF2mhpuE4IIVRcXFxTUzNo0KC6J5HL5WVlZf3794+Pj6ea1mq1169fv3jxok6nKy4u/ueff+5XGLdazDWlBSUKEqGcCqWlqZwRGhrK5/MPHjzYr1+/sLAwDw8PHo+XlZV14cIFHo9nG0bS6XR37ty5evVqVVWVXC5PTk6uqqqivh/CbKguLSuuspJkhUJtstsYSZKffvqpUqns1q0bVcWAUlNTc+TIkezs7KlTpw4aNEiv19+7d+/q1aulpaUVFRWpqanFxcVNdB4AAADoOqqqqoxGo0AgEAgEDhbKbmasiUajcblcqVRaVVVVVlYWEhLSmv6VlJRUVFRQ9a/tHlBdXa1SqaZMmWK/fjRp1t74/p21N6OXLA04+u3mbcMGfvxYlDev3vdAzbUlJCTUvYRNLpfL5fKAgABbvSKLxZKWlnbq1KkxY8ZUVlb6+voOHjyYw+FYcXXxhV+2fJY/aulC38Nfv7EhIW7HDL9GBpO4XC6DwRCLxZGRkbbZrsLCwjFjxsTHx9uG8iwWS35+/sWLF/l8vqenp1Qq9fHxkclkiNApsv75/ptjOWPmPeZx54e1u8YMXjfFt368zc/Pt1gso0ePDgsLs4Vfk8m0Z8+eQ4cOTZo06dFHH/X09FSr1eXl5fv37+fz+f369TObzUOHDm3q5wEAAAB0DXq9vqKigkajeXl5OTLRRmn+OBaLJZPJDAYD1QBVmNEJZrM5OTn57t27c+bMaewkKpWqtLR0woQJdh4jCaL6+jdvbT8X+9yxNUu6j2HNXPr1tqju7z8zNFTMsQVCk8l08ODBe/fueXp62ubazGbztWvXUlNTJ0yYYMt5Hh4e48ePz8nJ+fXXX3/44QeZTMZgMJDVUF14cc+n+9PHvvrH2lnCGPOEZRvfHdrz4yf7iuh21mT5+vpiGJaYmGibH3zkkUdMJtP06dPDwsJsh0kkkuHDh9+5c+fkyZMbN26MiYmh0WgIWXTlGX//8Mu+0hEbfnxrquWIZv57b30YGb5hdk/+Awn35s2b1ChXdXU1VYQpKytr+/btd+/eXb58+bx586gJRIlEMmLEiNOnT1++fHn8+PEJCQmu3VIGAAAA6IwIgiguLiZJ0t/fv0VrrBnvvfde8wcxGFwuV6VSGQwGNptdd8bHQTqdbt++fd98801OTo7VahUIBL6+vvVqeRMEcfXq1V9++eWZZ55pcIk+aTUrru96Z+E30jXfvjO3t8wzrKdf2Z9ffnkTRcREhnjwWHSEUG5u7vbt248fP15TU2OxWDw9Pf39/QsLC7/99tvvvvsuNzdXp9OZzebaURyEzGZzenp6UVHRkiVL6HQ6QoShKuvvXds/OBO65rNXZvSUirt1883fv+HjNI9Hxkb7cRkNXla9Xl9SUjJt2rQePXpQL3p6enpwcHB8fHy9b4HFYqWnpxcWFj7xxBMikYhGQ4S29PbRH7btyu6/6q03JodJPPxDBcU/bPv1jmzo1Oh/R5O++OKL1atXV1ZWFhYWXr169dSpU999911+fv6IESOWLVs2btw4T09P28+bRqOVlpZyOJwhQ4b4+vrC9W4AAAC6OIIgCgsLjUajWCz28vJq0cb2NAfX9lqt1pqamqKiIoSQv79/I3WGGkWSpMlkwnGcIAgmk0lt2VFvnEOj0fz000/79u07cuQIg8FoMONmteA6jR7xRAKMSUPIatZrdUYam8/jsmrTC0EQRqOR2peXxWJRrVitVpPJRJV8pGqQs9lsBoNBEER6evrWrVvz8vL27Nnj4eEhFApJkjAb9DoTnSfkcRg0RBImvVZrpN9vtD4cx9VqtUQisQXHiooKqsRUve8uLS3thx9+sFgsjz322MCBA9lsNiKtFhNuMFjoXD6Pw6CRVsJkqNFbGFx+3cZwHDcYDNSPicFg0Ol0kiQZDAaLxWIymfVaycjIOHLkSHFx8SOPPDJ27FjqsBb9pAAAAICHSUFBgVarpTb2aOl7okMjSQghGo1GxZqamhqtVtvS8SQajUZtncblcjkcDpPJbDjIoVKp7t27ZzQa1Wp1REREgylDGp3J4XI5TDr1RBqDxcG4HBbj32kwOp3OYrFsrVAVseveiWEYi8UiSbKgoODYsWMlJSWDBw+urq5Wq9Umk6lbt240Gp3B4nAxdm0rNDqDjdVptMHLx2AIBIK6LzqXy+VyuXWzS1FR0alTp0pLS8PCwmpqai5fvmy1Wrt3785gMulMFgfj1DZGo9GZbIyL1WuM2iKGgmEYh8PhcDhUzqv7GpaWll69evXu3bv+/v5arTY5OVkgEAQGBkJIAgAA0DURBFFeXl5dXY1hWFBQULM7tTXk6NolhBCDwZBKpQghuVxO1chu6XhS04RCIVWueuzYsQ5em+cckiRxHPf29o6KiuJwOGKxWC6XR0dHO3Gqhi93w2VAOI4LhcLIyEiq8EF2dnZ0dLTLsws1eBYbGxsSEuLv719UVBQWFmZ/OxQAAADgYWexWIqLi/V6PYZhwcHBHA7HiSUojk631W1VqVTK5XI6ne7p6enl5eWqhS8kSRqNRrPZzOPxWjRl6ERDZrOZIAjqJaM29HBJtUy7zGazxWKhZsdMJpPZbMYwzOXfoMVisVgsTCaTasVisbDZbMcX8AMAAAAPB2oopLy8XKfTtSYhISdCEkKIIAitVkutT6KWYMOcDgAAAADandVq1Wq15eXlZrNZJBL5+Pg4nZCQcyGJ6oROpysrKzMajRwOx9PTUyQSwQXnAAAAAGgvJpNJoVDU1NSQJCmVSqmSSK2ZJnIyJKH7F6xVVlaqVCoajcbn86l60xCVAAAAAOA21Cqa6upqjUZjMplYLJavry+fz2/9mhPnQxLFbDbrdLqqqiocx+l0Oo/HE4lEjhf8BgAAAABwji0e1dTUUJuneXh4UHV5XJJDWhuSEEJUISKtVqtSqUwmE51O53A4PB6Pz+e7qpcAAAAAABQqG+nvIwiCJEmhUCiRSLhcbiun2OpyQUiiEARhMpn0er1Go9Hr9Qgh6kqrunV9qHugDDQAAAAAHEcQBHURt9lsNpvNOI5TNaKtViuTyaT2rMUwzIlKSE1zWUiiEARhNptNJhO11xuO41arlU6n0+l0qq4jJCQAAAAAtAh5n9VqtVqtJEmyWCxqzorNZrNYLBaL1RYBw8UhiUKSJJWWLPdRlXuozVld3hwAAAAAHmLUvh3UlBS151hj23O5uN22CEl1UbmPGhOzWq205GT2u++SPj7WsDCEEBETgzCM9PGx9urVpt0AAAAAQCdFTUZR81EOBaP8fJSUhJKTkViMHNt+za42r8hMo9EYDMa/BaYLCtD5840eHReHMAyFhqKQEIQQGjUKIYRCQ1FoaFv3EwAAAACd2NmztcEoKQnJ5bV39u7doUNSffn5TT2alPTAzf/854GbtswEEQoAAADo4mzDRUlJ9fODTUYGUquRROJcC20+3VZfRgaSyxGO134/mZkP3GyNuhEKw1BcHEII9e6NfH1be2YAAAAAdAR2h4sakkhQXByKjUWjRtVOUjnF7SGpaW0UoepmJh8fiFAAAABA5+DIcBElKqo2GMXFod69XdJ4BwtJTasXoVJTkVqN1GqUktKq0zYWoaKinB6gAwAAAICT3Dtc1IROFZKalpLyQGZyVYSSSFBUFEIIRUUhsfiBmxChAAAAgNZr1+GiJjxEIalpdiOUXI4yMlp1WohQAAAAgBM6zHBRE7pMSGpaUhLC8X8zU3LyAzed5utbm3Pj4hCH88BN9/6YAQAAgHbWUYeLmgAhyQEQoQAAAAAndIbhoiZASGq1s2cRQig/v7YE1LlzD9x0mi0zJSQgVKccFFXpAAAAAOiAOuFwURMgJLWxNopQtswEEQoAAEA7oi45P3sWpaZ20uGiJkBIaldUhKJKGxiNtaGbutka9SIUVQ7KVtoAAAAAaI2MjH+Hi5q+hLwzDBc1AUJSR2UrB+XyCGXLTLGxD9yECAUAAMAu23ARFYzU6kaP7ITDRU2AkNQ51YtQ1dW1WZ6qdNAadiOUrbQBAACALqLLDBc1AULSw8hWDorKTC6MUFT9J4kERUY+cBMiFAAAdHZddbioCRCSuh6IUAAAACgwXNQkCEngQbb6T1R1qPLyB262BvVpw9cXhYc/cLPL/GMDAID2B8NFLQEhCbQERCgAAOh0YLjIWRCSgOvYIhRV2qCgoLYcFHWzNajMFBqKQkIQul8OylbpAAAAQF0wXOQiEJKAu9hKaLo8QtkyE0QoAECXBcNFbQBCEugY6kWozEwkl/9b6aA16kYoWzkoqrQBAAB0XjBc1Pa6REjCcZwgCIIgDAZDe/cFOIOZnU2vqEA4zr5xAyHEyM6mV1TQjEbW9eutOS3J4ZgHD0YIEWFhVi8v201Lz55Wb2+X9BwAAFyImZ3Nun6ddeMG6/p15u3bTRxp6d/fPHiwedAg8+DBlp49265LAoEAIcRisdhsdtu10l4ewpBEEASO41qtVqvVmkwms9ls+x55PF779g20BXZuLkOhoBmN3NRUhBArN5dZWUnXaDjp6a05Lcnh4FFRCCFT9+6ETGZls6mbxj59rCKRS3oOAABNoxmNWEoK78oVLDUVS0mhazSNHWkVifCoKDwyUj9kCB4VRXI4buie1WrF71+1Q6PRMAxjs9lcLlcgEPD5fDd0oK09PCEJx/Hq6urq6mpquAjDMAzDuFwuhmEPa8IFjqClpiK1GqnVtNRUhBCqd9NpEglpKwclFpNiMVUOioyMRBJJ67sNAOi6MjJoycm0K1dQUlLTf6nIyEgUF0cOGULGxrbv6iJqxkan0xkMBhzHzWYzjUYTiUQCgUAkEnXet+BOH5JMJpNKpVIqlSaTicViiUQiPp/P5/MZDEZ7dw10AhChAADtD8dpycm0c+dQcjItObnp1UVkbCyKjSUTEsjY2A67ushkMul0Op1Op9ForFYrl8uVSqUeHh6d7q25E4ckjUajUCi0Wi2VjTw8PLCO+usCOilacjLCcSSX0zIzEUIoORnhOM1WHcppvr6krRwUh0P6+FAfATvynzwAgIt1wuEi52juI0nSw8PDy8urE71Zd8qQpFKp5HK5yWTi8XgymUwEC0RAe4AIBQBogYduuKhFCILQaDRVVVU4jguFQh8fn06xaKmThSSNRlNSUmIymSQSibe3d+ed5gQPvfoR6tw5hBDNVh3KabYIlZCAECJDQqhyUGRCQmt7DABwuS4zXOQ4nU5XXl6u1+uFQqG/v38HH1XqNCHJZDIVFRVptVqhUOjn5wfxCHRqtHPnEEIoP59WUICQ6yJUaChJVdSECAVAu+jaw0WOs0UlqVTq7+/fYdcqdY6QVF5eLpfLMQzz8/PrFAN0ALSG/QhFFdhsjXoRKjwc+foiDCNjY1vZYQC6NBgucpZKpSorK6PRaMHBwR1z5UxHD0k4jhcWFhqNRh8fH09Pz/buDgDtDcdpyckIIZSRQSsvR0YjVZTcBRGqd2/SxwdhGIqNRRChAGgCDBe5DkEQFRUVVVVVEokkMDCwow0pdeiQpFKpSkpKWCxWcHAwzK8B0Dw3RyhbpQMAHnowXNSWdDpdQUEBk8ns1q1bh1ql1HFDUlFRkVKp9PT09PPza+++APBQsNV/SkmhVVej6mpqF8zaYlGtUFv/SSJBkZF1b0KEAp0YDBe5F0EQBQUFer0+ODjYw8OjvbtTqyOGJIIg8vPz9Xq9n59fx3mlAHjIQYQCAIaL2ltFRUVFRYVUKg0KCmrvviDUAUMSQRA5OTlGo7F79+4daswNgC7NFqGSkmhGI7pfDqq20kEr1H7y9vVF4eG2m7bqUAC0LRgu6niolTYdJCd1rJBEJSSSJAMDA51OSLdzFNkl1eUqQ0ufKOaz+4dKw0OlLGbLFo6VKmrSsisLKrQtbRFjMcICxVG9vHkYq6XPBaADsZWDgggFOj4YLurwqCVKQqEwKCiofZdyd6CQZEtI3bp1c/pFuZ2tuHhH3itE5iniMVuYdZTV+qyiSj8P7sSh3Rx/Vqmi5vCl/O7+Hj6ewpa2WKPDs4uqGHQ0e1TPliYzADqNehHqfjmo2koHrVAboUJDUUgIul8OylYdCoBaMFzUCeE4npubKxQKQ9v1n3NHCUkuSUgIoT3H7vYIknUPkjn3dLVGf/5m3oIJvR0f2jl+Oc+K6FF9nBwVtFisf15MnxATHOovdu4MAHRu98tB1WYmF0YoqoQmRKhOJT09XaVS2W6GhIQEBARQX1+6dMl2f3x8fN3juVxuv3792Gy22UKUVGi1BhMnN5ufcp2XdoOXcp2bfqeJFg19+umjBhsHRovHjcQi+reot7bmWvQshBCbyQj0EcIcQtOonCSRSNpx3o3ZXg3XZVuHFB4e3sqBNdxMSMU8p58uEfEQQnqDyfHf3XKVoX+Y89ffMZl0XynfiX9jADwkQkPJJsqCtyJC1R5z/0jag4/WjVAkh4Pi4pCttAFoP2VlZdu2bbPdXLNmjS0kbdq0yXb/4cOHqS+SkpIOHDiAEOrbvfsrw0ZWHD7rmZHaN+s2S6tprAmzQKTsG6XsE1kZNUTZN4pgcxBCyhrclEdMkFU7/nm1ugb//XwubiZ8pS0ucayswU0pJfDxuGkYhnXv3j07Oxsh1F45qUOEpNLSUmqldkerIuUI3ExwOfBpAIC20XSEospB2apDUeWgbDebVDdC1ctP/5bQ7N0b+fhAhHKnMWPGjBkzxu5DtmD0r4yMp+n0Bb6++Nmz4j//RDt2BDRyWnP/SGN0rGnwEFN0rDksHCEkQEiAUN1BxTtZpedSSgK8BQ4ufrh8q4zHZY8eEspk0h05vp6WNtc1YRgWEBBQUlIiEAja5Wr39g9JlZWVSqUyODgYrmUDALRM795k794IIXLCBDuPOh2hcNyZCEWVNgBtyt7qIg5CnAYHWsUSU3SsafAQfNhIU3QsyWn+/SW8m29uqaq6Bpd5ODQyVKDQDh0Q7FxCcqK5LsvDw8NsNhcWFrLZbPfvS9bOIQnH8ZKSEm9v7465aQsAoBNzJELZShtQ5aBsN5vQdISy1X+KikJiMSkWo6goBBGqOSUlJVu2bNm6daudxxy+GM3Sf4AmMgbFxduGi1rEibjT0ot1Wtlcl+Xt7W0wGPLy8vr06ePmGaf2DEkEQeTl5fF4PG9v73bsBgCgK7JFqBkzGj5Iq5eZHI9QajVEKOdkZWXVfuXsxWhVBqKihqSWloKHTGBgYHZ2dnFxcQi1S7e7tGdIKi8vt1gsPXr0aMc+AABAQ7Zq4A5FqORkhOO0+9WhmtJ0hPL1JcPDEUIoLg5xOLZyUF3hWnRWTs4jJSX05593unZRSUnJ8uXL33h3m0TUve37C9yNwWAEBgbm5eXx+XyZzMkL2J3QbiFJp9MpFIrg4ODOuFgbANCVNROhqBKatupQjkcouZxG7UPcZSIUbe9e2vff05KT/dTqVxBCaWl2DoLaRQAhhBCfz/f09JTL5R4eHm5LDu0WkgoLC4VCYZddiqRSVnlIPdu7FwAA16td1o2Q3Rp09iPU/dIGTXEwQj1YDsr+VYEU26xWaiotORlRJ28jtqATG0vGxtrmFmlpabQTJxoeDqWua5H6svSUW1nlOsT3ChsQ3ccPq/+D71q8vb01Gk1paanbKgK0T0iiJtrat4ym2+AGQ3FxAY/L1xt0tv/+uOfrVW+vb++uAQDcrZkIRU3G3a8OVZuHWh+hQkPJkBBy1SrbGnZacjL9mWeaH9xyFbWaduIEOnGChhDy9bV++y3VE3LIkNqutnq4iMPhTJo8jcVmu7bj7clS/PeG5bPeP35/xyu/6GUff79lbq8uHJQYDIafn19hYaFUKnXPlW7tEJIIglAoFDKZjP0w/TY36fWVS29cS6p3J4QkAEA9tQM/CQkujlD5+bT8fHLdutrzbN5Mf/ttV/W5xeRy+pQp5KJF1i1byIQE67fftma4qKqqytPTEyEkk8nmPja/oqbFe0i4eVzf4easNUm7V34u/eB8zuKYYAHDWJl+bMvTa9cfGvLD3G5dNyUhJBKJeDyeXC53z4LmdghJlZWVJElSv9ZdAcblPr3shd+P/1P3zp2f27vSFQAAGtdUhLLVf6JKGxiNKCkJIUSjqkNRJBKEEH39etr69bZ7yHnzyIgIFBVlG+JqC7TUVJSSQktLo+3dS/WHtmcPPT/fevo0uWgRQqimpubWrVu2zUbsMhgMBQUFfD5fp9PZ/rtr167333/fwW64eVy/dc2ReHVlydTE2UNDBAghhMn6jn90zo7Hi5QE6tb+FQ7blY+PT15eHvUL0NZtufultg0jdaj12m3xSSI7K6MgL1en03r7+I5IGFvv0WUvvOra5gAAXRqGNRuhyPBwWnKyLSGRsbHW335zTw1xMjISRUaSCKG1a+mvvUbbswchRDt3jrZzJ7lsGUJIo9Fs2rTJTk3tBz377LNJSfVH5R0PScjt4/qtaI4hG5L46uc//nY5cv7AUA/Mqs09+9tBz5U7wrp4QkII8fl8tw0mufvVbvdhJPd8ktj5+dYN771Z954Pt37xxMJnXdgEAAA4iopQOE5/5hnqDjIhwXr6dDv0RCKxfvstPSSEymr0114jJkxwcMthLpe7cuXKCxcu1L1zy5Yt1BeVlZX7fj0wcNjEJuokuXlcv5XNWctuHTr5XcrJ716ue+/gA68ghKK23UheGdGBhhrczW2DSe4OSUqlst2Hkdr6k0TSpX82vPfm2+99OHT4KL1eW1Eu/+/Oz9989bkajQYGkAAA7YV24kTtSm2JxPq//7VjT6yrVtH/+IOWmopwnLZ3L7l6tYNPnDdvXr17XnvtNeoLo9H457HD/WPs7/tmMz1xbr172vTPcmuao/snrP/1V6Pdxzg9/Lt2vW5qMKmysvKhCkkqlcpkMknatbCsGz5J/HPm1O6ffh87frLtnumJcw8d3PfCkieHDh8VETXIhW0BAICDaFeuUF+Qixa18069GEa++CLtmWeoXpEIiUSiNWvWNHZ4RkZGbm5uTU2Nn59fv379nJiLqLv+Ibx3v7Zeqe2S5miyiMmJEXXuMBad+eVv3sSFsT5deeG2jYeHR0lJiZ+fX5teBObWkFRdXS0UCtv9ora2/iShViuHjRhtt9HLF85CSAIAtI+UFOr/ySFD2rcjCCFqPxZEremXeZbBAAAgAElEQVRGSCgUNrZqe8uWLasfHGr68ssvlyxZ4nhTbl7/4LLmyPKkHWtffue/17S2uzyG74h+MtanC8+z/cvDw6OiokKlUvn4+LRdK+4LSSaTqbq6Ojg42G0t1uXOjxESidTu/dMT586cOBJm3AAA7aL28rc6FcPb0b99aLJ+wT///LN69erNmzePGjVKp9OVlZV99tlnK1as0Gg0tok2ipeX16aPthHs+n9+3bz+wXXNkaZbv676j3b6V1+O/nr7nRGvzpWm7Pmz54dP9IaEZCMSiZRK5UMSkjQaDZ1Ob5cS227+GKFWKz/dumlwTFyfvgP8Ax+oCjpp6sw2ahQAAJph2ym289SwPnny5KFDhyZP/nf1wrx58/bu3Tt//vxRo0YNHjzYdj+bzfb19WtYJ8nN6x9c1xxRlXP30tQ5ex97pLTkt8uCuMeXTvLIXPDff+YMmuIP020UDw+PqqoqHMexNtusxn0hSavVtktCcv8yaolE+vm2D6mvJ0+bNXL0uCFDhwcGhmBcrrCrbsMCAABNoLanbVgCQKlUjh5df/UCtXz77NmzdUNSY9y8/sF1zdH5EqlfVtqN3PhePt53LudXIT+xl/FkRhkxxR+qAFAwDGOxWEql0t/fv42acNNLTRCERqNx22YrdbXLMuqklJzCwrzc7HtvvvrcscMHqDsnT5t17PABKAQAAAAOkkrtr16YN2/e8OHD6864mUwmubyMYEsReqAEgJvXP7iuObpo6PxN4QtmTOSf/33MiBdef1zRo+Yv+qMHg2C6rS6RSKTVaps/zlluCkk6nY4kyZZfqmesvJt0PvlWrpI7aM5En2KN95DeMmbLBhrdv4x6yYqXPKSe/oFBcfEjn1j4bGlxUWFh3j9nTtmGlwAAADhCqVRu3Lhx6NChAwYMqPcxOzExse5NhUKxZtUrb7y7zcvzgQuo3bz+wZXNYX3m7/gzNs/o19trx2nRoXNl/OcmzUzwhrm2uvh8flVVFUEQbVRayE0hSavVYhjWwu9Be+/HVTMW78pCCKGEzcO7o8WJ34z49LdP5vcVtOA87l9GXW9VuH9gEBWYnly05Lln57u8OQAA6Ow4HM6sWbMa3i+VSjdt2kR9PWvWrEceeWTEiBEhISFcLtfB9RtuXv/g2uZomFdYH4QQEgyetaz5qcWuiPo10Ol0bbSex00hyWAwtHQYiSw6tv6FK/FfnPtrVPG6vrsQM/KZI7srF76ydGffk69Fcx0+T8dZRu0fGLT7p4PubBEAAFwLV6mqC/KNKpVJqUQIcf39ORKJKDiE3bqafjKZ7KmnnrL7UF5eXl5eXmZm5ooVKw4cqF29MGvWrAMHDjhYCMDN6x9a3RyhLcrIrMDtPcQQhfQJk3Fc2NuHAI/Ha7tFz+6bbmtsarkRRGXaxSOS6UfmxwdpfkcIIcSW9Jq89IWD/7f9ctbL0Y6XY+9Qy6jdudc0AAC4kDInu/TM36ZKBVss5nnKeBIJQkibnVVZVVmI46KwcL8RI/jeLr4Y++WXX/b09AwKCho5cuSSJUuKiory8vJOnjxpG16y4XA4kyZPYzWow+fm9Q+uaM6Que/F2NXn7D0UvvSPk19MaatFyp0Ul8s1GAxtdHJ3hCQcx0mSbGkNSQaLw3JRB2AZNQAAOI0wmfKOHtZkZkjDe3sPjWdx/73c2qtnT4SQXqW6feVK+a6vQsc+EjDUfk1I59Qrrh0UFEQFpqVLlz7++ON1H5LJZHMfm9+wBICb1z+4ojmW98BpS0eX7roqfnTFgnkzxo+I6iHDuvYuJE3CMExtK2/hau543QmCQAi1sIwBw2Pg2IXcvV/svlhUY0IIIUtN2d0Te/YkxT0+NKwlS5uWrHjJFuoLK01JKTn7Dp164ZU3bWnJvUjCQrRHuwAA4AzCZMr6dS8ul4dNmhIQGVk3ISGESisU3x86/OR76z88drzGP6AyOanQqX1zKysrd+/e7fjxQUFBf/zxhxMN2bh5/UNLmuMEjXn5i79uyq9+sqBX9cm1030jpjy3cffR5KxK3Nq2veyc2Gw2QRBU0nA5d4QkatV2S59F8xr75u7laMfUbn3n/4DOrR4WFBSxcG/wO7uWDXR8QRKyl+vj4keuent9UkrOoOi4lvaqZYhb+/7zzZUS3f3bxqqUnz7YcKyibVsFAADXoBISieM9x4zFhIJ6j2bk5r2wYSNCaMsbr//y8UdjR43qPnqM6lZK0dkzLW3IaDTa1hs5yIkd3Opx8/qHljVHw2RhsVOeeuuLv27Kj743xa/s6DvTfSNmb7ygaLMOdlbUimcct7uKq7XctCaJTncijTG94l74/vzYpeev3MqtMrE9uw8YHBfXz89Fo47u+BhBE3no/7cw8fwrH657cgi69t36de/d6f/x1227ZzEAALiI/Po1o6Ii7JEJDFb9N4vSCsVbn3y6bsXyqN7htjsxoSAobmj+2TPiHj1FQUFGvYnFYdIZbfNpnLBY6ExbTRiqHOUb726TiLo7fgrCQme0sKyM8wgLQWcyWtYaadEpSosLcu/dvnZVO2hiv2CRq9ahPGw690gSl9ui0R8bGlPWd1Ti4pWvvfbaysWJowa4KiFR2vxjBD3kkQ37D60Lu7Iqpk9on2UnfV86dfSTxQMhJAEAOj6TTld+7kxAdEy9KTbK5ZSUmWPH1E1IFKG3tzS8d+GJPxFCNSp95pVCRZHKSrRynkiX9t3GnRcK8doVR6RFcf3HVRuPyi2On4K488PG7y6U2masLOVp+/7z0V/FretYY3TpP236ManQaOtw5fUD7246VeFgh0mLtijtzL7P1syPD4x/dudNNHDJN7fuXPrlgycjJM0/u+vh8XhttHbbTWvBnKjyRGqL0q7blZZVrMLrL85zTtuvELLo1JXlFQrvAZGOf7gBAID2V371ClssFjey4cP/jh4b0r+/3Ye8e4WbKhXKnGyEEGklFYXqZqOSl5fXV1991XhfmB4y9e6pM5/e+leuVp3717aFIyduKPMLFbbgLYwmluj/t/DxlZ+cy1fr8k/uXDFl6sfFQcFCx8/QEkyxVL133qxXd5ws1KoL/97+0uTJn5T7BfEd6TCetfeF+MBugxK3XmSPfvfEqd+2vfjoiN5eTJ2irEINy5Lcq+PuAENk7ns0dnWu/Qf9opdt/u/meS2qKomIW/s+SA599vEhAdRQjrEqZf/nf4hWvDvNu/Xdtd/ivQPLZ79VMuqdvX89GonS9v7f+zPGHX1796dLo2EwCQDQwVVnZ3n17mP3odIKBUIooJHd11lcTNK9h7awkNdLRt1DRaXK4mpZoNjTX9xwAo7NZgcEBDTeF07Q1A1/Xhr66duv9FqdiQTjXvr8+CePDfJqyUwZPXDqf37t/tfO/7wTvboABcYtf//IsUcj2qrmEMd/4gc/nhj67QevDn8vE/HHPvN/xw7MGuTpUIctmuKMG1qE0LX9G67t31D3oe4Lfj29O7EdNvjqsjpuSGL0GrF8XMjX0mfeXjSyj4xr0RTcPLzrzf9yV/2wcnB10p4NL83Z6Ht+wxip4/9G2mGFkBn1Xntwe2IfCQshNGTx1h9jDnxyuBJHCEISAKAjI0wmU6UCGziwiWOEfF5jD2ESiaa0hNfrgX2f6kWlls0vkCatUlFepus+KArds/N4QEDA7u9/aVgCoO4pLDpVVYVCERo1AKla1LgzSJNOrVCU60Iio1B2i57Jj1y2r+gJk72HGFwPmUt6BxzUYUMSid+7eOD6pI2pbyT6U+vUBseOGCCQT//4Fu/lt1YN9Kjst/zv1DdHjRY5PNxKrRA6/uXmVTEb8rW8Ya9sPPXR9CifNnwJGP1mvdmvzm2WuN+8df0aPbwhs8liNtbOYWM8NvXxy0pYcX3tvx8Gg87h1RagMupNxP3RbNvBdc/A4jBZ7Npvt7Lk36oSsoDaSe7qSq3tYLGXgDrYbLJUK7S2M4hlgoYH286gr8H1mtpLDHgijCfE2re5xs7QbHN2O+za5pp9few258jr02xzBXfKbM2F9POznUFdXkN9LfERUmc26k3yvCrqTq6A4x1SWxK2okBp0Bqpr327eVK/hHbP4EhztjO0XXN2z+BIc02/Pu3YXLOvj605M25hYUzbmRFCdy/mUV/0HdaN+qKyRF2RX5sbvEM9ZAESXK1CCPE8PJBT+J6e8hvX7T5ki0p15+pMJpNCoWh8MAnP+t+LU17IGbf5h9MLB6LrP216ffaw3974+YcVgwWOvgVYc356cd660oQ13//xeARK2b917dyJf6765rOno5z8HpuE5/760qI3cob/5/u986JQ6s+frZ0z89DrO75aHtF8h2lMgadf/UsJQfvosCGJUBdmJYmC/D3r9JDp12ew/+3bZdWI6eUb4FGWo9ZZkeMhCdVdIeSd4/Iut4Fqhdb2lys0wo96k8P1pvy02j+UfAlm+9snz6vSqfF6B9c9A/W3j/radieq866sLq+xnYEnwmrfaI0W28F8CWb7Y1334H/f1zV43eZs78rt1VxjZ2i2Obsddm1zzb4+dptrrMNGncn2Nin04CE2QghZLVadunYxI4vDRG20+gK0Nw6fTWfW/iWs+wVfUnvFDIvzwJ9679D6sYAnwmx38kTNV2wpLCsbMsD+giQHiWQPjEIpFIrly5cfPny4kcMJAxrw/j8fzY7wZCKEhi/59M/Y3zYcKzeQyOEwQeKMXm8f/GhahJhJQ2j4k5v3Dz6841iFAaG2CEmEEQ1449jmKf08GQihuGc/+HXI0S1/KvAWdBh0BDSSdM0S6Cbk5OTweDxv7xat/CFNaTvGDTo47NfPV0/rLWHSELLiRcfXz1l2bPqvl96Kkv/4/KB3Qo7cWTuc/8B8284/bo0Y2E0isjcITNw78Mzst0pGvfP+G7UrhN49691ghdDhc3dmj+wu83B0QqypFh1z9VZ+D39h/x5eDR9yYiTJdhgAANTFYNZGJcLS/DVWuoryzP9+0zdxdsOL/xFCSalp9woKFk6f1tjTayoq8s+eCV7wfN0PABSxN987RMpiM+v2h7qAv/GQ1LyampqLSddkgX38/ZxfZdqiv/+t/+Pf0rcb0Jjc3FyRSOTTyCK51uiwI0k09oAFX31ze/acAf/XPeHRYcFcQ+HF/edyw1//Y/FATtquuYtPx207MJjfoooTnW+FEIv97wSZDZ1Bt41A1GVLSwAA0ErULmxGbY3dGbeS8nJ+kyWCcY1GFFa/OoAtHrmwnzYajWbHp1vfeHcbQm11KY77kbgi+16Rxmwby4ANbt2tw4YkhGjivou2/j1g8qEjZ6/kq6z8yPk7Xp4xeYgfj0QeES/99vvEKZEtK77U6hVCLqRSVsFmtwCAjowt89KUyRuGJJPZnHzr9hNTJjfx3OqiIkGPnrabzcYjkUi0Zs2aVnb4IUOqLn44d/7aM3UrOcHVbe7WgUMSQogw4qzA6Knzo+/frtj3QvTPI28kr1zQeX5JcIOhuLiAx+XrDTrbf3/c8/Wqt9e3d9cAAKBRXtExisuXfPvWrwJw4246Qqhvj0Zrv5kNuEFRETxtusHs6OiRUCiMj3flzridH1F5ad/mmvm/pi2L87BV2Yar29ytA4cksvz8xmemrT+ufeBeQdjyRV6dbcnN6yuX3riWVO9OCEkAgI7MI6xX+bmziuxsr57/jgmlZGR+9N/d61YsZ7Ma3R+j+MZ1XlAw39vHnSsZRCLR8y++yuM/POuiGSwOq3tkdJ9gP3ftmwIa6rghiUj/fe16w4qfzkzT/TJvHVq/d1HPokPr1+ufWz2uc/3GYFzu08te+P34P3Xv3Pn51vbqDwAAOILN5/uMGFny13Ghj29Kbi5uNCWlpV65dXvV00813I3ERllQoC0pDn/6Wfd0sqqqitrpVigURkcPabJOkn1uXvzgcHMMafyjb2796Nvfey6K87u//ovB9ZBJXLo9F2hah32tLRWZqRdCxs2cMXzoqKExZTUsv8gR817/YP6td769WuPqxlTKKhee7fRfx+rdMz1xbr17lr3wqgtbBACAtuAzaLAovHfumdPp97IK5WWjYmL2bNwQFxnR2PHVpaUlyUkB4ydS674dV1JSMm1ao9fKUQwGQ0ZGRlFRUd3/bt++3fFWcIMhOyujtLio7n+//vKTFnXVbc1ZMs/vPPX7B3OGhAXZDH/lz5I26i2wq8OOJNGYbJaAMJstiCb2DvXIzS7RoW6i4D5hmRtS8taOiGjxXnC13LBC6PTJY9n3MuY+sQiWZgMAOrtuU6Zl7d8XW1HhGxkhDQlp7DDCbFFkZSlup3nFxfsMGtxGnXn22WeTkuovXXj//fcRQiaTSS4vI9hShJq6Jt/Nix9a0xwjfO7+5FHmB+8ThTw81+51Ch12JInh2SdmnPrHjz74+brFb0B08a8Hz2aWZiZdSEOC1l4/+vrKpXFRPcYMjbD99/NtH7qm1wghhCQSqVAkeuqJxJ2fb8XbZl9iAABwDwab3fuJJ2WxcSXJSXkXL1aXlhLmB8osmQ24sqAg++/Tqpzs0DnzgkaNdmHrx479OzDP5XJXrlxpedDmzZupRxUKxZpVr1SrlPXOUHdon1r8UFhpqvu/t99z5d9/FzZHEwRFDOoXIrJUFRcWymuQKLjfoCi4/t/NOuxIEqJ3m7b+86tPv/Dt2Uf3L3xr2U/T5vb7BCHBxHWHZ/ZxdhgJuWWF0JIVL3lIPWfNmX/x/JnHEiesfPXNYSNGY9yW1SsAAICOI2BovKRHj4rr1wsvnEcIcb28GWw2Qsik1Zqq1UwezyMiyidmCJvv4rXaR48eTU9PX7x4MbXwaN68efUOeO2115o+Q72h/bZe/ODK5sjqu3tWz372m6za2+HT3v/sizdG+7VkW1/QSh03JCGauO+T2y/M1OCYSMB89edLw5IztfzwmOF9vVr0C3L6r2Njxz9Qz8M9K4QwLnfs+MnDRoz+6/jhl597avL0WeMnToOoBADopPjePt0mTQ4eOw5Xq7SlpdSdDA6H6+nZ0hVIDQUEBNgtty2VSkUi0YwZMxITE5977jluy/+E2ob2J02dueiZFW39R9h1zZGmWz8sf0P//PmcxTHBAlRTdOfEF8ve/L/Bh7eOd31dadCYDjvdhhBCpLY47erFk4d/P3jw2PnMKhMyqjIvHL2Qh7fkJKdPHtv5+VbXLs1u2tdffpKWciM7KyMt5cZfxw/z+QKpTPbCkicfS5xw+q9jMAEHAOi8GGw239vHJ2og9T9Zn76tT0hNePnll5csWXLy5Mk+ffo88sgjx44dMzTyJ5TD4UyaPI3Frr/xwJIVLz2x8NlfDp7o2au3G/4Iu645oirn7qWpibOHhgiYNMQUBUVOenSO8Mit4ub3lAGu03FHkuwVG0UIIbTg16Lh3fzsPcUuN3+MoEwdF1fvnsnTZnXv2ev61aQ+fQf4B3aeUpgAAGCPoqbaSyh2T1tcLnfy5MmjR48+dOjQokWLZs+ePX369HqjSjKZbO5j8xsrAeDmoX1XNMcQ+wf3v3krQznVT8pCCCFLRc7d6h7DBR16bOOh02FDEqG6+sfWq3HbLmx6NOSBHYLoXI8WLe53/wohtVr59nsfCkWifT9933dAxBtr/gOXuQEAHib5lRXn8+4tiBnuqhPW1NTcunWrYdHt7du3z5w5k8/n63S67OxsoVDo5eU1f/78uLi4t956a/To0c1OwH395ScTp8zk8Xl6nT4/L9s2tD8oOq4t3g5c1xyNN2j2W9GPPxJ3eekTo3oI9Dkn9v2EFh6e2gNCkjt12JCECLPR7Bk5ZGCoH8cFi9Tc+TFieuLcuPiRCCEqma157fk5jy+EtdsAgIfGudxMrdmUX1kRKnPNFekajWbTpk12lyXFxsbWu2fWrFnh4eGXL18eMGBAUFDzA/NuHtpvdXOkRaussvC9BX5j3vrspx7ff717065cv9FLl/24dPYAIWQkt+qwIYkhi5n8LPbx78dmhk/rLWnFYn43f4xACOm0tTup2JLZ+nVvfLb1w6eXvQBrtwEAnV1+ZYXWbEIIncvNdFVIaoxSqdy8ebNIJNqzZ09kZOT69eupy9waqqys3PfrgYHDJkpED9RJcvPQviua06XunBt7+4W8F3LHxq7Orb0z68yu18/s+gI2uHWzDhuSEM0rZs6TzGFzBvzfg/cLlv6R9cUUr5acys0fI65fTTp98phEIlWrlT/u3mW7/8a1pEHRcR9/tqtnWG/XtggAAM3DMITjCCGkViOJxOnTnMvNpL5o7WCSrT+Nmzdv3siRIxFCTz755JkzZ1asWLF48WK7s2xGo/HPY4f7x4ypd7+bh/Zd0Rw3fO6nV6b7+PpFQzHJdtdhQxKpv7Jr2drb0QvefLS/R91xJFpQUIt+td2/QojKRoOi4+JHjHrhlTcHx8TpdNq+/SMQQhCPAADthQwPp6WmIoRoycnkhAnOncQ2jERxfjBJLq9NSBIJQkgkEq1Zs6bhUdr7A/O2tduvv/76xo0bV65c2XDttl1uHtp3RXMMQVC/QQghi9Y/xEMiE9x/n7biaiWONbqvMGgLHTYkEdWlhbdDnrv41ZuxrVuT5P4VQnHxI9et/z+YVgMAdCyjRqHUVIQQSklBzoYk2zASxenBJFpyMvUFGRuLEBIKhQ1XbSOELl++fPToUalUqlQqd+7cabs/KSkpLi7um2++6d27mU+ebh7ad1FzFm1llfrGlwkr0Jfnlg2orZ9cdvyVx3YM+zV5ZWQrCiqDlumwIYnpExk/03SpoNwYG4w1f3jj3L9CqGGxSgAAaHdkRAT1iZO2bx/50ksIa/Gf1nrDSBTnBpNo+/bVftVkyqGyUVxc3OjRo9esWTN06NCamprIyEiEUL145OXltemjbQRbWu8Mbh7ad01zltSd8bXLkSaHflDngZCZU3lQb9udOmxIQjRR2Ohx25fOfT576fg+Hv/WB6N7RU0Y3s3xf9ytyfVVGnNqnjaym8BTBCOcAIDOjUxIoJYB0VJT6R99ZF23rqVnqDeMRHFiMIm2dy9t797aXk2fjhAymUwKhSIgIKDekSNHjvz4448dmVZjs9m+vn4N6yQ5N7R/+EpVVDd+kFeLc6RrZhIY4XP3XxmR9uPcd9AH++bbduKi8fz79vaDy9vcqeOGJKLgwic/pGhRyrprex54oIXFJFuZ68uqzWUpKm8hc1APIUQlAEAnFhpq3bKF/vzz/8/emYc1cX19/EIIECCBhEW2CCoKyCqIIkXqXouCEn+CCkWpIGBR6y5aqXVDWkVbUUFbqQu+BRUUFHetaBE3qqCyiCAEZAkJawgJCXn/GBtDFsg6LM7n8eEhd+7c753BJGfOOfdcAIDKzz+rWFhwly6V/GyRbiQIqZxJKjduQHMAAHCXLuV++SUAgEKhRERECJcAEN6sTVpkc+23dnJyilq1y9tdR+pIZSopJpKgokN0dCGOHfNsNuDLSWKS7/2V2jo7eOIwxJkEGwPXSFJzCs8lL+kSape2mKRC7PqGNvZ1xZhKXA67G6WGBJQREBD6AW54ODctTeX+fdDZqbp8OTctjbtpE9fJSZLFbv+8fyvukETOpM5OlcePVU6fVjn133OvsXH3nj3SXYB4WCxWXV0tR50AgFbfvSWDzuyWzVRSDCh62V/bv//h5LN2XhPe88j4oInDkK8Q2Bh4RhK3s7mhidGtsPEUmCEktanEKUzb/dgydPEEM2hnbCb1xYWEy7jIH32QRZwICAj9Qvcff6DmzgXFxQAAlRs3VG7ckPDEYHlUhVf76+l1//EHMDaWZ1R+KBRK9Ka1G388aKgve3UDkfSTqcRlFZ7f9FO7b+KxqScOvZ68zp/w4tQ1q31LbBALCU4GnpFUd20tceGZXjp8c56c7Cd5uE3hSGEqqeDwHSnBfg/W7osJmgCe/bkzZsdr+/0ntOWbQGMTXbYTDfAyKre0dXaxOTKcqIvVRCNuMwSEAYWlJefZM9Vdu1Ti4uAT7WkhcQMCug8c4LeQNDQ0SCQSfPORHthNJWiD24Wpi2Z+qLn4SMd98Yqv8SXfnMxZ6DLHFAm3wcbAM5Kwo77+Oc5e9B6FAACgQhyFhXE64mhoY/9T1DLTGd9bJ1WLmXsuZF4/FrfJbc/7dq0v1u69/bOv8zCZb3pLW+f1x5XNdNFpAX2iq63+9UQLXawUb+8uNufO06rKhva+u4pCE4360tnM0hSmXTAREBAkQlOze88eFV9flcxMkJen8vhxn0UdFQL3yy+BjQ3X11e4SpOBgUFISIh0w3HYbFU1ObZjAABwOGxVlDRD0Jnd+eXtWhooWfIuOGyOqhpKUjVVbT2CyduC/HKPMcOMXj96TwUmuobMW8W1nDmmA++be8gy8G61jqP/Oke4xGTMENLWUJX0YYJNb26sb6AYOTgZvZNlhj14VFirikLNdB+jqSH1+7OT2fX8Dfna48pFM6wlP+vZm7raJsbkcSMEKv1LApvdXVJRd/9FjRFBSwspgIaAMMDgTpzIFdoWbaBCL/jz10dWQUu/GK6pAgDgsin5f+27it2wdZ7Jx28xHA733ep1Wto64obgvD4T93TEskUeppqqAADAri9IP3JVJyzaW6JNF1QAwKBVx1tJ6EaiF5377fnIwIUTh2tAE27MzzyUrb0q+itJH5NVcZMCY62/mTdb+8GlaZOjNiymjGq7qfq/DCLinIeTgWckKQ9FZAhJYR4BADil6RELttZM+SH15v+cQEHqL7vmzbi6Lfm3FeNliHt1sTmVlPZJDsNlsJAAAJoaaKcxpveevWtp65TcmVTZ0D52hJEMFhIAQE1N1W60aTWltYHWgTiTEBAAAOXl5QkJCW/ffsyAJpFIPPdJcnJyeno69HtiYiK0GD43Nzc2NnbixInTpk3z8PBoaevML21gMmWKfeuoO40xkupxRU658WONFRdtV8MbNCfPnX9/+77d4RNA7skf1vLRl9QAACAASURBVMT+O27vX3y7vWKx2PHjJwiXAOChoqvXkRK8+J9VO7eFjAdPz+6J3vPSce/JviMTUppHHyesS2hODSA92hi7eZkbeJIct2XfK6c9x7SlWb+vRpz9U1phmzrRxvDIHVzmfTJYOGHOJAMk1gYnn5ORJF+GkHTm0Ue6gM32jEN+tnpoAMCEZfFn3dJ/zWrsBEAGI6mlrRMAoIeTPaNJR1sTACBVdlELnYXVliv6TsBqtjNkjA8iIAwxDA0N586dq/lfFUc8/lO83t3d3dr6o5cXh8NBv1hYWKxdu/bKlSuxsbGRK1dRuOZ6WE19PbHOkl4or20qrW5ZMstaQsOlpa3zr7tvjQnaMstVNpQtmGIloVxjY2NWVpb4iJsGce6ea7mTftu2dszmEqAzY03C9V8XuRhKEylTNZ/70/mRN5N++mH85kpg7h6x60r2/xwNNHo5RSbz6OOETWfvPntj0h+713nuKAHa05f/kp1OctGXdMI9Km7r1dGA6STfxZbX1y6aX4dU3IaVz8lIkjVDSCbzCAAAAMqOtMWO7zVa1y4gxk5sd0lQU0MKiSEgDFawWOy0aYI7sELY2toKN5qZmZmZmXl6er5+/dps+Kj7BQ1uDpaySQ83Idx5UlpR0zLGQrAmtUheV1CNCdpyytU0tEvoRWYymenp6b2lJXFZ7TRKfS19pIszKJVtUlw2vYnaQKFYOjuApj57a8loHvHUWPRmCqWebuHkDMqkPBepuD1g+My+cT9lCI2UpLuWhqqXLW7+RIN+qJCBgIAwhKipqWlra5PtXHV19XHjxhnp40wMcDJPQE1NlYDVZEnsSG5tZ8nmQ+KXU5wXufNtyurpc8+BkDN37v995wqJkbDgi4VHn7d/qhZTU1MTEryosaFO3BDd786tnhecCpacvnz34uVkX8bv/rOXn3wh2lryssX5TZLnk7+z/PyagIBzIPB06pW7qamkzhML5y87VtAuWXkblLX/hSe5f642N1/9Z+5jHk8KH54NHP2ZfW33M5/T3eaUpkfMCU4BAak3L165edqvI3nejPDjz3pZT4/RQCHmEQICgvxERERQKJT+nsXghcMADrtyLv4WPpmI0SF6hv127fKuUa31DPELoYXgdqLGbMs4Gxc6wUxH08wzKO5CxrYxTQ0MkZ3l/uTnMIHDxuwLu5d5mmJ0TN1Dd5/P2DiildIp2YRVdIiOLhMW7Xz2MMpV85PniNtRT6Yy5ZsYgnQM3HAbp+DwRK+yn97GzzHkhV/pBYf9ve4vzk8LGimLdafIDCEEBAQEqdDQ6C39pU9yc3ObmDqAaKCo+QwoDA0NExMTxR/Xdgz6nm/Zs4oa3ilgv5NUEii7xev5sx3U9G39YkTEOBWDtq3/Gr7BVVB6Tr67pJswt+3liZDA7feq+dpGfnP+TrKfRMvxEBTCQDSSusn3EtPy6TX3K9tpF47EF39av0B/l/26vaWpXYqHBz6UkCGEgICAAA+xsbF+gSsBsO/viSgFdXV14d1tP284jblpcW2B5wvC3fG8NYkoDH5oWskDloFoJHGbXp3cvPkFAACAM7vzehwb6bspbtaYwZ/Z30Sj4gn6yhi57G3xm1cFY+0doe17MzPS8nJz9v6SoAyt/lJEQBh0kEgkOT1JCL1jZmaWfPqvXkoADDpQaA30SKfxtsNNkFTt/mMg5iShHFc9Y7OZ+Qeddb67XMtk81OavtfPenBlCXUyGGVviz9Uk/l/njj2qzK0mmjUDatWRIUF3bmRnZQQ/6Ga7Ovnfzb5uDK0+ksRAWEwEhISYmCA+ADEwmKxampq+nsWAwoUweN/W2hpf1zKr6jl0dDcqbidTREkYCB6kiBUTb/cmWzOfJiZIdBu6PyV54jBZSdtWLUi/1meQOOmbTsVLkSlUvKf5aVl3nb38OpkMNLPp9g7uihcpX8VERA+T6Kjo6lM2ZebDXAoFEpERERWVlZ/T2QAwS55kHT7UvntS3w1AJCcJLgZuEYSp/LW9wuhOhE9+eY82XNEP25wKy2aGMy34VGXrufwNyYlxCtDy9zcwtuH5DzODdJdEhx67vTvyhDqR0UEhKFKcXHxy5cvnZycbGxsAACpqak5OTlHjhyBjnp4eDwsbOh9BJhj3wMh1E6lUvX19QEAbW1tz549MzC3lXaHAOUlP8gph7L2v/B4SlfPNpyF5DtEICiAgRhug1BzCs8l81Hx+mHabn9r75hvPYz7Pls6mmhUBY5W9rZYoMXXz1+gJTxqnQIVeWhiMBu27jj1xzHeFS0JDk04cVYZWv2liIAwGPHx8ek9nESlUkNDQwMDA69evXrgwAEymRwQEJCUlCS5BMyxb/hD7QwGo7i4mEwm8/88dOgQdLS1tfXIb/Ed9N5244Yz+UF+ORUdoqOLrSm6va6qlkEYYTmMaOfiPLrXEuEICmfgepKAmo6BCb9v2cSEuApHee6RdD/E058oayJbJ4NRXV2phdHuYNB5P8+eOqHA4NfJ4wn2Ds5fz/WD7emk7G1xZUU5nd5uNMzY2sZOwAITNtEGoyICwtCGQqHk5eXdvXvXy8uLwWCcPXvWxUW6yDXMsW/FyuFwuOjo6D67hYaG5uUJpi7s2rVLciHYkh8UIMetf7Bruc/O6+1g5DfnT/pmrj5q+fPpbdNNpNmMBUFOBq4nSRTqWLxu+xNygyz7LX5iw6oV7s6jpk1y5P1MOLhPQTMEAAA9PcKWdSudxphEhCzKzEgreJHfyfhYr0zYySQ/SQnx0yY5hiyZHxUW5O87w2mMibIDXvArIiAMeSwsLEgkkpubGwAAg8GEhYXl5+fzd/Dx8Sl9/byXEYRj368K8nvpLyeKlcNisR4eHr33wWAwq1atYvckLi5OchUo+aGqkcX/b9sORX7+K06Oyyo8v+2EZcLrZ+e+0QOA+PXeA9Mebt19o3borN8bDAxcTxK3seDag3f8tUW59NKrCTfwM/2IcpQAgCFDqLmZlnzuUllp8bUrl6LCgqDGqLVbbMbaZ2emJyb/pUCtvNycPTu2bNuxb5LnlI6O9ob6upNJCVvWrWxrbVVSRA9+RQSEzwEMBrNz586jR48uW7YMSrIJCwvj7XQrCbzYt/+SpZAbe0lwqA5W9p1MBoJccXExlKEFERAQINBh/fr10C84HO671eu0tAVz28veFkMpUxDKTn5QnByH+u5N7oyZqdb6eQAAoKpp4jZrNnZxcS1njunA/eYecgzcWy0qcVtnpPea499/aSSNr1HgvyxQ/ptkY/RPeIL+9Fne4VHrMjPSamuqW1qaFeus4pFz73byuUvTZ3nzWnz9/DMz0qLCgiZ5TnF0VryzHX5FBIQhgLh1W8XFxeXl5W1tbSYmJnZ2dryvfAhhm0Ak/OFvnskCofDYN8yh9sOHDzs7O5NIJMhw7AUsFjt+/AThOkkw5z8oTg6lP2qsx5PH+R8+lg9lN73JfdgyYTFh8BcKHEwMXCNJzSk8l7ykR2K/KgZvpKcpZTQW/gwhAaHpX3lbjbZZvS66tKTor5STitVqbqZ9MXmqQCP0OfXo4d/KMFngV0RAGKocOHBg8+bN/C3Hjh0LCwsT2ZlEImnp6Aq3JyXE79mxhb9lX/zRJcGhCpwnDFo1NTUiSwAQCITIyMjIyEgSibRgwQIrK6uxY8diMBgg5GQSB5T/sGXdSm8fkrcvyXKE1RhrW00MBoh6hJYfxcmpqDss3BOw3GfK4jGgsvl9sEfIv20LfrvoPRzJSIKTgWskATUdA0Pmm7tXr917/KquQxVv6eQ4YcqcaY6G0uX2w/wOAQAkJcTzHua0//P9amIwjs4uHR29rbyQAT09gsh2Xz//+bO9lBH/gl8RAWFIkpOTs3nz5ri4uClTptDp9Nra2sOHD0dGRra2tgr4kyBCQkKESwDAGf7ul1A7jUbLzMwsKirKyMgIDAyEGqOjo+3t7S9evJiWlsbryWKx6upqOeoEAHqUAIAz/0HBcirDJm9PK5r7941/iqksdf2NB76a5myiObgyiQc9A9hI4tY/2LvcZ+d14OI9z06/u+xqzG+7wPjvT57bRRqJkXwYmN8hAIDKyvJfYn/09fO3trGj91yP6u7hpVit5mbab/Gxrm7utmMdTM17VBj7eu58xWr1lyICwhAgNzfXwcEBi8XyWm7dupWZment/SlyHRAQkJqaGhgYOGXKFFdXV0mGhTP83S+h9p07d+rr63t7e69fvz41NbW6urq5uTk2Nla4J4VCid60duOPBw319fjb4cx/ULAct6X0WsqfV57XMroBAODV8/vnteyX71jvaajYOSP0woA1kriM/HPROxmR5ws3+9joqakA0N1JvhX3bXj4gameCXMkT0uC+R0CANDTIyQc3MerF7Iv/igAwNzcQhODuXMzm/8jRlFa0O/ePiSvqTMmTPKEtLDSpHwOZEUEhCFAbGxsYmIiv5FEo9GmThWMXENJSH///beERhKc4e9+CbULpCLNmTPHxsZm69atb968OXlSouwFOPMfFCrHZeSf/HZJtuOmr+w1eF946kQcureTEBTNgDWSOM1Vb/MsZhzwhiwkAICqJnHat2Ezdv1QTObMMZJ44jC/QyDyXryrqqooLytNO3d6y7qVUGNQyIo3hQWKNZL4tbasW5mdlQ41evuQsrPSlZSXAL8iAsLQg0AQHbkOCAjw9PQUjrglJydrGVqPJPbYAA7O8LdStczMzETmth84cIC33I9nYmIwGFdXVzqdLsnIcOY/KFSO01z1Ns877P+iZa8LiCA/Aza6idIfNdajteYDlc3XyGyqb9CZQDSSJrk/KSGeVwxa4L+skmoehkWuMTUnunt4LQkOvXQ9J+/Fu7TM29t27DubfFy4qpgCtaoaWZBW1NotPNtF4cCviIAwJKHRaHv37s3OziaTyQKH/Pz8hPunp6fT21sEGqHw952b2R+qBQdRePgbTi0e5eXlMTExOTk5VCq1ra2N/5CXV4/sBQ0Nja+9fdDq6gIjQPkPebk5TTSqsvMfFCqnNszJY/6bZ88qWth9d0ZQFgPWk6SCHun1re/pzRExDSEznYfrqrFbqv69mrD9w4I4fEP+8wYAANrI2oGo05eJDWeGEISA78rUnAhZFT7zF64MDYRHK2hpmMK1+ksRAWEIEB0dLVD0iEAg8HJrSCTSzJkzJ0+ebGFhgcFgJC+PBGf4u19C7dBd4m3PcuzYMQAAdJeys7P5M7oMDAz8FwUKlwCAM/9BsXKqwz38XWMXjuEv42e94vKto3NMFTljhF4ZsEYS4JTc2nsqvxzkf5f9C3/7/e++PgX9NjLu8Zv1rn1dAczvkF4wNScmn8sQe5hDByhtmLSUAPyKCAjKoLOpiVpc1Fb+roNcxWvUIg7Hjhylb2OricfLNqzIctIVFRUVFRUlJSWRkZHp6R99sSQSKT09XVwhAGHgDH8rT6utra2wsLD3u3Tq1KnIyEioMTw8/OXLl/xGkiTThiH/QXFy3a0PTq7Pddn5505bbV7MB204VkQZCATlMXCNJFEbIPcEbWQtWdwN5ndIL/RWq6mjHNBfAtwXQGuE0rWUA/yKCAgKhEWnV9280VpShDE00iUSTfhq8NCpVNqL/Pr79/BO48y8vlTXVsDzzPfff6+vr08kEr28vMLCwshkckVFxa1bt0Qu3QIAJCYmFlUzBRrDItfgCfq8CPiHanJVVUXOvdvKWJuiVK3W1tbY2FjhtCSRd+np06cC9aWknfbL/GcCBZ8UheLkuOwuVuc4n28CFyA5Sf3IwDWSVHSIDnZqhXn/vmvq8bmgauj8lecITYnHgfkdIhecFtCUDVpxAOepKFMJAQFBEugN9e/+OqeKRo+aOUtLyF2khccbWll1NDWRnzwpfls65pulMruUeAis2yISiZApsGLFisWLFwv3NzMzq6AJ1kmCM/zdL6F2cXfJ399f4C41NjamnU8f98VsPVyPOklw5j8oVA6Fd5u3Lv7Imewxi12G/feVh8LgDfSQUkkwMnCNJG7bk4ML/TfdrhY88M15sucIE4nHgfkd0hdcDrsbpdarB4zTqiBTicNhq6Jg3S9agqtDQBh40BvqS07+TrC2MR5rh0ILfiqyurrevCsvKC29dOfuvKlTppmblZxOtg4OkcpO8vHxSUxMNDMz67MnkUi8fPmydBcgBJzh734JtQvfJSaTeS07y95tmoQjwDxtGeQ45XnJt9PKb6fFfGob+c35O8l+RPEnISiYAWskcZoeXYjNs//hfPpSdxN+v5EqBm+kCAE43iGcwrTdjy1DF08wg5zzTOqLCwmXcZE/+vR9CVKaSpzXZ+Kejli2yMMUeshg1xekH7mqExbtrbS3kzxXh4AwYGDR6e/+OkewtjFzchI+Sm1qOXHxAq2l1Xvy5AMbN+C0dfTxuuRnz0rPnLJZHqaQuJswIvcpq6mp6exgAmAgfEgkcIa/5dcyNDRMTEyU6pQ+d3PrE5gzBKSVE5VzgsJZIJ+vsDJgvXZcJr29yWiqj4/LCJMeDJN69zaxKP0dooLDd6QE+61MuvuO3v7ufsIK0oyDDRbmUnysQqZS3RnQUdGHlK5eR0rw4lW/3n/fTH9/Kylyztz91cTh2N7Pkgv5rw4BYQBQdfMGWlvHeKyd8CFWV9eJixdwOjq7V0dNmTB+hLmZPl4XAGDq5KyKRtfk3AcAdLGUsUCby2FzBJZpRUREVFWUSDGG8BBKhMthc+Q5X11dXRI3Ww84bLa8F8jhyD2ENGrS/UVUNPGmggzTAV1IRQA4GbBGktow1ymLGS8Kyjv6eyZyoGoxc8+FzJjRTza52Vraht8yXnP76q/LxkltRnQzAKePKmSq5nN/Op+1xerRD+ONbMeH3xm29kr2sSB7vd7PkgtFXR0CQv9Bb6hvLSkydXYWjrIBAPLfFNFaWkMXkNTRPcoco9BqxAkTml7+29nU1EJpL31Kbmns4x1KIpE0NMTsO8kp/HPLiYdk+n9foEzK85RN27PrpLmOonOxZ/OqmB+H4LIbn6f/GHu7QTnfp5zCtJ9+f1LDq+XIpL44t3tPtmDClCKhF/y5N+lhVSfvAinPz27ae7Xu0wUaGhrG/nxQFy+64iUAgPP6zN4/H37o7P74ml1fkPbTzzeFMjoUNGH5/yLsl0keRCGMzcf6/XKvVjCFH0FJDFgjCahoWbjPKFobvGrvydQMPi4/rOhUmIi8Tz99w6Y3N9Y3UIwcnEbKcroKGmC/ACYhAOvQV1cum95EbaBQLJ0dLOHKCpLz6hAQ+hvamzcYQyPhTG2Iv58+9Z48WcBCgtDC4zGGRtTiIgAAm8WuKaH0biqFhIQYGIiJlKngDOgpc2dFxt8sa28vu3kgzGtifK2lmTR+YDVdQnNqAGndkVtV7c1Vdw+t8fb+td6EqK2cT3gleJFZLFZNTY3442p4g+bkufO/jb9Z3t5cfvNgsNfsPbUmlthPF6iurm5sbIJGCxaT/DRrWN3tCviLoIbb+4x2+ebni38/fvz4n+spOxePHh1x/Oqp9SPu+K86X97d9wgI8jNwjSRO5cNfz7xof3YqZkXgQj4W/PGiScYRYX/64ZSmR8wJTgEBqTcvXrl52q8jed6M8OPPJKqlzzOPcM5Ape/NerrfnVs9LzgVLDl9+e7Fy8m+jN/9Zy8/Keutkgh5rg4BYWDQUvaWMFK0ic/q6npS+GqMpYW4c3WJxLbyd7yXkphKolG1mHvwYu7e0Q+jxuvp2fhnG297fO10uItOz14kEklbR1yNHA3T2bvP3vhhVN46T0sjz5CbRhuy048tH6ujnE94JXiRKRRKRESE+OMaxLl7ruVut364doyewRj/mybbruecDnWS5gLhdbfL/xfhNP1757Tt6pi18zxdXV0nzgiI/nGb7YtXKu4rVgVNvpT7sh4Ju8HBgE3cBmpO4bnkJcJ1kmRP3P749PNg7b6YoAng2Z87Y3a8tt9/QpnhoS5gsz3jkJ+tHhoAMGFZ/Fm39F+zGjsB6E1UBQ10JgCsnSS2EQ9uJ2rMtoyffRx11VQA8AyKu+CadSS7gQGAvAuVxSPT1SEgDCRYjRTNceNEHmpsagYAGODFfolq6+vX5T8XaIRMpfqKpmEj8LoGOiJPFIbLptMa6msbjFxcjErF9AkJCXlYKP6ZjsuiN1Mo9XQLJ2dQJqGsHHzyIhu967u3IuCy2mmU+lr6SBdnIOoesVisurpajjoBAC0RhwHo4W4HynyA/KimiL9IQ21DO2cEFgUAAOxOekdnZxcHAAB00Oqwrlz+fBl4RhK3s7mhiaEMRyL09HP9WNwmtz3v27W+WLv39s++zsOUeAtQdqQt/NmgaF27gBgR6aH/IZN59J/U4vX8I6vp2/rF2Eo7ipSS0l2dKFoa25vrP+7HpDcMy/tSqXxdy+tjYfex4ENDJY3R/jESbzxCX0NLHQDA7GDVVXzcmw+jo2FkQRDuzBtBeXIiR+hTTtyEB4Jcn/dHpJwkfw755aT66/M6i7s/vSMy1tYnwqZScnKyj4+P6IgbpyTlG1IUeWrcldvBruD56Z83TJ92cdepM6vGS2pkgc7y82uWbnzn+dPp1ABn8PL/Dm9fOD9zw5HECEdlOJM4pekRC7bWTPkh9eb/nEBB6i+75s24ui35txXjlfaA1Pk2ZfWcqHcz4s7cCR4Hnp+L3bDgi4sb/+9MpOt/F0ihUKI3rd3440FDfdF2bfe7c6sDYj58GX368mJH8OJC/Hb/2dc2/X74W2dlPEnK/xdB4T0W/Wi48Kvp/0bMdzFUb3t3I+0cWH7dvTklYn9R0G4XA6TYChwMPCOp7tpa4sIzvXT45jw52U/yOkk9gP/pR3K0RgIdGxnMIwQEhIEJl/tpLVN6evqsWbPEdOwCdjE5x0mOeDQAwDP84LVJF/ekNzIAkNhI4jCBw8bsuDl2+igAgHvo7vMTrh64RunkSj6ENCjei6yhoUEikcQf5zCAw66cnxc46qsBADzDfrs28eKe7HqGFBcIr7tdAX8RFR2X787csr906Ubu61cMTePZP95Y4jcR39DpG3fZb4YJ4kiChYFnJGFHff1znL34dZIqxFEyJtr1w9OPNChu47ZBhK6BjsgHep7/gB+en4AfDS11yTsrT05k42coJ9WfA2Y5cfdHHEwWS/LOAqDQKOORBEnlUPZBO+z5XqPxjov2Owr28vHx8QtcOZL4laghtG391/B5jlVQek6+u0SUfVIMivAiC2BgYBASEiL+uLZj0Pd8t0RFDe8UsF+6C4TX3a6Yv4iKtrG1oytde4yus4ctmq1trAFUiFO+QYpJwsfAM5J0HP3XCX08KAYkhwYBAaEH6gaGna2tIle31VOp86f3Vr6ZTqWqGxgKNEpnHiEoDhwO993qdVraQ+jOc+sf7Frus/N6Oxj5zfmTvpmrj1r+fHrbdBMkGwlGBu7qNsWDsiNt8YcsJADAx6efLbOH2KasZW+LMzPSyt4WQy8zM9K2bowaYooICIoCN8qKVl4u8lB+UZFBrxuPtJDJulajeS9RaJSZtaH1hOEiLaTExERDQ0GLCkGBYLHY8eMnDCEjicsqPL/thGXC62fnvtEDgPj13gPTHm7dfaMWxvKXCJ+VkTSQaKJRlTTshlUrosKC7tzITkqI/1BN9vXzP5t8XBla/aWIgKBA9O3sGJSGjibBtU4fGii3H+U5W1uLO7GjqYlBaTB0cgZ9mUcQZmZm6upiS/ggNDY2Jicn9/csBhQc6rs3uTOmT7fWRwMAgKqmidus2dhbxbVKLu6H0APESFI6nQxG2dviD9Vk/p8njv2qDC0qlZL/LC8t83Z41LqlyyP/vnuj4EW+MoT6UREBQYFoGw3DWdt8ePGCv5Ha1HLozNn506eZGon2/XC62B9evMBZ22ri8bqGOr2bR5JTXFycmppaXPzRKZuamvrdd9/xjmZlZY2xc+19BJjdugqUYzKZ6enpipvaEAClP2qsx5PH+R8+lk9mN73JfdgygUhAVrXBCWIkwcGGVSvcnUdNm+TI+5lwcJ9CRr5zM5v/pbm5hbcPyXmcGwBAE4NZEhz6qkDBJgv8iggISmX4rNld7e01L19+aKBUVNdkP3gYtmOHpZnpoq9nizul7s3rLnr78FlfAQDQ6hJldtbU1LB6zQSnUqmhoaGBgYFXr149cOAAmUwOCAhISkqS/EJgdusONC9yTU1NSPCixgZpdnOBi04GQ/qnRxV1h4V7Al4FTlkc+0/FP78Fe4yYdZSweqv3cCQjCU4GXuL2kEMTg/k2POrS9Rz+xqSEeIUMfudWdllpsf+SpdBmvZoYzIatO079cYzXsiQ4VAeLU4hWfykiICgVdW1tS9L/ylJO/3jyTwDA/OnT9q5ZbTNyhMjOnC523ZvXtJJi629D1bWlWPIRERGRmJjYyx6uFAolLy/v7t27Xl5eDAbj7NmzLi4uUl0Iz63r7uHVyWCkn0+xdxQ7AoPJwWjI5ZKQSk55UKlUfX25MkubaFRlb3aefj5lwiRPSKuk+LW7h5dEp6kMm7w9rWju3zf+Kaay1PU3HvhqmrOJJuLagJXP+nbn5eb03Ul6MjPSMjPSPlSTeS2+fv4CfcKj1ilES0+PgMXhQpb4JSXEdzIYAACr0TbhUev43/PC6oNLEQFB2eCIRKvA4D0zpv083/d/kz3FWUgdTU0VDx+0kqusAoO1jYYpdg4WFhYkEsnNzQ0AgMFgwsLC8vN7+B5yc3ObGntzk0jl1k1/TH1a2spgyp7folgvsqGhYWJiYu99GAxGcXExmUzm/3no0CHJVeBMfuBnmLEp9AueoN9QXwd9cvYOt73y8c07BVR1E5ev/jfbUV+9q62hntImvAkFgnIZ4p6kJhr1wf072to6dHq78M/szHRJLXppyMvNmT7TW+HDiiQscg2eoE9aGPjPg3uL/L5atW7LF5OnamIwQ0kRAQEGcESiTeiKUZJZKgAAIABJREFUqpvX3926iTE0IowcqYn75BDtbG2llZczKA04a5tRi5ZI5UMSR3Z2trf3pw8KDAazc+fOo0ePLlu2DHKNhIWF4fjmEBsb6xe4EgD+ikrgzs3s6bM+DiKtW/dtXWdpXecYY017C21JvEr8WjLI9Y66unovbjYeoaGheXl5Ao27du2SXGjDqhX5zwRH2LRtp+QjyIDL+InR678jGBi4e3hFhQXlvXhnat5brSNu0z/7/AO337M7mO9u23r1e9/vckynuIDj2/+Kup+x0gmDBNzgY4gbSXiCfnZmenYWrPmAenoE6KMkMyNtvNuk3t8MCkETg5k+y/uLyVNvXs/6fmWIty9p1mwfpRou8CsiICgbdW1tK78F9IZ66uvXlHdlrEbKp0MGhrhRVsN9fGV2IEVHR/NbPACAq1evFhUV8UwiAICNjY2NjQ1/n4CAgN6HFQh/W422sRrdY4Re3LrQSnLJTSUBLWnl5AeDwaxaterhw4f8jQcOHIB+MTMzSz79V0NbbwvklZr8AHHu9O9LgkMFGvEE/cTkvwpe5P+VcjLhxNm+vhSYFVePx+t8/zd5xRcmKkVJf/1psacgK2ws5+Vhn4hTD/4XP0vBXkyEXhjiRhIAYFnYyoWLg/kfgHhkZqQpQ7G5mQb9Mt5t0srQQGMTU6+pM4TfNgrhxLFfZ8+Zr6Wt1UHveF9Rpq2tQzAwiAoLchnvriQfD/yKCAhwom00TNtoGJg6DQDAYbEAAChFLN338PAQaCEQCDgcbt68eX5+fitXrsTI9Mbhhb+/njt/6fJIGd59kptK8mv1QltbW2FhofBdSk1NBQB4eHgQiUQgympcv3597yNDn/O851XlJT9AVJOrIkIWefuSxto7CliQjs4ujs6SpG1Ri3KLJi/Y/oWJlgr3/av7RZ5+u6zRKgA9YsJUzcOF1T/PUuaWowg9Gfq32t3Di7dCVYBZs32UoainR4AyAU3Nid+GR7W3tSrJQoKYO8NdoMXbhzTSaszzp3m2Yx2U4ceCXxEBoV9QiHkkju+//15fXz8oKOjevXszZ87cunXr1KlTezGVoqOjqUzBQgOKCn8Lm0rCfZQaam9tbY2Njc3KyhJoz8nJmTNnjjwjw5n/AABobqatXLPpfUXZyeMJbwoLvp4738llvPM4N2luFIfFALraGioAgLaKfx9gJ4UNQ5b99xdD30gCAAiY8zyU5PNobqaFLPHzmDzF1c29tqZ6+ldKfH82N9O27diHxeHSzp0e6+C4MfonZS/TgF8RAaG/6OJw0Cjlfj1hMBhvb++pU6dmZmYuXbp0wYIFvr6+Ik0lDw+Ph4UNIgdRYPhbTVVFWwOFVhO7pgfmUDuBQIAyt1JTU3n+JJG0tbU9e/bMwNxWD6fF3w5z/gP0kejo7OLr59/JYJSWFL0qyPf3nREUssLdw0uye2Vg7W5++/aTyq8NMXl3MtvcdtvoAcBlU55fy+yYu9P8s/jaHjAgd1vx6OkRAAC8Skj/Pn/i7UuyHGE1xto2/XyKYr1Kvn7+UO459HgXvf67hYuDlRrzgl8RAaFfoLOYmYXPF7sKBoBkw8fHR6AEwKFDh+bPn6+trU2n08vKyrBYrKGhYWBgoLu7e59eJR6KCn+rAIBSVXEgao0x11JDic4L7pdQO432MXvBw8Nj8eLFpqamM2fODAsLE+7Z2tp65Lf4jT8eBMCIvx3O/AcAgMBDI6WhLu3caQDAm8ICewdnycbA2JJWh11YNkonAADzqbtSphiz36auCQxPaVtw9LKXUd8DICgOxEhSPLq6epeu50D1MHLu3c598HdUWBDvqGLfnPT2dugX3uPdzpiNh+P3fRsepaTHO/gVERD6hWeV72idjPeNDZYGyvpamjhxokALiUSytrZ+9OiRg4NDL14TfuQMf0tiHilKqxdwOFx0dLRwO4FAgCohEYnEVatWtba2irSQegHm/AeID9XkrEvn9+zYAgDw9iEln7sklRGpYvjl1vN3v3ryqk7F0mOqA16F1W7ktvz44lnek0ZoIkvbYAUxkhQPlAaIJ+i7e3hBTheoEoEy1tk9f5p351a2nh6huZnGX+s2/1mey3j3/YePiws1DiJFBAT4obOYrxpqAQD3y0uUZCTRaLS4uDgcDnfq1CknJ6edO3f2XhTRx8fHL3DlSOJX/I1yhr/VJDaP5NfqHSwWK5y1DQCg0Wjz5s2bOnXqpEmTqqurZchPgjP/AQAALWGDPhuj1m4h+S+R6SNRRU1v5MRZI/97qUGcuixcgbNEkBjESIIDPEHf189/1mwfgoGBYkeGLBWX8e4ek6dErd3i6uZOp7ePtXcE4jOxBp0iAgL8PKt8B/3S3sVSkjMpICDAy8sLAADlbkdGRi5btkzCKBsPmcPf6ihVO3OMhOaRnFryQCAQAACxsbHQy8ePHy9YsMDKymrs2LFnz57l9yoZGhrG/nyQo04QGAHO/AcAwPWrl6BPyJ37Dkm2lg1hQIMYST1gs7ulPUVXW53W0iGQKigSTQxm7y8Jwu0s6UV5uHt4xez8Bc4gF/yKCAgww3MjQSjEmSS8bqv9v8g1L3d7w4YNe/fuXbVqlbjcbRFTlTX87eeuL7l5JKeWPOjp6T18+JBKpb5+/frWrVv37t0LDAzkHeU3ktTV1Y2NTYTrJMGZ/wAAaG6mXbmdR2mou3710twZ7tt27HNyGW9tY4cn6Ofl5iijfDGCUhlqRpKetvr7GqqzBCaLSGopzQAAXaym5KcMN9KpqG0abkJQE78epBcaaW20VgbRyFyGc0F/bACCbDmCMOThuZEglORMevTo0dWrVwkEAo1G49/INi8vz93d/ffffxcoLEkikbR0dAUGkTn8La2FJI+WJNTU1ERERAibklAZJH19fS8vL8jxRqVSb9++ffHixfR0ibIX4Mx/AABErdkM5WZNn+W9el00tLrtzxNHAQDZWelVjb1tcowwABlqRtJ0V/OrjyrvPXmrg0FLey6L3U1rZXzlNhytJsWiX+cxRm+rW+48KSVIY1rxKzqOIEhllikKNofbxe6Wc5NLBIQhhoAbCUIZmUmQbeTu7j516tTo6OhJkya1tbU5OTkBAATMI4iQkBDhEgBwhr9h0CoqKrK1te29j76+fkBAgK+vr6GhIX87i8Wqq6tV1TbuU0V5+Q8AAP7sdU0MBioguSQ49EM1WRlyCMpmqBlJBnjthdNGV9e3sdiybNxINDKX1l7R0kQvmWVdUdMim6IxwcQAr4B9oGSghc6+/qJJ8p2bEBA+BwTcSBDyO5Nyc3MdHBywWCyvxcvLa//+/bIV2uYBZ/hbqVoaGhoAgLy8vD6NJAgMBnPkyBH+lkuXLp05c2bND7/q4SwlGUE4/6GT2QUAkPwhWRONYjC79CTrbGpOjFqzmb+lubVDKjmEfmGoGUkAAC1N9BgLwdw9pYJWQ8GsqECk3eQSAWEII9KNBCGnMyk2NjYxMZHfSOpzXzZJgDP8rVQtAwOD8PDwiooKXktNTQ30i4aGhsF/PpjGxkYmkwn9bmhoqK6uDjXevXv3zJkzi78JI1M7NcmNBF2pMy4YzK7yaqoxHiP5c7L9CELB21o2m4PVlugULZw+ZBhBcsUVDRZGOv0SRkCQnCFoJCH8B4fDVkWp9ZF5IO0ml70PxmF3o5AHI4RBy8vq9+IOKW+Zm4QkJydrGVqPJA7ZkM3cuXNZrE8pOxEREdAvJBIpJCQE+j0rK4uXisQrzkmhUM6cObN27VpPT8/SqpbnpZTX5bL49ceY63o6mfXd7z9cbY0BAK8qGjq7ZJFzGEFwG9t3cBChf0GMpCEC5/WZuKcjli3yMNVUBQAAdn1B+pGrOmHR3hKVd5PFVOIUpu1+bBm6eIIZFC5kUl9cSLiMi/zRB6kIizBIGW1oPNpQ7PeWlkZ/PvSnp6f7Ba7sxwnAgDrfZnmJiYnQL1AkDsLHx2fWrFnQ77ycpFGjRvEyvu2tDO2teuQqKRVXW2PIVEIYqiBG0hBBRVevIyV48T+rdm4LGQ+ent0Tveel496T2L7P5EPAVBo3qtfTVXD4jpRgvwdr98UETQDP/twZs+O1/f4T8iRYdbE5FTUtNZR2JkvqJzPzYTrWFgQZAvzvP7RU1LYwmVIrGuIxtiP0tTSlXiKAMGAxxAouH1MU0dHROBxO4u5cDrtbVYYVaPxw2Bx5h5AcxXuR+bdw4WEgKvdZXfJ9iGtfA+wwoDNkvXEICkeWVesIAxBV87k/nc/aYvXoh/FGtuPD7wxbeyX7WJC9hDmFPeACoIVWNcar9/H5qmoxc8+FzJjRTza52Vraht8yXnP76q/LxsljJGXnVvzzuo7NVdXBakv1T0NL8+U72rmbJR2dXVIpPiqoufG0isHiyqBYXtd+5kZxYxNdjitG+Fzw8PDgT0jqAafwzy0nHpLp/1X4YVKep2zanl0nxfD0onOxZ/OqmB+H4LIbn6f/GHu7gS3PnMXCKUz76fcnNbz/+Uzqi3O792SL3n134MDpArXPAPlJf88DYTCBeJKGDFw2vYnaQKFYOjuAJplH0UKrjrfSIRpKFlZg05sb6xsoRg5ORiJWBEnJ+w8tdU2MqeNH6UiWBSnAKHPDB/nviiqoknu/W9o6Cypok8eNkKQWqDDWluBFEfmfwtp5XlYynD5U4eXbQvCya1ksFoVCgRr5U3Gh/jgcjmdDtLR1dkm/VlQLoy6bVw9mORGo4AzoKXNnPdj+a0y4B8hN2rlm86txR34XMKkSExOLqplihlDTJTSnBpAebYzdvMwNPEmO27LvldOeY9rKeQxWghcZDlo+AC4b0D+A9kbEmYQgIYiRNETofndudUDMhy+jT19e7AheXIjf7j/72qbfD3/rjJdwBOnMIwAApzQ9YsHWmik/pN78nxMoSP1l17wZV7cl/7ZivGyfle0MljFBWzYLCQCgpqZqYYKnSOPXaWpjqqNRsllIEObD9B4VVsl8+pAkOTn58ePHvJf82bUiU3F5jWvXrnV187j+uLKZLmPBPQsjnenS1Dlraeu89riyBRa5mpoanr0oiKrF3IMXc7OObosav7m8XefLdQmPf1nkOkzg09nMzKyCJs5Zo2E6e/fZG5P+2L3Oc0cJ0J6+/JfsdJKLfl/rNmQE8iJfPxa3yW3P+3atL9buvf2zr7PghAccVf8ALhcAAN4/APZ+/T0bhMHBQP9fjSAh3E7UmG0ZP/s46qqpAOAZFHfBNetIdgMDgL6NJKnNo490AZvtGYf8bPXQAIAJy+LPuqX/mtXYCcBAf6D8j3YGS4YSoPyoIUv5hFizZg0AQDi0ZGZmJlxPGQCQlZVVVFR08eLFK1euNLD0URrasnkTG2lthWV1T9/UeThKukDp2uNKFAols9zz4hrJ5SIiInj2ojBcNp3WUF/bYOTiYlQq7VQ+DsGiN1Mo9XQLJ2dQJtsQ0qBQLzIc0CoB++Pye9BJBbRKQLDo1wkhDA6QnKQhAspu8Xo/J13eg6Oavq1fzPpZpr2fpaOh6mWL85tkIL2FBADKjrTFH7KQAAAAoHXtAmK2zFbYtuAIgxMsFis2+UYMtra2P/zww759+0wNCa5jibJ5Ew0IWJsRRoUVNAn7NzbRW+gseeQcR5tILtcbnJKUb76emwxCrty+f//2Ff+OhOnTFh5+1t6zV01NTWdHu+gRQGf5+TUBAedA4OnUK3dTU0mdJxbOX3asoF32fSF7nXBpesSc4BQQkHrz4pWbp/06kufNCD/+bEBn533I7/Gy6p9+mgfCIAMxkj5fdLXV5k2UyTxCQBCiqKjo7t278oygrq5O0NPU1JA90Qcj/bkwy4mhC9jF5Fw7GO45HIMZ7hl+8FrO9lHURkbPThEREVUVJWJG4DCBw8bsC7uXeZpidEzdQ3efz9g4opXSKbjbq8ImbLM943x8kPtwTczwCcviz2b/YEFr7FSOmAJobwSd1B4t7A5AgcHhhjDoQcJtny+wLQ5G+BxoamqqrKzs71kMXEgkEn+9nx6g7IN22PO9RuMdF+13lGp4bVv/NXzbeaig9Jx8dzlJP03JQNmRttjxvUbr2gXE2Int3v+IXNFG/gcQLAAKKeGB0BuIJwkBAWFAUFRUdC0zrb9noSxCQkJE1vhBUDrtjYD+QUR7dxeoL4J9NgiDDMRIQkBAGBA0NTXl3L3e37MYuERHRxsOk2LTDISPUIrFHqr7F3Ckq6yG8LmBGElDjbK3xZkZaWVvP34uZGakbd0YNcQUP1STId1zp3+/czO7k8Ho85RBpzjocHBw8PHx6e9ZDGU8PDzwBsgOGNLD6gDaxmDYOGA2CeAsgIYeMJv08Z/JeMBo6e/5IQxoECNpSNFEo25YtSIqLOjOjeykhPgP1WRfP/+zyceHkmJmRtrK0MCkhPhpkxxz7t1+/jQv/XyK8uT6RXEwgsVikXBSLyQnJzc2Nvb3LD5LrGcB27mA6ApM7ADWFGjoAhO7T/+QqpIIvYIkbg8pqFRK/rO8tMzb7h5enQxG+vkUe0eXoaT4oZp8Minh6O8pVVUV3j6kQ0eTNTGYc6d/H0qKQx4ymUwkEouLix88eGBmZjZ16lQMBgMA8PDwiD10UpIRPlSTTc2JZW+Lnzx6OMzY9IvJUzUxGOVNWCFy6enpvJ1ZxVFcXPzy5UsnJycbGxsAQGpqak5OzpEjRyRXKXtb/OZVwVh7R6vRNgCAzIy0vNycvb8kSDvbgSmHgAA/iJE0pDA3t/D2ITmPcwMAaGIwS4JDlf11DrMiQf/jY5+7h5eBoRH0XVVNrmqiUfEEpVRogl9xkNLW1sZkMvt0JqWmph4+fNjPz2/z5s0kEsna2rqmpiYsLExyocyMtJNJCV/Pnb9nxxZvH9JIqzH1dR+WBIfKN/3+l6NSqaGhoXl5eXFxcVevXvX39w8ICAgMDOQZST4+Pn6BK0cSvxI3AuTWzX+Wt23Hvjs3sn3mL/T1848KC1KS1SK13DPk0QJh8IEYSYObsrfF0DMchCYGs2HrjlN/HPNfshT6Cl8SHKqDlXzv8YGoyI8mBnP095SiN4Wm5kTeNFzd3JVnr8CvOEgpLCwsKSnhbTYiEjKZfPjw4f/7v/+rqKggkUinTp3CYDAnTpyQXAVmxx6cchQKJS8v7+7du15eXgwG4+zZsy4u0jllYXbrSi03XlmGrBQwWkBzdX9PAmEwgRhJg5uTxxPsHZy/nuvH+862Gm3Db8QAAHz9/Ae1IgCg7G1xZUU5nd5uNMzY2sZu+ixv/qMCL5Uh6jJ+IgyKQx6en8nLy8vIyAiKslVVVVGpVH19/ZqamtcFhZOn9haTgtmxp0C5xMREQ0PDXjpYWFiQSCQ3NzcAAAaDCQsLk8p8BLC7deH3WysAjC7A6Pb3JBAGE0ji9uBGT4+wZd1KpzEmESGLMjPSCl7k8xZe8ZabDXZFKGM6ZMn8qLAgf98ZTmNMYPgs7hfRIQ8Gg/m///u/wsJCAACUdgMAmDRpkr6+PgCgsrLy7Mk+8m94jj0AAAyOPQXKmZmZCexuW1zc4/2CwWB27tx59OhRKvVjbeiwsLCUlD6WCPC/6Xhu3SbaxxGWBIcmnDgr7VQl0YJBDgFhIIB4kgY3zc205HOXykqLr125FBUWBDVGrd1iM9Y+OzM9Mfmvwa6Yl5uzZ8eWbTv2TfKc0tHR3lBfdzIpYcu6lW2treFR6xSr1b+igx08Hm9hIXrH0OLi4vLy8ra2NhMTEzs7O2/vHn44gZfigNmxB4Pc4cOHnZ2dSSQSZCMCAGxsbHi2I0RAQADv96ysrIeFDQKDCHh2lerW7RcvMgJC/4IYSYObjdE/4Qn602d5h0ety8xIq62pbmlpTji4b8go5ty7nXzuEv/Xkq+ff2ZGWlRY0CTPKY7OSkm56BfRwY6tra2tra1w+4EDBzZv3szfcuzYMakytQEASQnxe3Zs4W/ZF39UecnaypCrqakxNDTkdyYRCITIyMjIyEgSibRgwQIrK6uxY8dCIcji4mIBa0kckGd3y7qV3j4kb1+S5QirMda2UFhQIH1QfuDUQkAYICBG0uBGwO0//Stvq9E2q9dFl5YU/ZUi0WrqAa7Y3Ez7YvJUgUboafXRw7+VZK/0i+iQJCcnZ/PmzXFxcVOmTKHT6bW1tYcPH46MjGxtbV2/fr1AZwsLi6BvvxMeBGbHnpLkIiIiEhMTzcw+lcym0WiZmZlFRUUZGRmBgYFQY3R0tL29/cWLF9PSJNqhBU7PLvx+awSEfgcxkgY3SQnxvGVl2to6UKMmBuPo7NLR0T4EFPX0CCLbff3858/2UlLwq19EhyS3bt3KzMzkD6gFBASkpqYGBgZOmTLF1dWVv7OZmZmdo7rQGHA79mCT27lzp76+vre39/r161NTU6urq5ubm2NjY8X1z83NbWLqAGKPIgtwenbh91sjIPQ7iJE0uKmsLP8l9kdfP39rGzs6vYeN4u7hNQQUm5tpv8XHurq52451MDUn8h/6eu58hcv1o2i/QG+oR6HVNfF4+YfKzc0VLgFAo9GmThX0yUF5Nn///beAkSQOmB17sMnxUpEg5syZY2Njs3Xr1jdv3pw8KcIpGxsb6xe4EgB7/kY4Pbvw+62F4XZ3dXNYXA6zm9MFuCx4RBEUiQpKFaWpoopWRWmooEQ8FA00ECNpcKOnR0g4uI+3Dci++KMAAHNzC00M5s7NbGUktMKsCMlBv3v7kLymzpgwyROSw+KUVY2pX0Rhg/aurKWkpK2slN3RwWtUNzDEjbLSt7PTNhqmQC0CQbRPLiAgwNPTUzjiJhKYHXtKkouOjsb1/M9z4MCBZcuWQaYSFouFGjEYjKurK51Ol3BYOD278PuteXC7u9isFg6rFXSzAJerqqYBgKoqCq1UUQRl0N3d1d3V2c1hAQCAqrqqmjZaAz+QrSXESBr05L14V1VVUV5Wmnbu9JZ1K6HGoJAVbwoLlFTOB2ZFntyWdSuzs9KhRm8fUnZWuvJSd/tFVNnQG+orMi+zGil6I0eZuriiMRgNHWw3m93VyehsbaWVv2t8/AjvNG749BkodcV8ZtFotL17906aNMnBwYFI7OGT8/PzE+icm5sbGxubdOayQDvMjj0lyXl4eAi0lJeXx8TEBAQE2NnZtbW18R/y8pLUKQunZxd+vzUAoJvDYDNo3ew2oKKCUtNCaeqpojSUpIUAJ1xOVzeHwWa1MZlNqmhtNYyBKkqJmwvJDGIkDW7CItfgCfqm5kR3D68lwaEfqslVVRUv858JrM0ZvIoi5XLu3VZqJkS/iCob2ruy9+dTdczMR/rMQ2M0ee0otBoao6mFxxMsLDqamshPnrxOPDrmm6UKicERCARekg2JRJo5c+bkyZMtLCwwGAxOYp8czI492OSgm5OUlAS9PHbsGAAAujnZ2dnClRGio6OpTB2Rs4XHswuzF5nL7e5iULpZTaoodTTGAKU2EL9BEWRGBYVGodAodVw3h8lmtbFa36uisWitYSqqA8tBiBhJgxuBLAFTcyL01e4zf+HK0MAhoChOLmhpmJIusL9ElQpkIRm7uBpaWQkfbaN3PMjP//vJ07Kqqo1Lg40ZHaVnTklrJ3l4eAg7SwAAFRUVFRUVJSUlkZGR6ekffXIkEik9PV3yQgAwO/Zgk+PdnFOnTkVGRkKN4eHhL1++FDaSPDw8hOskAXg9u7BpdXMYrPYawO1CYwwR82hoo4rSUMdodKszuxg0Ztt7NMYYpY7t70l9AjGShiam5sTkcxkDS7GzBmgYARXFPCXAf4H9JSo/9Ib69+dTzSa6E0QVeywurziZcYmgi1syx9uIQMBqa2O1tSr++af0zCm7iJVyxt2+//57fX19IpHo5eUVFhZGJpMrKipu3bolcg0XHo/3mjZbuB1mx56S5Hx8fARKAIi8OU+fPhUoKyXDbJXk2YVNi8Nq6+qoUUVporWGqSDbQnweqKI0NHRM2MzmLno1h01Q11JkcqQ8IEbSkAX+HVj7UGx7Bmj1ADsJ6NgoxFTqly1mB+O+thWZl/VGjhJpIbXRO05mXJoywc17sid/+/AJE0uuXf2Q+w9xytQuFhutLuMHhcACLiKRCNkEK1asWLx4sUBnW1tbjroBEAJmxx5scuJujr+/v/DNAQDU1NR0djAB6HGL4PTswqPF6qjvZtLQmnoo9UG/SAJBWtQ09FRU1bo6m1lcrrq2cX9PBwBk77YhDYfD5sKryOWwOeIPdgNuF2h9AGqTQVsh4HYpV05JcNgcmG+qfNDelbEaKcZ29iKPPsjPJ+jiBCwkAAAKrWY23o2Sl8ui01so7SVPqloa+1i+VFNTU1RUJOGsiETi5cuCCdrSArNjDzY5cTcnIiKiqqJEwkHgvDkK1PpoIWEIiIX02YJC62hoDevuamLR6/p7LgAgRtKQgfP6zN4/H37o7P74ml1fkPbTzzerlSlZmPbT709qeGuVmdQX53bvyRaRNNEDroymkoxy8kAvOhd7Nq+K+dEq4rIbn6f/GHu7ga1ETUVDK3hJsLbhz9Tm5/cLF+dPmybykK6pqbquXmtVJQCA08WpKaH0bipVVlbm5eVJPjEBP4pswOzYg01u0N0chWhxWG0fLSS0YH46wmeFCgqtoWXS3dXC6qjv77kgRtJQQUVXryMlePGqX++/b6a/v5UUOWfu/mricGWmv6ng8B0pwX4rk+6+o7e/u5+wgjTjYIOFubZEJ0tvKsklJxtquoTm1ADSuiO3qtqbq+4eWuPt/Wu9CVF7ML1rWkuKcSYmIg99aKAAAMyGiY396xgbN795w3spiakkD0VFRdcyJdqLYzCSlZXFn5CEIACXw+rqqFHTwCEWEgIAQAWFRmvqdTNpHFZb372VyWD6uEfoBVXzuT+dz9pi9eiH8Ua248PvDFt7JftYkL2eMiUtZu65kBkz+skmN1tL2/BbxmtuX/112TixVkvXB6EmyFTKAXWnQEfDgpv3AAAgAElEQVSFguUUgIbp7N1nb/wwKm+dp6WRZ8hNow3Z6ceWj9UZNO+azqYmAIAmtrfIBVZbS9whjJ5eR42gM1JxphJXIHTZ1NSUc/e6dGPAHP2ET07w5gAASCSSto6uFGPAenPkin1zud1MerUqSl1NQ5kfWQiDChRaR00D18Wo43bLn5shO4Pm4x6hL7hsehO1gUKxdHawRMGkyaY3N9Y3UIwcnEb23RltKrpdVQfoTgdaIxQspxC4LHozhVJPt3ByFpH2LETl61reP15jQyWN18js+LiRArODxWtsqKSJ7MxrbGls5zXymyZ9yjFa6QAAcbG2BhrNavjwXi5HE4djd4gu/fzRVHr6yVSysLBwd3cXOxan8M8tJx6S6f99azMpz1M2bc+WJukA5ugnjHKS3ZyQkBAzCxEVHOCeLVB87JvDbAbdTLSWoeSndDC7++6EMMhR09BTASpd/Rp0Q4ykIUL3u3Or5wWngiWnL9+9eDnZl/G7/+zlJ180KVGSU5oeMSc4BQSk3rx45eZpv47keTPCjz+TdD8FAICqDsB7A5OlEllI8stJTWf5+TUBAedA4OnUK3dTU0mdJxbOX3asoH2IfDp3Mpn2o8V96UoEWgOF1vi48M3MzMzW1lZsVxWcAT1l7qzI+Jtl7e1lNw+EeU2Mr7U0kyYeDHP0U8Fyubm5AmW1PzHobo5CY9/c7i52JwWtoSfVav8nZW0vytvbOuRausFgMOQ5XXKoVFpxSSk8feAEhhuIxhC6u9q6OTD9pYRBjKQhArcTNWZbxtm40AlmOppmnkFxFzK2jWlqUOp/rC5gsz3jfHyQ+3BNzPAJy+LPZv9gQWvslORUqcwj+eVkhMMEDhuzL+xe5mmK0TF1D919PmPjiFZKp9gYhoWdCe8fr9HIgsBr1ND6WHZIQ0ud12hkQRDZmdeoa6DDa9Q10JFcDoPTBgB0MWS8SZ2treoGoh/uNbHqlo4mIx3NtLCi3VSCqFrMPXgxd+/oh1Hj9fRs/LONtz2+djrchT/9xMHBYf02EfWT/gPm6KeC5WJjY1tbW0Ufk+DmwDzbPlBo7LurkwZUgAzL2ZoZnOcV7TKbSmRy9d7Y/byv+eKS0u0xu9Q0dP0XBfsvCvb0mqkoc+TEH38OMx1h7+jm6TWTSqUptY8wZHK1/6JgNQ1dNQ3d71at2x6zi0wWu6Dnef6/nl4zoc45OQ/FNebkPFTT0PX0mnn2XOqJP/6UcCayoYrSUFXDsBmNSlXpbQL9JYygWFB2i9f7OemqqXx8raZv6xezfpaYCJeCJElb/G31eBWP0Lp2ATFbZvexykUW80gOObnQtvVf42un/1/wUgWl5+S7a8t0A7iimXIDlczuaBL9eVpTX6+t2ZuJw2hu1jYVzDWW2jz6Dy6bTmuor20wcnERHS3FYrEGhr1WkJMy+ikvMMr1eXMAAMnJyTWVZeKHgPfmKCj2zeV2d3e1ouVIRZLNVCKTq9dv3Lo1egMGgwEAPM//197RDQDwquBp2l+nTyUnAQAMDURU7ZKW5/n/vnhRUFH2Oi52V97jJ7fv3FNeH5EQiebLlgYCANqa644cji8pfbs4MERcZ1eXcVujNwAAHj/628vLU1yjl5dn9OYNe3f/GLZ8GQ6LTU27KDxU94eslVFZH4Tc7t11eYe+naSmoaum4Rd9qbQdsD5c+nHlJXIv/nk1DVx3F53LYUl4yYoFMZIQ4AJtKKN5hCAHeEfn1g/CKfMAAPC48NWoXnOSWiorsSM+/bF6N49yc3OTk5PFjsUpSfnm67nJIOTK7fv3b1/x70iYPm3h4WfS5H7DHP2EUU6ym5Oenk5vb+n/2QJFxr67u+iAy1FFi109ICHSmkrHTyRHrVwBWUjFJaUTJ03JvJS2a+d2G+sxAAAMBjN1ipe+PqGvYfrG0sJi/897iERz/4UkAMCM6VOV10ccf55KIfnNgy7W0NDA1FT0cleIR4+euE+c4Ooyjr/xavYNkt88/sbYuP1ubq4AgAD/BYcTEgW9U93kyz9dHvWtl6mgiUG9f3jzAfTWKkZTc8HCuu/3nH/LNZ02XTf618sfxNpAqigNFVW1LqYys0fEgxhJCHCB90TMI/jRtbZuLn8nHHF7UVxSVlU1ikgUeRYAgFZZyelk4EdZATm8R3x0AbuYnGsHwz2HYzDDPcMPXsvZPorayB8Pbmtra6T0kqEpdfRTPhQsFx0dLX5P375vDsyz7QuFxb45XW2qahhF7T0CmUovK9p7T+smk6t53/EAgMMJie4TJ0yd4sXfZ9fO7dAv2ddufLdqnafXzO0xuxgMxvP8f79btc5/UTAUhNoeswsA8Dz/XzUN3ef5/wIAUtMu8keg9PUJGAyGwWAcP5Gccuakvj4BtD8/MPPLsEvkbtDyPN6fGJ7FxAv00WvPPzLdckPGBxavM154HMlgMBjpGZdnzpwGXUvS8T+iVq7gHc2+dmN7zK7vVq3jxRZj4/YvXRooMELS8T+gEXg3MC52F2R1AQCWLg28fvM2/ynd7/4+XvOlrzNW8EIuPi17qRG02MNUVVXH2st32vuc1xSAm/jt5ubjN9/35kxS1+5mKzMBtRfpflFFQECAB8Ioqwbi8Or85yO++ILXWFFdc+5q9qZvQ8St/+9idNa9fGE2azZKXZ1grGZgJvfCbJR90A7+qt9ovOOi/Y49uhQWFh6IjU06I64St7at/xq+zHAo+ukk78TEomA5kbv/fkSCm9MX8N4clB1pix3fa7SuXUCMndjuvdDNpqM1FFZcWwUAVRUVgjZaA63SS7fCV68BANB3PJVKSzr+R/TmDbyvfH62x+wqKX177Mihjo6OEVZ2M2dM9fLyvHTpCoXSmP/vy63RG3zn++/aud3VZVz05g35/750dRlnZTUy/9+XAuPsjd1fUvo2Nm4/Fqvj/fXM8Dj/eaQDp7rNz/42/LfcryB3S88+QT+vDpv/05luqxuHRm547EtUFTHOVz002P8ecPgBpKStd+mRG/amqBgA8OJFgZqGbvTmDRVlr4lEc+jQiT/+vHXr7qnkpKUh4Q8e5tpYj4FMJZdxTsIj8DcWvnpta2vNe4nDYi+mXw5bvuy/Bua7f26/clo+TFVVx6XnhfjNNl0A7c/Y3V6Sk3nX0ivaEAD0MMvhr/Y/fhc8ZrQYa1kVhQHMFi6HpYKSazdJGUCMJASEIY6l99w3SUdrXr5UMTFtoNEKSksv3bkb+r8F7k6iv4c5XezKvEcahkYG9g4AAFWURE/5eDzeQtT2cAiKIjExsaia2d+zUCRcDgt0c1RRMrsnPwGZR5YGGqYG6ijV3iwkATo6OgAAkyZNED70PP/f2Lj9bc11GAxGSwsDANDW0QYAxMbtD1+xPGhJQGZWdvTmDVBne/uxr169AQBcunQlMDBAYCjIL3Ug/rer2Te8v/4KMh0mLn4ckpo2z1RdZB/XFZu/91sScMPn/H9WlHAfSS7w778fAACOHI6nUBppTU08C4lMro5cuebxo7+PHjthPWZ00JIAAMCDh7kAgLG2NvwjQDYff+OjR0++X/Md7yUWq5Oewf9sw26lNWL0sVoAAKAr4kLay+5dOLN7R53P+bilozUAAFo4Pcy7ptZuscEtFRQaANDNYaJgN5KQcBvC4ONDNRkAUPa2+Nzp3+/czO5U/jJU+BUViCYeb7kwgFZSHLVn7/WHD7U1NRO2/T97Zx4Pdf7H8XdjMsYxbrkmEqKkkMK2UzmqVYRKW3Rok621ttUp3ZtVu9W2UvuzHTqopUKUrZBSK22pNtowjpyjGAYzrsb4/fHVNDlnmBm0n+fDo8fM5/v5fl6f7zQz39e8359je9f92jDa3rGLHtx/x2LpOs6XkBTg+8jY2Ni2hx1OEABQXl7e2jqgkadaWlpS0p/UatQczjuA9hG4Af1WHwEgMWKEnqqUjZEcWY3Aj0NqaPgw3IvV2AgA5RW0rtXi4q77rP0KizA9fpwJALo6OlhO7Vvfr4lE4tWYa1x3JScnW1Nbix3FBjZ1ZebMzzsecepLckt7r8Opr8ihdr+O2Id2AACA/TTEkCCPl5m5tfDBVmtNPEHe8Mgz7gJZj/5+4rP2KwBY6LYg7PfT3Glx0Zdj3FwX5OcXui92+2HfTuwynz9/wR29BABYerGkuJS3kE6vyc2j8ub7GhqYVtO6cZndXQiHSU0IcP3qfA3lf9m/bbBU59+C4CQkB2VVSWSSPn1qa+gibT+fmhMfG51PzcGexsdGb9/sKzq5+Njo9Ws8wkKP2FqbpqUmZz7OiLkcKTq5QVEUOkpj9XUXLwmyt100Vu8Lyymaat1P7K+rqMj988YIKSnD5SuxmXHiRFFRkWI7V8yiYuPrr7+uqqoa7F4MLdrbWnB4wkBaENQeYdhYT4P3a/wYjTN0c12QlHSHuxYAnV6DDT/i1m9qago98ftvJ35VVlbKzy/0WfuV0ThDOr0mJvaarIwMNmZZT2/MP/9kxcVdxyaC8cJtKj+/cJ7jHIDWivhf/QqXJt1aWrihY8By5zqc0mt7DxX6XU7yK/HbewubI9alnQ7w5n55LXVs1t2DetMPPqxgt9Tl+Zvh319LTOw1rLKzkyMAnD0XgZ3FYNRVVNBsrKepqChjE/uxzONCtwXclk/8dpLFZCkoyKuqfpjod/ZcBG8djI9HdOFJSipN9IZGgM4Xws6//P2h6m8iTvvbGXxYn4LTWM9oGqtI6t2PjJDgtIlyyZceQOm2T4rmpqaysmJpokxjE4v7b8S5k1sC94lIsbaGvunbtU+fZATuOZByK9HJZbGzq7uvt+ePP4eKQq6irPRMWOiJU5ElJUWOTm5HT4RLEYkXz58ShdZgKYoIpbH6smvWlty+WZB0m6iqJk8my7zfRbXt3TtWNb2utKS1jjFqxix1iykCxZAEpbS0lEwm5+Tk3L9/X0tLa9asWdiPVGNj4zZJviZdV5SVamqT86k5fz98MEpd87PPZ0l1N6BEWIhZrifKy8ubG1sAhDAv/RNgJG7EaGWBk2sYZLK2m+uCf1/lYNO1Dv/841IPr5VePgvdFtQ3NDx//mLbFn8ikWhiMt5j+Wq9MboMRp3v+rXY7PerMdewGfVYni4pOZXrijQ1NdZ6e3Ua25SW9sDWYV7A1k0mJuPT7v916KcgTsWt3Rv+mnv0uxkzSSQ/b5e9t9qXKbrP5q2zuyL+B79bliG7Z84iKW9w9d8dP9lDqdj+43b6vEw6vWaU5hgAOHsuctpUS2VlpYPBP2wN2KmtrbXEfaGLy/zgg4ew5QB+3L+bW/lqzDUAyM7+NzePGhN7rYFROWaM7lIPr527fuCmFDf6+/EKXY25xjsYHIAw9jN7kyvFbzitzPhfP7qQc54K2c/Dl5i8nwc7ZnnU9XAX1TevS0wWfTm2V5OEw+E5nAGtHdo/kEn61MAsS6dC0ZkkOr3q6ZOM6PhkKxtKc1NTzOVIE1NzIbafcjvRbrYj96mScscdwsqGoqKqht2rykpLamvoQtzznFdUPIriQVJGRt91IevtG0ZBQX1hQeXTTO4hksE49ZmzSKN1JGX6uRveq1evaDRanxm3qKioY8eOubq6bt261c3Nbdy4ceXl5d7e3vwLxcdGnwkL/WK+S9CebY5Obnr6hm8qK5atWNO/bg8puZycnH/++WfSpElGRkYAEBUVlZaWdvz4cezo119/7eqxfvw43V5ayKfm/Jv9YryJqb6BEdb5jPQ0Ef1i6RaxfS4+Mx7QcO+tW74/E34BM0lksnbSrfjiklIZaWlWYyN3APIS94VYzIk7jgcAov84jz0gk7XfVBRJSxMxV6QzmnwuPKzr6G8KZfqbiqLGxkZpaekl7gsBAIhOJ187YUct/KOxrFunOkSXQ6UuHVU2Jt3DBDu30wm82cZXN3gLlJWV2C0frRmx0d+P628szM2K8l8CgIqKMtZt3sq8Eryvj7OTY6drzHz6TFVVhbuoEgZu7My1Wnvjnztv7HohX3n/3Knn9WlnDiqsTdEdmoktZJI+KaSIxNU+vnE303gLw0KPiE5RW1vH0cltspklpr5sxRrhRllSkhLz83Lcl63EvnmliMQTpyJf/ZulqU3GbgMAYGFpJdzvZV5R8SiKExm1UTJqo8C658lW/aK2tra4uLj3OqWlpceOHbt06VJRUZGbm9u5c+eIROLJkyf5VxFzYE+Icm5ubgRCb6klOp2+Zs2ajIyMgwcP3rhxw93dfcmSJR4eHlyT1CdiDuuKP24tRCzMzfLzC0+ePotZIiKR2O1AIl571BXecTndTo7jVutzxr6w6ghE71fHS0+vT2lpWVzc9W7CWjjygt0LfH9Mq5js1GWppE60VtxJqQv+jjuAfaiBTNLwJj42GgCmWFprancseOPs6t6pjo+vv+gUpYjETdv3nDv9G9fHLFuxRrbXbecFQkFBSY5E8lrm+sV8l5VfrZMiEjW1ydyLxeANNYlCVAyK/xFU3i9hTKFQ1NTUsPtKSUkJnU5XVlZOT08P7m0JAACxB/aEKOfl1eMyxxhVVVUZGRl37tyhUChNTU0RERHm5oIFZUUd1u2KmOPWwmWJ+8LMp8/o9BrhOo//FKzGRu6q5Z3AaTqd4MucS2q67D0h7I4JkaEZ30LwS0Z6moyMWCe8dFXUNzDy8fXnvWd0NWr9xnvdd8tWrPkj9pa+odGXrnPEM7NsUEQHBVaraKeUJyYm8j4lEomXLl3KysoCACyjBADW1tbKyr0ZjpTbHxrhBvYAQESBPTHLcdHR0XFzc7O0tAQAIpHo7e399OlT3goBAQGqozrvEsNL17Bu9ounvdQfIFjcuqS6lfcvcM8B0SkKHQtzM+SQBoLROMNeQmifBsgkDW8UFJTsZjtqapPjY6OxaeqfniIASBGJdrMd/4i9xWIxN6z3io+NFoNrGRRRcVLVUJealy2s1iZOnOjk5NSp8MaNG4cPH6bTP8yvJJPJjo4fxeE6Pe1KSlJiWOgR7iRNTW1yp0iecAN7YpbjQiQS9+3bd+LECe7L5e3tHRn5YR6ljY2Noop6Ly1ww7rczi9bsSb0ZIQoeosh6rg1AjHoIJM0vGEwOha9mGJpvX6Nx9deX4p64pWYFU/+9uuL50/zqTkvnj+9fTNBRkZWSUXF19tTpAGeQREVP38V5RXXMaoaetoOTDDk5ORUumwIqqSkRCKRFixYcPjw4ab+vm7c7GdY6BExvPgikgsPD6+u/mgn86ioqKioqNLSD780jIyMNm7cyBtXW7Kk87KEnYiPjeb9uSLSsG4nLQTivwAakzS8UVBQwoZHaGqTV/v4MhvqRTfNZ7AU59tbdSrBJhllPs4wHj+x02ihYS0qTqoa6sob6gHgr6I8F1NLEals2LBBWVnZ09MzNTXVwcFh+/bt3An/XbGxsQk+eqZrufe67xSVlN0We/x1P/VL1znf+m8T6SR8EcnFxMTMnj2btyQtLW3evHkDbDYjPc3OQUwj5MSphUAMEZBJGt4wGDVey1xtPp9pYWlFKy+zmyPyrzAxKzIYNYF7DsiRSNEXz4+faLo5YK8YppUNiqiY+auoYz/L8ob6qoY6VTn5ATbY0NDQ0tLSNZgEAEQi0dHRcdasWfHx8StXrly4cKGzs7OgQxmw7Odnn8+6fTNhw3ovR2e32XOdRGeVxCCnpKSEpRqjoqJsbGzIPW82jOHk5OTqsV6P/NFmFFj6GwDiY6N5J3CIAnFqIRBDBGSShjcKCkoAEPpLx2DJZ5l/Ozq76Y7RNxxnHHM5UhQxHjErOru6W9lQAAD7ZR+w8ZvFS1eIejW/QREVJ9wwEoZQgklZWVm5ubmd5nAdPXrUxcVFRkaGxWLl5+fLycmpqqp6eHhYWVn1HlXi5eRvv86d5yItI93IanxdlM/NfppPsRJFVElscjU1HZlrGxubpUuXampqOjg4CLRkFHRJf6traFJm2YsouCtOrT6oowHnHchrAU5iENQR/yWQSRreyMsrxN1Mq62h5+a8TEtNTr9/19fbk3tUFN9fYlZkMTt2WeL+st+3a/OxIwdW+/iKLpAwKKLihBtGwhBWMKlbpk2b1qkEW0Py4cOHEydO5A2flJeXv3yR9fms2dAFMWc/RSH3v//9T1X1o91glJSUsLUPyGTyt99+W19fL6hDAvGmv8Wfau8Rzjug50BNPijpI6uEECnIJA1vsLkkikrKVjYULPhRW0O/fy8lMT4mMSHmE1DMfJyRkpSooKDEYNREhP/OLX/6JMN8itWhY79zJ2YPd1Gx0SmMhCGikUk1NTUHDx4kkUjnzp2bNGnSvn37epntX1xcHHHmeFeTJObsp4jktLQ6z96vqalZsGDBrFmzrK2ty8rK+jc+SZzpb/En9/ugnQ30XAGtEpsWt4kcb1d6xkkDe/40ZLwHXMrysxD5zfC99I+wXSfFufiQq7qgkq0VcUH7YVUg/DqrcOW/7zdo6x1OZUbI9u83Rf4LYLs56mCgi259XNB+WBPqQkbztvgBmaRhBpvNweN7e28rKik7u7rPnuuk1N3oEFEgUkXMpphPsbL5fKbv99ssLK1YLOZ4E1PgWbfm0xAVG53CSBgDDyYpKirq6Oh0KlyyZAmFQgEAbOz2unXrVq1axWeWjYuYs59ik1NSUgKA4OBg7OmjR48WLlyor68/fvz4iIiIrlGlhISEB1lvOxWKM/0t/uQ+H7T3yyoNKupO4S2dF8vgB07Frd2n1L7+QwuXzP9J9HvHth4eub2kaR6J+se3c4IuT/jdy9ZOftqv16b+6DpUF7keUiArOWyQl5MCAEY9i5/KUkRi170ImKxmABiJF+BLRF5G8k1NQ78V2WxOZQ1Lltj/j6KVDSWvtC7uZtqWwH1bAvfZzXZ0dnXXNzASqVkZFFHx0G0YCaNb88Q/xsbGXTduY75PXGJjt8+dO3fjxg0HB4eoqCj+VwTolP08eiI8JSnxS9c5Ilq5SkRy6enpDQ0ffZQUFBQePHjw5s2bO3fuBAQEVFRUeHh4TJs2TU5Obt26dXw2i6W//8mjRccn+36/rZJW4evtOd/eypAsv81/fb97O+haAvLeKhXdg9oS6M82qGWxq2d7BW6yI8jjCa4BcXlMaKU9PumlK48nyOMd9sVSG6CbkrLY1dZ2WwK9dOXxBNeAs6cDHMbhCePsdqbSOF0bfE9lghdhQ2xlCy1uA153TcAWVzxBHu9wILWyFTi01J3Y000Bq60Njzxjf+hhS8Hta2WLHMxkcQDQlH2lQyswgcqsSg2c/cXZPA4AcPLC588OuPt+ZTIO/fU/BM+lNpo4nOw4irPt67SXVUCatnor4/fbrzkDecn/M6BI0rBhJF5CR002t7gKAFSU5AQ9vbqmIbe4Sl2RiJktPjHRVXqcV0WSkVJVlOs9gtUVJqs5v6RKaqSEllr/1wQX4iovQ1xUPDwqzu/pkChGJj18+PDGjRtKSko1NTVhYWHc8oyMDCsrq1OnTnHX3QYAHR0dz9XfdG1EzNlPEckFBwf/9NNPxsbG3JKNGzcCgLKyMoVCweJtdDo9OTn56tWrMTH8Zq7Fmf4Wf3JfQDCrlAMcNijrCX7622SaeTK91qD+ho9N0OVxPjUrHlCS3oYbtOaeDXA6+8xuK4QsjlA/W8ieic884u1y9pldkB5AU171hBPZtO1X1hn73Dr48G+2/j8Bpqdvrtip0KnBCSfmdtWk0SUcT7TuoAaa+p3PWKTN+MEhw/4R/apZ/Q0fm5NgwlOTU/zgSsnkTcrYtzDtTt34W0/YBozYdZ5+V8IuOUzPPvSoYIXh2IJH0dnTt5grdpyFM/S6fhs7n5mbFn9HlxKgCjBylO5orL4BipP0BTJJwwk7y9Epj0seZpX073QdVVnriRoCnWKir9ryru3Jv2X9U5SXkXT5XE+g2JUQyS1lqchLKpNGDor60GSajn7ncdQ8SBMEMND8gHkjKyurWbNmBQQEWFtbNzQ0TJo0CXi2JeGipaU1wbSboGO/s5+Z+Q3jydJEgmBvP9ElWzMyMnhNUleUlZWXLFni7OzcaYg3ALS2tsbExsqoGQO5j6S2OBPu4k/u94GcNqiMBYneNhLuGS3PFXPGyeJA1vZrvwuh/+JWLKp3WP8jfDNFQXfD01X6sgDB2adTk9Nj45oLs0tpUMcCAJC3d6aMk5Vmm1ro6cFMU3kAORVidU0DW6FTgy+rujFJerNcp2vg8G1TbWFr4Ytn2XkOHoFmsjicrM0yj8n3eGtyWDUFI1VIHZ9QDQ/3hePkAGTsltr5nac2uc30LLhbxmyEv5KzPb6yIH3sfZj5qVcu7N9T6XT54EoDAgBIkxSIBbX1HJRM6htkkoYTI/ESc63HNDa/a2xqFfRcaaKktFR/7IKFsbqpgWpdQ7OgJ47ESwgUtRI6JdUtT4pYanJ487FyyCphiGgKGwCkp6d3XQKAQqEcOnRogLs7WdlQdu37uR9DgnIqmnIqmgzVpUx0ZPi3Sv2W6x03N7eYmBgnJ6dul5LihUgkHj9+vFPh7du3IyMiFnjt6HNUIkbX9DeT1VxZw5o0lt9B6PKykoW02tEaSn3K9ZTcF0huoAhkj94ymB3+gNNYz2gaO+ZjU9FcT2eBnvasH2JbK59dzyimJ202vrQ6fSfsm/4j28/fWW+kkoY60PjvHNYgPzUl1RWk++NbSBNmu4XefvzU8ArNc9MEng3GOUzqjaD1hyq/2PW/7FkGssgTCQwyScMPaamR/bM7/WYkXkJFUUacikLkbQP75vNaZJUGhT531eCHAWY/qZXNeZXN/FslESVbnZycdHR0uA7pzp07xcXF2GOus3z16lVGRgb22MrKCgs7VVdX/+9//3v06NEa77UMvFzK33naqiSilGDj/OqZTW9qWeqKRF1Nfl3yJEO1vLK6fsuVvq0XSK7/CBY9wo+aaue14cy5NPt9MzWg8u8z51NMFp0ci4NsKI+4lP4tZfFm9+4AACAASURBVB6Jeut8pArFJTtA118l5uRGlwkV8GDXKXplbslNA8+4tQvNmH+HxFfyofVxg6tU4WXv9dVNKLob49Ny7d21ym+dj3wOfjwHcTJKY9/l1TcDEACAFhmf8o2Vq/qblEspJpQvR4Es04AYcSB4DHX6Xm6uDQA4+Ze/P1T9TcTpj+aydWsNEd2DTBJi+NLexuZI8JfLE5pVamO34fASI/rfAKIn0tPTg4ODwy5cE26z7QAguFUSOioqKl0HtvN5oqGh4cKFC42Njd+x24rK68qrmMwGviZwcCESJGZN1hLIskhLjVw2e1z/5BRkJcdbjha5Q+pXcg2nOWdfDCtk60zJOZUA45cH7w9ZpI+DCgA1e5V7y4me98B2c9TBxZa6DWefe1qP3goAGstP3lpoqVW6j/zVNOXtQNlw0mP2DJ+d251POPcm9XGDBoSGPkwS0XBRYAh16wTldUDx3mw7/uN+60xfNDr6NZ0D8gCgYUtIXzlxcRrM2HTof4v0cYAb+5m9iY9v9qatH+XamJV52c/Dl5iEdzwfszzqeriL6pvXJSaLvhyLTBIfjGhvbxe1RkFBgbS0tJqamqiFEMOa7IKqgooGy4m63R9uy4re/0h3zdKpWlhMq4X+/EroNdK63U7cN1ZhaTWzgTXXZgz2NOlZzdsGdteWuFapD0VgvboYkqnnsXjaaMIIAGhnVz+NP5oo823AnFEdvy4Y9Y33nxX5LJjYz2v+hOg23SZoCwM0SZ3+OyLTOk+YHwHQDoBZJVZj89W0QqcZE4QlN1RobQRJ6cHuBF+wm2s47xiS0qMEPrO5HkYS+jv2qFvKYlf7F/qGbzQXVsi8Hw22UM+utX246NFvTupvU3ctD24LvBQ880O+klOR4LO25Os/1ll0mzWrTwswPW2Y9LuXQV8vS31awLT4qSnDbAkAdguDw+FIyna/lGthYSGJRBo1SvD3Ul+gSBJimDCCpNgYucL1/vcHdnlOhSdn9+3a89Lk0MlevoG6dUjwPqpkOlq6r3gQXl6JEbXE7eHm4K2rLOHv8IPbDmRPCvpNpp+/vyqqGtL+qahjCTyeDADkZSQpkzQ1VQWb1VjX0Pwwi1Zcxey7ahekRkpYGKqa6HceQdwTNjY2NjY2gii0t7E5A43KCRjYw34R5lU251U2W40VfNTR0I8jNtVB/m2YuHiw+yFipEh91xl+EMbO9Qui7h9N9AQYv/znX36kfDSiC6c5Z++aoP3J5Wad14Fk0+I2kZc8Wh52OrBPhwStFXdS6oK/WzCsHNIggkwSYpiA03EIuhJ/87eDWyyDXjOlP/v+x+SfnCeP6uUdrCaH79YnyRBwFnqyZFWp7ILel70haM7dH3HL+vR+/+l7ckHG7qufE2PczJXx/blJNja/S0h/TVYjmRp2XnmZH8rfMBLSXy+k6PE/OOwduy3ufqE0UdJ64mi84BMMa+oa/3pZCSPAZCy/Pqk32rLOBmbof7PsM7LMCACAlqrMyweuyG8KduLOt1RUVKTYdjMB6D19B/b4RF+NYDpGltXY+1wEocmJlcosaKmDmmJQ6rywJ6JXtF3PRA96gzh1ixVBsSuCejouqemy90Q35XgNl6PsFj5FemoE0T1D+NOOQHSCzWJUv3lbpTZxklpBvxrg2iN+T2hvZTGqqt6wdCZNhh4XGOKLwnKGLFFysnE/dxlTIEkzmM15pQz+TVJVbWPzu7ZZU3UFXeCKq/iurS2/vE44JmkESYUVOX/2/Z2/7vKxgfSwfd9tzTY7foo3MmZsbNwm2cvMLyEE9jB7hI1JYjX2XlfIcURx0NoI9BwAgNd3QX4ZSKBpCgjEQBnCH3gEgpe2vJiv562IhCVRt69ev33etTF8gb3P70/4HFAqQ8BRjEku01QEcEjQXHj5uyVLLoLH+ajrd6Ki3JpPLnZZ9dsLZn8Wqi17w9RUG1COQEOFVM8UIFVXU9+sriTTP4eEMUpJ7k0tv2tMl5eXv3r1qsfDOJ35v1xN/9Hgge8UBQUj90T1wEd/nvcxF2SZUSywt2Nshv90XbXpXrfVNiXG/PbVeP5mNeurEdymKU8zkud71PaA5AaHiucdD9rZ8HZA66cjEAgMFElCDBfegdHO2KOuxgojAWDqqiMRljG/JlQ3A/QeWhE4evSBthaYuDnx4LwJyhIAYLVm/+WpNw7/WdXcDv1aQnykxJDfVWoAFBcX5+bm9rJYYjubVfP2De2tmrm5Wj9v4P0K7PFGj8QgN2i0NkL1vx2P29uB9gTUDFEwCYEYIEP4VxECwYvEBLdt7phDAgCAkfITluzaNreXterUFSUFjx7xImPs/p0z5pAAAEZIKExy/mGbncqn7HVERVtu5PIv5oeD1/Xke/eSr7s3htrZLj72hHdI+atXr/6M72UYh8CBPSNNooDRowHJDTIVz2EEz2g5zjt403NgD4FA8AcySYhPlom6/QsgIUTBO5iwK+3PX3ymjyYSR0/3+eXPtJ1j6dW8ybza2tq0Ozd7bgEL7F3Zv2q6JlFW02rN/suxm8fUVzX3uIiJhb7cAJZEElhuMGl7B/Q86LSeC+0ptL0bpA4hEJ8IKN2GQCCEgI6OjqKiYo+HJUw89/Bu1zlS0fTLQ6YCKcgYu3/Hk8zDAnuTBOzmkJUbGG9eQXuXiZztbKh4AWSLweiQiGljgYQUAIrpIkQOiiQhEAghoKWl1fvurQhR0fYOaE+7P/TmGbT2MYtvWNJaDTXJ0FQM0DbYXUF84iCThEAghgQTJ07cGBg82L0YhrzN6yaMxIWWJcauiJF2NjS+RFYJIWqQSUIMPyrKSgEgn5pz8fyplNuJzU38TlMfRooAkHI7MZ+aIwYhoSg2NDRUV1cPRF1OTk5FVfi7Cnz6KGiDkcuHPwDQmQFT1nT86Uwb7P6JjvZ+WCX20xBDgjw5MK2+o4BTf3cfmSBveORZz05TiLBpcRvwqxNoUBa7eoZXXJngLbRWxO1eH1dUHrdBgD5zKh+H+JAJ8njCOLvABCqzuSJu9/q40qE6DWEIgUwSYpgRHxu9fo1HWOgRW2vTtNTkzMcZMZcjPw3FirLS0SqS3D+vZS621qajVUS4e4AQFbOyshISEoTeQ0TfEOVBVuXDHwAQex4c9gnSH6tEi7ybWY85hNrMpGxDyhiRdrE7tF3P3At30Rb0NE7Frd2n1L6y1xLk5s2pT/vd7YhcSFEVmx7rSTvkd6VE3dZOPuDXaxX92SXpPwUySYjhREVZ6Zmw0BOnIieZT3F0cjt6InxL4L5PRlFTm3zn4QtPr7UZzwtKqlvDL8bdefiipFqE32LiVwSA0tJSAMjJyTl58mRiYmLT+7BcQ0NDddUbfloQc2BvUOKICAHBrFI21KZAU3EfdfW8Ni/Mvv20FgCg/uXtl9M9Z2ObBbXSHp/00pXHE+TxDvtiqQzm0+N2uptiK1qBmXnYYYb3R6GXstjVs70CN9kR5PEE14C4PCYApzLj6GprPEEer+tzOCWfCbwhHGuvIynUD0tIYJGk17S4DXjdNQFbXPEEebzDgdTKVoBW2t0DWLObA9eQjUMyP8SLWgpuXytb5GAmiwOApuwrAQ7j3geH2PV395HnX6ByAKCFenYlT7Ts3ZvXBeDhbKcpCbKGc53NktJy35Cmrd7K+P32axRM6h1kkhBDmk7ZHyXljm0rrGwom7bvkSISAaCstKS2hi4iUfEoctE3MNq17+eEuMsptxNZLKY0UVh7kg8VxaioqKVLlx4+fNjExCQpKenhw4cRERHYoaysrMNBAX22IOZQovgjl4gBMVITCOp9VRptN9fkatLLeuDUP73/0uUzE2yeXH1GyOII9bOF7JaSR19k+519wTH3/MmvxG/vhau/HTyqt2mvc6edZd8m08xP0Gtbi1ZXbwi6nJt3bffWBJNQRkst49aM7K9+uExtqIg/5JZgGkevZdNPU7L3+V3J78aU0OgSjidaqxI2U/84n/GWQ41aPeep48MSdlOITfVLGm9NTvGDKyWTdZWxbtDu1I0PfcJuSvatPuR3pVDWfKZndvKDghbgFD+4QvN0mPB+jX+CwapzpUEUEgAw827GP3OgjBsFI0fpjs6+8qgAuaReQSYJMaQ583voxfOnuI5Eikg8cSry1b9ZAKBvYIQVWlhaKSr1sqjkgETFoJhPzUm5nRgfG52RnlZbQ5ciEn18/VXV1M+EhTY28bntyuArKioq6uj0salqaWnpsWPHLl26ZGlp6ebmdu7cuR9++EEgFTGHEsUfuUT0H4IOKNqDrAngCH1VxStazFwYczeznp6ZVOX6mW7HjZBECc4+PZuRHht3+252KY1WxwJ5i7VbNxT+tOT46JDdczRxrMwj8/AEeTxh3uGnTAAtzxVzxsnicJq2X/s1pV2/Fn/WzHfZJFnAyY6jONu+TnuZ9Sj+sf03Cyxkce9DODmVXbujN8t1ugaOpDfVFv4qpJW/zExycHKeLA84LbulX2jw1uSwagpGqpA6ln/T8HBfOE4OcFp2S+2y03LfkCbM9mjKK2dyCh5FZ0+fbd4p69pAvXshwHVd2uSDZ1YY4gAnTVIgFtTWI5PUK2idJMSQRkFBaZv/+m3+6x2d3Byd3XTH6BuOM7ab7QgA+dQczLVgT0Uq+tnns7BDmKgQFcNCjwTt2cZbcuDIiWUr1phONo+7mSYsFTEoGhsb97kEgIpKR1iOQqGoqakRiUQAKCkpodPpysp8mU7ewJ6KqhpvYE+4RnlQ5BD9hKAD0gZ8eCMeSBNmu4XeTk6Blxarx0phaSlORYK3zY9sP39nvZFKGupAAwDg1FfkULnGRsbC/wbbH3tcFvuhueZ6OguUBn4l71FT6NcmgYoWDiY+SY/dDJKzPb6yIPE0wcyLDd7qR7MPP3Hd3kCu5xYQnUGRJMSQhsGoCb8YF7jnQCWtwtfbc769lSFZ/qegXfGx0Yd+3DPcRTPS04L2bAvcc+B6ckZ0fHLoyQjzKVbb/NeHhR4RosogKubkfJQtJRKJly5dysrKAgAjo46wnLW1NeaQFBUVKbZzuzbCm/0UT2BPnHKIASFA9KgTihYOJhFLdz93mTa24zbIYeY9u2ng6bt24QIr9TpaJQAAp/Ta3kOFfpeT/Er89t6q6Bx0KY+4lF7B4TBzb52PVKHMn0NxeBZ/M48JHGZuWvxDS+epE00ousnxablMDjDzbsZTvZzN+soF4kdNsHC4c+tmbgMwc66e//OjdBtORmnsu+r6ZuwZLTI+paIVOOUpl1JMKONGAU5Wa8zYyCPbzvLm2gCghXolyK969aNT3/A4JE5jPaNprCIJuYBeQZEkxJBmc8BeRSVlu9mOPr7+8bHRtPKyujpG6C8HPg3RtNTk8ItxvHEpZ1f3+NhoX29P6+kzTSebD3fFY8eOTZ482c3NjRsoIpPJZDKZt46jY0dnjI2N2yRVujZy5vdQk4mTv5jvilkTTW2ypvZHLQg3lChmOUQ/6Uf06CNwJPOZnhoFhp/p4IDdUTJl0T7yV9OUtwNlw0mP2TN8PMmRKhoariG7Z84iKW9w9d8dPznMhXdYkpq9yr3lRM97YLs56uDicfrwy6a89a4KPpWg8eWhy3sXaMrhFgWGULdOUF4HMH75z7/86EyG+L56ZuAScrToa1Ntb7D9ftOEj9JtOJ3pi0ZHv6ZzQB4ANGwJ6SsnLk6DGZsO/W+RPg4Axk5zN9nvne2x46NcG7OM+pp21nP02fcFHhGlZ2YzX5eYLPpyLDJJvYJMEmJI0+knu90cR30DIz//gLzcV39EnhnuogxGDTeRx8XZ1R0AHj64KwqTJDrFV69e0Wg0W1tb3kIlJaV169atW7fOzc1t4cKF+vr648ePx7JsOTk53GBS73SbcsUyX9yUqxARsxyiPxD7GP3WC3hzvzxs518SJfg1BQAACBb+N/IAAMDrzEOv9x9xr1V7ec6z2Jh0r0tjCiYL94YHHfpQYOAUnOT00YqosoauQbHsIJ4Sl6NsFwAA1zP3XAEAOp4CaLueee4KwKFe8NtQ71tUlaJOT929/g+3yQYfbtSEsbMXaK9NerZonYXL0VIXAAj6mVcOp6w7Scdh0ZczPgoQKc8KuvdRHwCgPi3goMLaFF3kkXoHvT6IIU1Y6BHuqG0ZGVnsgRSRaDrZHLu1D2tRBYXuRzE4u7r/eT1OiEJiUKytrS0u7jz1uqamJj4+/uDBgxUVFR4eHtOmTZOTk9u5c2dUVNSuXbv4bFnMKddByfAiEFxwYx32/yATOkYVTzRaUe4Y860Vifeo5py9a96eTi7vZrx1ZYIXQW8FbdVRLKrUG60Vd1Lqgr9boCnCZdg+DVAkCTGkKS4u/Dl4t7Or+zijCSwWk/eQlQ1luIsyGDUhR4ItLK2Mx0/slNP5Yr6LEIUGS3Hfvn3KysqOjo4bN26MiooqKytjMBjBwd3vPZKenh4cHBx24VqncjGnXPsv9+SUiLqEGJJou56JFknDOHWL5XtTlu/t4bCkpsveE90eUXcKb6njT6PnRhAfg0wSYkijoKAU+suBiPDfsacHjpwAAG1tHSkiMeV2oohGh4hNFBPCHjs6uVFm2U+1no4JyZFIvZ87LBQ7zVmbN2+ekZHR9u3b//333zNn+E1cijnl2n+5KWuE3pn+QHsJEiMHuxMIxCcCMkmIoU7G84KSkqLC/Lzoi+e3+a/HCj291v6b9UJ0Q2jFJsoV2ua/PjEhBit0dHJLTIhZtkIkN10RKU6cONHQ0LBT4eHDh1etWoVZJTm5jmk1RCLRwsKCxeJ3Qaaw0CPuy1Zi3qVT9rOxkdnrqf1BzHLCR2PCYPcAgfh0QCYJMaTxXvedopKypjbZyoaybMWairLSkpKif54+6bTSzzAV7VYoLTVZdLkk0SnKyclxbRCXwsLCXbt2LVmyZMKECQ0NDbyHKBR+E5diTrkOSoYXgUAMTdDAbcSQplPuA7u7+/j6ZzwvMJ9iNdxFuxXaErhPdFcnZkUlJaWwsDBbW9tRo0Z5eHjcv38/JycH26wtMTGxU2UbG5vgo93ksxQUlCLCf3d3tp9kqOHr7fn3wwf51BxsA7WU250bGThilkMgEEMZFElCDEs0tcnhF2P7rjc8RcV/dQNXbGhoaGlp4a6pzaWoqKioqCg3N/fcuXPr1q3DCn18fP755x/uCkl9IuaU66BkeBEIxBAEmSTEcGVQVj3uUfTNJZCzAukxIhcSGQNUzMrKys3N9fLy4i3csGGDsrIymUymUCje3t6lpaVFRUWPHz/eunUr/y2LOeU6KBlehECwahra2zgyynIjcCgZghAt6B2GQAgDdg3UJkLlBWgsGuyuDCE6zW7D3NLGjRuLioqsrDpn98rLy1++yOzaiJhTroOS4UUIRHsbp6Gy9s2rMmZVXTsHbdCKECHIJCGGL+1t7DZxa7ax29p7OVovPKsk/qsTnyKZTL52rfN6SMXFxRFnjvPfiJiTkoOS4UX0QjuH01DJ6I9V4lQ+DvEhE+TxBHm8w+7zTys5wKbFbcAbh2Sy39epTPAibIitZPfWDgBwKjMv7LbDmiK4BlzIpInHs/HZPcSAQSYJMUxoy4ree+rvcu688Rb684v7gxLfilCS9epicERGSUuHK2pnV2fG7A5OftvXF1M/rJL4r07Yijo6Ol2DQ73QKcjUP8SclET72g492gW3Si3U81vdns9IpteyW6pKA4nn3A5dq2jtXEvdKbzlqKt67yNS6jKP+rmkah8ormK31LUW+0mc998VXypCm8R+dth43uGnLP66hxACyCQhhgkjSIqNkStc14fdKWAxC+6FrnWz/+WtjraMCCXx8kqMqCVu/seTSpiMkjtHv3N0/PWNBlmGv0+NQFZJ/FcnbEUtLS1jY2NBzmjvPSrHF0JoYgjLIfhFIKvErq+pN6FMMZDFAUhqUNw8TV78ncddn6Ih96yv4eqLudQ4L8KG2MoWWtwG8urAzQ7j8IRxdoEJVOaHxjnU+B0hJuePfmWpLgkAOPUZWwLtbp66W8BppT0+6aUrjyfIk1cfT6Y2QGWCF8HaK3CTHUEeT3DdcZfGgbLY1ZM/tLwzlcYBYObFBrp+FJT6EPSy9gq5HfvLjq2FD7Zaux+Ou9ARSeKtcCSFymylxW3A664J2OKKJ8jjHQ6kVnbxfwhBQCYJMUzA6TgEXYnfZfD3FktjXWOfJPXvkm/8uspMlCaJoDl3f8StHWMz/Kfrqk33uq22KTHmt6/GywryqWmrh7oUaC7vo5r4r07Mim1ZZ7edfFDKeu8xWqoyI7fsTKzkqaKjo+O5+puem+hvYK+fiFkOMXAwq1TLfNv71hzEcTPtW30sJR12h8clxN5gzY2/HTwTixE2vo7dax9pfCnky3FyEtwTaHfqxoc+YTcl+1Yf8ruS/94lcZjlRdm2ZkYftpLFkWbuKr2+fGzlrV2Lk0xiStgtZcmUV17fx1HbAKCmBDcvoqkwaVPNgfNP3mAtl8o5XnhRc8sj76drGW/fpAb/lOlworWljk3foXI+ICStnHp+q3WCaRy9trVoO/5I0N+Tvz2oN/3gw+iNVgoAANBaEX/ILcE0jl7Lpp+mZO/r6B6NLuF4orUqYTP1j/MZooy2/wdAJgkxfGCzGNVv3lapTZykJybF9lYWo6rqDUtn0uT+bDs+YiTIfQbqK0FKq+/K4r86cSqOIKmwIufPXnfkdj6TmX/7sDdl2hGarhbv6pNaWloTTC16bmJggT2BEbMcQggQFWTUjMhy6oq91sLJmn+T0lL2KnCqAgCH+r+per7huQ0AAIXBSzz/mvuNs9nHP4Q0PNwXjpMDHNnJZ2FBWu6bPnrBfvN3Srjt8mXm8gBy4+bOsU/KzK58B6Dv6DpVAydvZGkGD4sq2AAAel/M+VydQDIyswdqYXHu05jLB+YYSRLk8cq2W9PeVjKKs9PyHDwczGRxOE2nk6/vBc8a9bHW20fxj+2/WWAhiwNZw7nOZklpOZUAoDfLdboGjqQ31Rb+KqxCvn4goA88YpjQlhfz9bwVkbAk6vbV67fPuzaGL7D3+f0Jv3tb9IfmwsvfLVlyETzOR12/ExXl1nxyscuq314w+RhygNkjDS8gTYYRfGykJf6rE7Zienp6eHh4j4dxOvN/uZr+o8ED3ykKCkbuieqBj/4872MuK4CCMAJ7Q1cOMSAwe6RAVpUYKdFX3bLY1fMC7rYazJzn6uK00P9InF9R8I18NgBoeJ28tLDwePyz7j/jnMZ6RtOHpzhZrTEmd57l1PMm4C58YXw0412/r8PlZPZbdksdu6WO3fI83GV0vxtCCAv0gUcMF96B0c7Yy0c8rUZLEUdPXXUkInGHTk11swgV21pg4ubEK/tXTdckympardl/OXbzmPqq5l6HpQhqjzoQ/9WJW7Gdzap5+4b2Vs3cvPvAVUNDQ3VVr7/SBxjYExQxyyH6hSD2CEPVhKLyc9BJbLAOp/Lv2D+ZM/RUcABA1DOdv8RXL3rL789496OhRcanVLQCM+fq+RQTyjhuMAc3dubaOSn7D0ZnVrYCcJjUhMD1p7SDlzhNtnC4c+tmbgNAQ+7NW3+tspumzsdXwUgdczdaREI2EzjM3IteuivDqXImFMOkyKRnTA6nIsFbd0ZA6hsAZnU992OqakLRTY5Py2VygJl3M57q5WymzucLh+APZJIQwwSJCW7b3I0VuN81I+UnLNm1ba4opxvJGLt/5zxB+f1X7wgJhUnOP2yzU+nhu7if9ggABuPqxKzYlhu5/Iv54eB1PfneveTr7o2hdraLjz3hvRVlZWUdDgrouYkBBPb6g5jlEAIjuD3CIBisOPhoRdN+HVU8QV7S6g/Fb47ucyZ33Atx5AWb1kiGXEoq/fB7QcOWkL5yIl7ZNUJjU8gi/Q93TRzZ9fDpHQavtuio4gmKCg7XVbad/sWFjDdwCTmqFmGqjSdo26dNitw7R5OvDqrM+HafU7avAkFRwfSy+tHAxQbyBosCL09NnqasKDnmR7b/QT87S3M3+HnOisMZjI5rWRQYonF5grIiXvmrtMk7P1wIQkiMaG8X+WyNgoICaWlpNTU1UQshhjXZBVUFFQ2WE3X73UJhaTWzgTXXht9lrweuyKhvvP+syGfBRGDlgrReL97oZnqRrJyMHrnzrh38M5hXxwfp6eldV9z+QFt2xA8vTb9zM1XEXqJ3tS+uBsUobN0zV5WnheDg4LALnddPeg/rVfQp6gTPeR22tb2N8eLG4T9lvtvMta0Cdbi6lnU1rdBpxgTxyCG6wm6u4bxjSEqP6rvqx7Q2tkiMxAvojfoHmxa3aUbhyn/9zdBs+8GF3cLgcDiSsuRujxYWFpJIpFGjBH4v9Qn6f0cghIHMuMHuwSBjY2NjY2PT42EJE889JjzPRyqafnnIVCAFGWP373jWGMACe5ME7OaQlUMIgKQ0YbC7gPivgEwSAoEYEigqKlJs5w52LxAIXvAaLkfzBrsTiEEEmSQEYoiScjtRZ4yevoHRJ6zIi7GxcZtk/9ORCAQCIXSQSUIghgoVZaVWk8d2LS+pFtWauUJULC8vr6+vF3DRbQQCgRjSoIHwiGFGPjUnPjY6n5qDPY2Pjd6+2VfUohVlpZj0xfOnUm4nNjc19XlKP9DUJt95+MLTa23G84KS6tbwi3F3Hr4QnUMSrmJxcXFGRobQe4hAIBCDCDJJiOFEbQ1907drfb09U24lhoUeqSgrdXZ1jwj/XaSi8bHR69d4hIUesbU2TUtNznycEXM5UkRa+gZGu/b9nBB3OeV2IovFlCaKctuVQVLsiVevXv0ZHz1Y6ggEAtEVZJIQwwk6verpk4zo+GQfX/+VX627e+fWi+dPRapYUVZ6Jiz0xKnISeZTHJ3cjp4I3xK4T1iNp9xO7FooRST6+PqrqqmfCQttbBLymtviV+xKaWkpAOTk5Jw8eTIxMbHpfViutrY27c5NIMSitwAAIABJREFUfloQT2APY1AilwgEYoiATBJiOKGtrePo5DbZzBIApIjEZSvWZL8QrUlSUu4YSmxlQ9m0fY8UkQgAZaUltTX0gTeekpQYFnqk26ZMJ5vH3UwT+hhq0Snq6OhYWVn1WS0qKmrp0qWHDx82MTFJSkp6+PBhRESEQELiDOwNSuQS0SeslpY2DlrVEyEO0MBtxJAmPjYaAKZYWmtqkwFAikjctH3PudO/uS9bqaikDADLVqyRlSOJTlSKSDxxKvLVv1ma2mSugbCwtMLUB4iCgpIcieS1zPWL+S4rv1qHOTCRIjpFLS0tLa0+9vEtLS09duzYpUuXioqK3Nzczp07RyQST548yb8KN7BXUlKEBfakiMSL508NrO89wo1cWtlQmpuaYi5Hmpiai0gLwT9VzPrcqkoDFTUdJVUJHPqpjxAhyCQhhjQZ6Wl2Do68JfoGRp2iHc6u7iIV1dQmYxaNi91sxy4n9Qfvdd8pKim7Lfb4637ql65zvvXf9tnns0RqlcSvyIuKSkdYjkKhqKmpEYlEACgpKaHT6crKyhMnTtwYGNx7C7yBPRVVNd7AnlBsaye6Ri5FZ8gQAsFu5+RUVeZVvzVEVgkhStAbCzGkUVBQspvtqKlNjo+NxkaifHqiUkSi3WzHP2JvsVjMDeu94mOjRTrIRkSKDQ0N1dXVnQqjoqKioqKwQUgAQCQSL126lJWVBQBGRh1O19raWllZGQDk5ORUVLvZVSA+Npr7H8EN7AGA0AN73cphkUtugnLZijWhJwXLDyJERDtAWzsnp6oyKe9lYfUbvhNwHCY15fBqazxBHk8YZxf4R2ZlX9M5KxO8CBtiK9mC9pBTmXG0s1BZ7OoZXnFlgjb1nm5Pb62I270+rpQDHCY1LTzQFU+QxxPk8bo+h+Oe0YSRluRUJKz3Taj4T2Y4kUlCDGkYjBrswRRL6/VrPL72+lIMP+XFJnryt19fPH+aT8158fzp7ZsJMjKySioqvt6eX7rOEdF4ZNEpZmVlJSQkdCpMS0uTk5PjLSGTyY6OH8XhOj3tSkZ6moyMLPeppja5UyRPWIG9buX0DYx8fP15TZjQI5eIgSCoVeJU3PjeIbTa+RyjpY7ddO/AqFSX5Sczu923mP3ssPG8w09ZoO4U3nLUVV3AxAsn79yarf9QTjNa6thNd3fgolx236rgaLueuRfuoi1YU73rVNzafUrtK3stqLjxvcMveUY7Spvq2C21jCR3iN/geTST2XcbfYDTtFksf2Z3fOl/0CYhk4QY0igoKGE/4jW1yat9fCmz7JetWPMpic63t7K1Np1vb+Xr7em1zCUi/HdHJzebz2dmPs6ooXcOzAw7RSUlJUdHRzKZzBtP6omGhobqqjddy8Uc2BuU4CVigGBW6VVVZXLey9f0qp4r0u8dP1a252CQi6EsAODULX037iNcu/KkFqCV9vikl648niCPd9gXS6VlhuzYWvhgq7X74bgLXoQNsZUttLgNeN01AVtc8QR5vMOB1MpW4NBSd2JPNwWstjY88uxDuInDqinQpXw2VhYAcBozVriZ3HqWyyx5Hwpqpd09YEeQxxNcNweuIRuHZJYleBGsvQI3YYU77tI4H8WiXAPi8rqzOy0Ft6+VLXIwk31XcPtaod+OwOUWGjgAwMka2H2/f5NeSMhlKj3zyDysb+ynIYZYVIyZF9sRc3INuJBJ42CHZtg5uB9OSQjQXRlObQEADvXCF7r7UusVZ6xyKzt1t+C/55LQmCTEkIbBqPFa5mrz+UwLSytaeZndHGHGDAZdlMGoCdxzQI5Eir54fvxE080Be0UxsGYQFWtqOmJyNjY2S5cu1dTUdHBw8Pb27rZyVlbW4eDgsAvXuvYZe4AF9tQ1NEVqW8UshxAuWiQFdXnFno83MWgK9gu1PoQHcIZe128DANSnhSyOUD9byJ6Jzzzi7XKW+nLv/oMnd0Bk9EbNO17c+jS6hOOJ1h3UQFO/8xmLtBk/OGTYP6JfNau/4WNzEng3ccbrzfRummZiGrFpu6+lksRohxuv1XFQFgsAABxq1Oo5Tx0flqRMro9d5/4LYLs915Tg5kU0BeTsdHM4/+SbmTY5x7Ye1jhY0zId9/S3BW5/PLZd1fmCOMUPrpRM3qSMg6rstHpHXyNZnoM4TTNH2wuFDV0ThfTU4J8yHU60BmngmJmHXQNCyJd+IAFAq943h7+3k77nceynv4pXGugU/JWc7fGVBQmHA53J2acfFLgbGPy3dhdGJgkxpFFQUAKA0F8OYE+fZf7t6OymO0bfcJxxzOVIEd26xCbq7OpuZUMBAGwkdcDGbxYvXSHSkdSiU1RUVNTR0elUqKSkhA3KJpPJ3377bX19fU8OqRewwJ6ikjIW2GM21IvUsohZDiEsdOSV9NU0pPC93tQ4jYy37zoes58dnjhzayEAjFkedT3chRKcfTo1OT02rrkwu5QGdSyQ66YFvVmu0zVw+LaptrC18MWz7DwHj0AzWRxO1maZx+R7H1WVt/CPZq/NT01+xYBmaqirDnybHDId037zMjPJwSlksjzg5OyWfqGRhp2i7+g6VQNHAEszCCiqYDvNCrp+525aStwNTuGLPBqR0dglksNh1RSMVCFJAXSXK+e9Xl7YJU9jLh84dLnjOw7GLP+mCUgAMM3RSgMHOAuH6QVJlUwOPLhC89w0gQQA0nIqxOqaBjYAMkkIxJBBXl4h7mZabQ09N+dlWmpy+v27vt6e3KMiunuJTZTF7AifYyOpP/t81r5dm48dObDax3f2XCdRWCXRKRobG3fduK2mpmbBggWzZs2ytrYuKyubN29eP1oWczRxUIKXiIHAlz3CwCnrTmJFvyj/3twQhzfb+KpuI9BTA1ecB+BUJPjY/Mj283fWG6mkoQ40PsUl1RWkux+2UpngZfVsxYsds1z0AQDm68PEHdfzzPW4FdQUZHsf8MIpjfVx93u39KjzGJySuiHU9VqbqKDBSLyb42NuIQsAzPx7ebKfqeemZ5Ns5Lp9ZVxOZv/uxRMWYn9Ycg5HMp+5cN3dv110orOnbzHvJTL36YNMEmJI4+PrDwCKSspWNhQsBFJbQ79/LyUxPiYxIWa4i2Y+zkhJSlRQUGIwaniXKHz6JMN8itWhY78LfTFJMSsqKSkBQHBwx8T+R48eLVy4UF9ff/z48REREZ2iSjo6Op6rv+naiJijiYMSvET0DwHsUQeKlgsXtLodDpmw189SHQcN1Ljj+w+Vj47iMPOe3TTwjFu70Iz5d0h85fv6zOr6ZtDsqTV1E4ruxvi0XHt3rfJb5yOfgx/PQbVxFJOd+3/+3GjvLA1cK+3BrcQmY191SQAAwI+aYOGw4dbN3JleWqVXz/9Jg6XdNM8s+vsWeUPMyoWTmx6HXs+D7n7D4GSUxr7Lq28GUJ7xzbcXbfYHqe7w87AYxax+FrrcLvJfjU0Jhw2kqACFd7KLNujV331QCJqAH23uRtufkL3Y3wxy//h2zi1K0u/LeZuVVTcc+2fwdsk8jx8sSDgAgMaG6iYVw+791qfMf+6CEcMdRSVlZ1f32XOdlN4vutNvJPESNQ3NYhblBXMq5lOsbD6f6fv9NgtLKxaLOd7EFHjmtwsXMSsqKCg8ePCATqe/fPkyKSkpNTXVw8ODe7STSdLS0ppgKtm1ETFHEwcleIkQFMHtEQZO1tw7IiYmZOsMybRKgPHLg3fvCKs/DzjSlEX7yF9NU94OlA0nPWbP8Nm53Tl8hRs4zFmhEvVlD60RDRcFhlC3TlBeBxTvzbbjP5YyXHnqtMSx/WSiCwBoePwQErNpgSYbG3OHM3AJOVr0tam2N9h+v2mCRrfNk8xW7VGztx69FWw3h833pPy0eLvWgU51cDrTF42Ofk3ngDJOc94vSfKXz+4nE+8AAGh8GbTf9PSr3NzKqcbzPJaHrDMmnljqoacBAKA849t9/2z3VSD8C2C7OergYgMCPO3UrKG3z+vNgROwtXo5b4qfm9ivHvvfyrUBwIj29nZRaxQUFEhLS6upqYlaCDGsySuu+etlpd1UQzy+n5MuU/+mjlGXtTHtY91nLnUNzX/coX5uNkaBJN0/xeevSlvfvXOh6PdZ82Z6kaycjB75I48VHxvNf5KrsLSa2cCaazOGz75lF1QVVDRYTtTttyKjvvH+syKfBRP5qfzq1SsajWZra9t7NTqdnpycfPXq1ZiYGDa783jS7IIqJeW+B5LzBvZKqj8sciNQh6trWVfTCp1mTBCPHKIr7OYazjuGpHQ3i2MNE1qoZ9faPlz06Dcn9bepu5YHtwVeCp7J10wIDvXCPId/1qb/6KpOT929fgXn+5dBlP5tHcCpSPBZW/L1H+ssusnetdKe54PpeA2Bv1M59Xf3Tzg05k78cgMcANBTA9dctAwJcyEP1pR4dguDw+FIypK7PVpYWEgikUaNEv57CUWSEEOFMVry/xbX3H9aoKPRnxR4Ma2WzW6bbCiAF5eXk9JRk32UXaKrqThSQkJQRTqDWVnDcrLR7btqD4h/xR3RKdbW1l6/fn369OmSkt1Eg7goKysvWbLE2dlZVVW106HW1r7W9HuPiAJ7Q0QOMXwgjJ3rF0TdP5roCTB++c+//Ejhd64obqzD/h/yt4xRXQyg4XEo5kerfm+uhNOcs3dN0P7kcrNuHIykxuTx3Z3UO2Wxq+cvvjP95K3vDXAAAJyK9Mt1q/c6D5pDGkSQSUIMFUbiJebZjHlBraqq7c9G9GPUZSeMUZaWGinQWXOtx+QV1xSW17UIrkgi4j+j6Kkoygh+qhBIfVErLYkzHSNLJAhs70QBkUikUqkvX740MzPjp/Lx48c7FUZGRr74N//bTbukCHz9J0oRiT/+HMpbwma38d9hjOaWd/2Wa2rpbt4Q4r8ETt1iRVDsiqB+nbl8b8ryvcLohaSmy94TwmjoPdquZ57zhnlxmk4nQnus/WmDTBJiCDESL2FhrC5mUUMdJUMdJTGLDhx2W3v+25b8ty36aoShYJX09fUNDAyoVCo/JqkTDQ0N9+7di4mJsVvglZVXPtFQi0/jwgujvjG3uMpQW57P+iqKMlIjJXIKK4301Psnl1P0duKY4ffOQSAQ/INMEgIxNGlvY3Mk8H1bH+FZJX4Vu0VOTm779u0kUkfSoLy8/Ouvv8YeBwQE2NjYYI+dnJy4p3C3Mbl3715YWJiPj8/nM+z/fFSclJHXkwoR1wYATZzuO6mjJjt9Er8j0gDA5XO93uV6R0dN1nK8uD09AoEQJ8gkIRBDgLas6P2PdNcsnaqFJe9a6M+vhF4jrdvtxOcYK4Gt0oAVu6LCM2SHRCIFBARgj3kXmeQW8jJjxgwrKyvs9C/tx1X3nG+Vrs0DgEZFva6HRuIl5OWkBOqwvJxU73K90A85BAIx7EAmCYEYAowgKTZGrnC9//2BXZ5T4cnZfbv2vDQ5dFLQ4U68Vkk8ij0hJyfHjR7x0m2hnJwc7z64PQ7zansHRS8AQFrHBCQETpD1xGCNKkMgEEOf/+BYdQRi6IHTcQi6Er/L4O8tlsa6xj5J6t8l3/h1lVkvd++33ezH1EEF410dq68hzIIrDj5v86CdDe1seNvPBBni06C+vp5Or+H+ccubmpqwkq6rSyAQ/QNFkhCIoQGbxah+87ZKbeIktQI+qqvJ4bv6JOmRuCn6smRVKQCorhWy4iDT9g5oTwBb1432BNQMhRhMQgwvcnNz/7x5k/t0186d2IPXxcWXL18GAHMzs7lz5+IFXmoSgegMeg8hEEOAtryYrxduL5+5I+r2oknwIurnHxbY3wgMD1k7hc/QDq89Eo+iuMHCSBhYMEmj73UgEZ8kJiYmZmZmXT2QsZHR9oCAmzdvPn32zNraRlkZzT1EDBSUbkMghgLvwGhn7OUjnlajpYijp646EpG4Q6emmp89U6RH4ijGJFdrFQEc0sAUBwHeMBIAtLcD7Qm0oWWK/qMQicSeokR4PH7u3LnfrP9GXr771Rk5lc9ij/iQCfJ4gjxe1+dw3DMaRxR9LItdPcMrrkx47bAyj8wzPPIM5RHFDIokIRBDAIkJbtt44yIj5Scs2dVroEQCN0Lg6NHAFAcT3jASBgom/SdpampqbGzqPUSEx+N7qsCpTN21fE/5F7vu0H8zkAUmNTUseINn4ZFr/hZ9zXQYdGQs/G+gsXjiB0WSEIhhyaQxsoJHj4YnncJIGCiY9J/kdXHx8ROd12rnm5aCm5EPvzhyzN/OQBYHgJM1sPs+YI1kyI3H9RzgVD4OwSJM4+wCE6hMDrCfHTYeZ7cl0EtXHk8YZ7czlcYBAA6TmnJ4tTWeII8nuAbE5TGBw6QmBDiM6yi5kEnjsDKP+CyOfH5hyQTDI8/Y0ECN22fH2zKwMo/MwztsCsDacTiQWtkKfbST9uh9JIlTmXH0ow5AD11FCAFkkhCIYYky6T8zbLlrGAkDTXND9ED3E9w4xQ+u0B1nGvEGjXAGy/98vWsW6R31/Fa35zOS6bVseoIvnLENflAPAFB575ncioy3Nbc88n46e7OgBZjPwtbvy6acZrTUMh7a/70k6HJu9uXvd/79xUVGS11r0erqnbsuPgcL/7DLHpOXR73M85/wNm6v7XHJHcVV7Ka7O3DclgHSCiRWxLRWJWymhv908zWHk99rOxYdeR9O3rk1W//BOpC9Go77Bt2lQ7ddRQgDZJIQCMQQpu0dVGZ2DiNhtLdDZSYKJiG6cvzE8bq6+s6lHFZNgY6eJqGbE9j/xh987blizjhZHMgaLljlZhJ5N7OeAwB6X8z5XJ1AMjKzh+qaBjY7768wqt0KNyNZwMmaf5PScs5rnKnX9ecp/hMbnt6+llHUxZq9fRT/yjPQe5a6JOA0ZqxwM4l5TsUq6c1yna6BI+lNtSUW1LA4OMNe23nf0+c3g7Pfd8Bg9moPjYikl9ildupqv189BC/IJCEQiKGNgSMYuXz4A/jw2MBxsDuHECuyMjI21tb9PBknozS2uLCiuxBLY0N1k9lUo46N/3ByCuq0GkYjB2DMZ3qqPEN32VUlhYVEBZI0z62TQ0vd6YonTPS8SuumZXZV4cMHP8/RwxPk8QR5SRPfpMLCkmo2AID1GE3eUcG9t/O+UmM9o8nWzIiEdUBCVkGRRqtjAXTpKkI4IJOEQAxRUm4n5lNzPm3FvpEYCbIqH/0BfPQUrZb0X4JMJtvb2/fzZNwoU1vpxLs5TJ4yDvXCF7r7UtkyKkTqe//Eqc95lqynN1qlq+XAq47W02ti1Dd+GPLDfn7Z58LYy0VZKUErXe0nd97MDyejNNb24MMKdkvd+7+jrurdmJk+2nnfnDRJgfiwqKIjTlSX8/iZnom2qgCvAkIwkElCIIYKFWWlo1UkuX9ey1xsrU1Hq0h+SooIhBhYvHixtDSxS7G82Zdf6oXsD7qQyR2C/UvwqVa/eZZK+jO9ZY6GXstlcoCZc/V8iqH3Z+O6C8vgDT/zMUg5H5PDhFba3QN2hJXhJZJjsWOcysdnIyM+hIFaKxmNHJzO9EWko2F3KjgAzLzYQFeyT0JFd6OqcXKKvbXD2wHtq6ER/zKBw8y9dT5ylM9MPRRAEh3IJCEQQwVNbfKdhy88vdZmPC8oqW4Nvxh35+GLkurWT0kRgRADxkZGRGJXkwQ4TaewjB3GOfvJRHk8QVHBIRo8Tl/zt5AFeYu1+0M0Lk9QVsQrf5Vmsut/a826XxRA1sznxCb1SFcFgip5VZFj4s6lzi77/Bv8xqjiietiSLM2eNRs9TidyVab5vxZto+l0ZF/x6w4GDPh+jSiPF7Z0o/mGLN3jmZ3N17cWIde28lkd+6AosKceyanf/QxlxfeK4fozIj2bkdECpWCggJpaWk1tX5vLo5ADHtuphfJysnokVX6rNnc1HTu9G/6hkYsFnOKpbWmNhkrLyytZjaw5tqM4VMxu6CqoKLBcqJuvxUZ9Y33nxX5LJjIp6KYeHIKpqwZ7E4ghAC7uYbzjiEpPYr/U+rr6/+8+afeGL1uV9xGfMKwWxgcDkdSltzt0cLCQhKJNGqUAO8lPkGRJARi0Oh2AJAUkejj66+qpn4mLLSxiTXcFREIISIt/f/27j2+qfruA/jv5CQnSXOaay9pmgQobSnaIgJFQIZTBB0KWtzY8zjmvLP54uUcc1O2Z/PCEJ0P6FhfPsM52Rz4OLZBH5iKgIzbgCHXUplA24w0bXrJ9SQnOTkn5+T540ApbXqhNtd+36/+kSYn+f64NPn0d81BCH28c+cra9bs2bOn+/49e/a8vGqV+NXzyFsAviRI4gCkzLtv11ZWTf7avTU6vaHXQ5MmT6nbeSALKgIwgqRS6QOLH3A6nUGaJlVXjxmcMGFCsdks3o43GwmAYYKeJABSRqvVP7/iqZvKi777yH9s37al/vRJJhwWH0rQKrPkVwRgZEmlUovFMrGiwmK5OvIi3iN+xZ2NBMDwQE8SACnj83k2vl/XeOGLj/9Wt/yJpeKdy3/wfMUNlR9t3/qbjR9kQUUAAMhcEJIASJkfrXxJpzfMnb9g2fIV27dtcbY6/H5f7RuvZlNFAADIXBCSAEiZXhOD5t61oLSs4ukVKy+c/9cHm9/NjooAAJC5ICQBkDIbatctefA7YnBRqS5vy6JQKidNnhIKBQd8aioqHn8nEU0C4MuIMpFoJCyVK6WKeIeyAfDlQEgCIGUuXWp+fc0Li2qWTKi4kaavySgzZs1Ju4qwOxFIG4F2Z8BmC7c6et5Jji3JMRfnGotS1SqQfZIRkgiCCF9ZQQMA6KbV6mvfeHXTxrfFb19d9xZCyGweo1AqP9310dz5I396a/IrAjCy2CDtPHwwSlG5xeaCqklSgiCUSiYY5NkI46c6Dx305+cXTJ1OkKrBXwtkC47jcBxPxCsnKSQxDJOEQgBknKOnm+x2W3PjhS3vv/f8iqfEO5c+8uS5s/UJiizJrwjASAm0OzsPHVQY8ozTZ0iJq2cbK0gSIVKlN2iKza6mxta9e/KmT4cupdGD47gEbf2QjJCE4ziEJAD6euJ739fpDSazZcasOQ8+9Hibo8Vut505eXz1i89nTUUARgrj93UeOphbbDaM6/dwHikhM06c6LbZOg8dlN99D/QnjQYsyyKEEtSTlIzNJJVKpSDEO/UYgNGt11ozMbssW77i6OmmKdNmZEdFAEaEwEfbD+xXGY1xExLH882O1r3Hjm2sq1v923fauKjCkOc8fFDgo/Feq2XbspnSe/94caQ+l9p3PCJ/Zlt7vFoDCzbuWbfMItdI5RrpvBfeO9kOn5TDwHEchmEKhSIRL56MkCQ2nabhTCgAhsRktmx8f1t2VwTgulD/vhSLxfQlJX0fCkWYTTt27D/+Wb5Wd9u06scW12jV6vwJ5QLDUHZ73+uFpn1v//4c2r3nUFMEIYQQfWLdPeXrTkWv3hia6Km1E+9Ze5JGxoUbI2/WGK9zZEZo2fbDx9a4793r9kYjXS2vmP+++Ok3Tvrjlzq5vnzi+hPXH8NGA5qmZTLZ4NcNSzJCEo7jMC0JgOvS92y17KsIRjlMggsCN8SLfecaNBYLLokzpHL0TH2BwbB04cKq8rISc7HRYLAYC3EJnltk8l+80OfySNM/9jQ8u+FPzzo37WgIIhQ9+bv/XHmoeeVXFXLTLSsPNa/86g3rTkVR4GLdy3PlGql8wtyffnCiPeSse0Y69vGVP66RyjXSea/+vd17Yv1/Pdd86LmZS9bW/VHsSRLaj7756EypXCMdu2ztp41BFO3zLPZKMwTqwManWx//zaqFZaQEIaKo+qGfvKh8869nKISuvo68ZmXdhWD01K++9bPm5p/dUrX+RLRXw9g+f8DsJPARTBp/1lE4HE7cWTRJOrtNqVTCAjcAAADdMJxAQ5uJwQZpPhJRGfLjPnrkTP3UG26Q9ZmSosrLi1JUlIlcc69w6dBfnEvnzat5+NvE+g8/owTplMf+d83skjX7mEjbP9fMLlmz79yKm0L71j994iubwv5o5NgvDVvv//URP0LI6cYXvMV27fjRxQ/eO0pPffoXr5XMfu3Ilh/O0CKEEN/yfy88t6Oy1hfx+j65reGxVX++GEG9n9XZ3Q7a51HeUTnu6oewvOzhP7SsnqNG7v2/fm5t0WueiNd35M5jz3zwWeim729eVVKy6p9nl5cd6tWwo9RQ/gYzX0wQsH4SC8MwJEkmqG6SQhJJkjDcBsD1iPFRPtsrglENk8gRhgl8ZNArBZ5DCPVcztbN7fcjhNTxJmgTSiVCKBrp+fu5EDy9e1PD7PlTdJLxtyypPLTrpDdewfDFk4d3//J+i1IjlVtvWfmJ0+mnEUIlt9fMLpKoS6bfgf7R3NV77Kv91Pbf37z8wZtIJCEnzFl0x78PfN6F+n0WH/R1l6ZPrLtHKs5MenSHExluX/23vfMCn9Z9+Mm++gtOjy/UHSX7aVi2iyEhJnASWZzuIpZlOY7LhpDEcRyMuAEQH392y0vvHGvtfruLuE+//4vVH3UO9JxMqwjAtTBMgiSEEB18kIHxeAiNdoALcuRDnLTr/eyvW/Y7187L10mV1U/s/uem3Z/30xNDzNvwGRvxR8WvdxeZhlZgyGSFY8eH9zbYBISQauqKD6MRr+eTHxYhcV75/DveaxIQkuiN5YM0bOFo2OdAiEYQhmGSOJuq0zSN43iCZm2jpIUkhUJBEAR0JgEQH6bWhTY/VPPUhr1NdLBpf+2Ti+98o3OMOYHLl5NfEYA+cELNc4OHJFypjIZDcR/q8njLx4wZaj3q812bx/62oVNMGGxDbeXmfScoASEUdgfEAmF3IISUZVNubti8+1RQQMFzGx+97Wu/v9DPuGDQRV355d9YMWfeqe07LwSREDx/YPuR6kXTC/pvikQ97Z5nIu+8UnvUKSCEhODFD9es3uxECAVtxz6xPLP8Ow8sqjZT7VcnVYV9VEjhGIzYAAAMHElEQVQ+5IZlFZ6jMVyJYXESC0VRubm5iSudpJCEECJJ0uuN27EJwKgnGTNv9V+2/7zs2I+rJ46duGy38ft7PvzVwzcnMLIkvyIAfeAyVUyIxoRBVm3JlEqBZXmh93Cw2+8/cub01BtuiPusKNtrVrhAndy3qfLO2eMvd0hcGXFjyqbcgv574bR1X4y7fONMzpwnty6sv9+gkxpqNhU9u/7rpXE+LKXWKYvR63c9tPaoDyGE8NJvvPGscXONVq7T3rX/pveevc9EDPSnIqf+4I/rbu94zaLUSOW6iWvsc3/6k28jhNQ3P/xiwZszrVLl97aqpy+d8/E3fvJxV+nkB9Daebe8dXHWEBqWdYRoWCqP05XI8zxFUWq1OnGlsVgslrhX74miKJvNVl5eThAD/r8BIBvtPGwjc1Ullrx+r2Dsxz54fdULu4VS1ETe98pLKxZNLuy5pLi5xRUM0HfP6ncbvV4amrqa2gLVVWOHXdFHhQ6esi27r2qIFQEYBoZqlkhwQtn/jwZCAh+1bdtaUDUpR6Oh6BAX5fyB4L/bWo+cqb/r1lnT+glJtMfdde7c+K8vSUzDQZLwXJBjfHJNWd+eJK/X29raWllZmaCdJFEye5LUajWO44FAIGkVAcgY/IWt373noc3om3/a9de/7XqvJrTxvjuXvX08gePTya8IQDwyRb7AhQbuTJLgUnLceKqtDSF0/POG32z584lz59Qk+d0l3+gvISGE/K1t6gkVI99ikFxcxCchtP2NtWm12sQlJJScY0m66fV6l8tlMMB2LAD0wqGKn217s2aiVoYQmv7wuk3VW3+1w8UglLDxr+RXBCAOnMjlGDnHeImc+Cv8RZrS8a27d4X8/jumT79j+vRBXzbQ1cn6fYUzbx25loIUiEZ8CElkCn3fh1iWDQQCVqs1oQ1IakjKy8vr6uqiaVqlgvdhAHrAb1z8/I09vpdpbvzmz2/s9/KMrAhAP2TKQi5o56NhvJ/dAhFCCo1WWznJdf4LY9UkYrCdA9lw2H3+vLZyEpzdltFiQjTKBqSKAkwSZ/cHn8+H47hOp0toG5I65YsgCJIkOzo6klkUAABAOsNlKolcz4W7Bh50M1RUyDTa9rP1IX/8sztEtMfdfrZePaHCUAFjbRkshgQ21IXhSmm8biSEkMvlys8fqPdxRCR7XrzRaAyFQrBhEgAAgG4yZT6G57ChrhgaaEm7afbs3HHjO8/Wu202ts8pDkww2NV4sevcudxx4/OrJiWyvSDhuLAnhmJETvx9oLxebywWy8sbaL7/iEjqcBtCSKVSiZ1JY4a+swUAAICshmESIqcoErSzwQ6CLOzvAAoJLs2rqsopMno+b2g7cVyqUkkVl4fe2AAlsKzSZC6eN18x4M6TIP2xYZcQDRO5YzA8/nL4zs5OnU6X0CnbomSHJISQ0WhsbGyEmUkAAAC6YTghJ62D5iSEUE5efs5tt7NBmvF6hOjlzZBypTKFTg+TkLKAmJBkOcUSPP7kM7fbHY1GCwsLk9CYFISk7s6kkpKS5FcHIM21OVpMZkvjxS+OHTlUaDTd+pXbFQk74LqXT3d9NGZcSWkZzOQAqXFNTlLmYXic6brdCFIFkSjLxJDAhdwCz8hyinEi/j7aPM93dHQUFhYmZ8/FFIQkdKUzKdEbZQKQcbZv2/Luhtqv3Xv/6hefX7BwcUlpeUd724MPPZ6gcm2OlhmTx/e93+5iE1QRgIFhOCHPHcPSzkjIKZNrcQI+I0YLgY+w4S6EcHluSX+jbAihzs5ODMOSMBtJlJoNzVUqlV6vdzgcPA+njgNwWZuj5d0NtW+9s/mmKdMWLFz85lsbf/zTlxNa0WS27D1Sv/SRJ4+ebrK72I3v1+09Ug8JCaQWJpERpBlX5HMRPxvqEPhIqlsEEismRNmwi6U7JDgpVw+UkBiGcbvdxcXFSZiNJEpNTxJCyGQy+f1+p9NpNptT1QYA0orecPl3oxmz5uTlF4ijbI4Wu9fj1ukTtQVraVnFz19+/Q+/+5/S8gqaDuYoYfwCpB6GSWSKPFymioqfnVI5TqgH2EUJZKgYz3GsX+BCCJfLSCsuG+T9x+FwkCSZ6L2RekrZ0Xg4jlutVp/PR1FUqtoAQGpt37Zl+7YtbY4W8VuFUvnWO5v/de4sQqh7YtDU6hkjmJB6Veyuu2z5ivwC47sbakNhOJgEpAsJriRIC6EeizCCC7uYgJ0Nu3guCH1LGS3GczwX5BgPE3REQu2xGJKpzAp1yaAJyel0chxnsViS005RynqSEEJqtVocdCstLYVTb8EodPTwgbnzFvS8x2S2mMzXvAXMnb8AjZy+FbtNmjylbueBEawFwIiQ4EqCNMcEToiGeI7mIhSK8ShZR7ODkYdhCGESaY5Uno/LyAEG13qiaVocaEtyWkhlSEIImUymcDhst9tLS0tT2xIAkk+r1YsZaPu2LdOqZ/aKR9lREYARgUlkOKHBCQ1CKBYTYgJ0JmUqDJPGPWZkACzLXrp0SavVJm2+drcUhyRx0K2xsdHhcMDkJDDa+Hwe8ca06plPPf4tY5Fpzu13Jm4tW0oqAjDiMEyC9bODDsg+PM/b7Xa5XJ6SkJDikIQQUigUVqvVZrMRBFFQUJDq5gCQPFqtXpyUbTJbHl22PBigEp1Xkl8RAAC+DIfDwXFcaWlp0la09ZT6kIQQUqvVVqvVbrfLZLJkzloHILV8Ps8jD9bM+spXp1bPcLY65t41ktOP0qQiAAAMm8PhoGm6rKxMoVCkpAFpEZIQQjqdLhwOt7a2irdT3RwAkkGr1SOEat94Vfz21IljCxYtHjuutHzCxK1/3pyIPp7kVwQAgOFxOBw+n89qtaYqIaH0CUkIIZPJxPM85CQwemg02rqdB7we9/kvPj/w9z2HD+5b/sTS7kcTEVmSXxEAAIahOyGlNg9gsTRbSNnS0uLxeIqKigyGRO2eB0Dy7TxsI3NVJZZBlmZ4Pe6D+z/9aPvWj3Zs7bXzdXOLKxig7541bogVG5q6mtoC1VVjh13RR4UOnrItu69qiBUBAGBEpElCQmnVkySyWCwkSdrt9nA4DOvdwGij0xsW1SyZf/dCfbJWuia/IgAA9IfneZvNJs7UVqlSfwBAynbcHoBOp7NarYFAoLm5GQ53A9lBTRJuX3CIFyuUylder+11Z5hh5cR1LO4gpLgnwHyZigGaUchSsJwEADA6MQzT2NgoCEKaJCSUniEJIaTT6UpLS6PR6Pnz52kazkkAGc+UR7Z7aB8VGt7TfVTI0UWNM2mG/hRzYS7L8c0truFVZCJcY4u7zHwdFQEAYNjcbndjY6NcLi8vL0/hTO1e0m5OUk88z4sDkwaDoaCgICV7JAAwUo7Ut9bbPKSSIJXXt9tsMMwFw2zlOP2tk4qv64m2Vv+u43ZChutzr+8dh40KHips1CkXzBonk8LPHQAggcTP+kAgYDQaCwsLU92ca6R1SBK5XK729naJRGI2m9Ok/w2A4fEHmA5PiI1e9yCypSBXc51BRxRiuE5PKBhmB7/0WkZ9Tp4OftwAAInldrs7OjqkUqnVak3Dj/gMCEkIIZZlxZiZm5tbVFQEp+ECAAAAGY2m6Y6OjlAolJ+fX1hYmJ6DRZkRkkQURbW2tkYiEZ1OV1BQAFEJAAAAyDgsyzqdzkAgQJJkcXFx+sxA6iuTQpLI6/W2t7dDVAIAAAAyS3fvEUmSRqMxDcfXesm8kCQSoxLLsjk5OTqdLuX7TQEAAAAgLp7nfT6fy+XiOC5T4pEoU0OSiKIor9fr8/kkEon6ilQ3CgAAAACI53mKoiiKCgQCOI5rNJr8/Px0HlzrK7NDkojnea/X6/F4wuEwQignJ4ckSZVKlSlBFQAAAMgOPM/TVzAMg2GYRqMRuzDSc2r2wLIhJHUTQ2swGAwGgyzLIoRkMplMJiNJEiGkUCgy8V8IAAAASFssy3Icx/N8OBxmGEYQBAzDFAoFSZIkSWb68E5WhaSeeJ5nGCYYDIr/cggh2LkbAAAAGFkSiUSpVCKESJLEcVypVGbTME7WhiQAAAAAgC8jTc9uAwAAAABILQhJAAAAAABxQEgCAAAAAIgDQhIAAAAAQBwQkgAAAAAA4oCQBAAAAAAQB4QkAAAAAIA4/h/nd0CBxDd6oAAAAABJRU5ErkJggg==)\n",
        "\n",
        "The implementation of the Attention U-Net has been taken from this [repository](https://github.com/bnsreenu/python_for_microscopists/blob/master/224_225_226_models.py). The author of this repository has also made a very clear explanation of the attention U-Net in this [video](https://www.youtube.com/watch?v=KOF38xAvo8I&t=154s).\n",
        "\n",
        "Some modifications on the architecture have been made. For example, we use three downsampling-upsampling blocks instead of four.\n",
        "\n",
        "We use the same strategy explained before: single-branch attention U-Net. Single branch/decoder, producing only the fashion MNIST image, while the other MNIST image is simply computed by subtracting the fashion MNIST image from the input. Input: $32*32*1$. Output: $32*64*1$.\n",
        "\n",
        "*Remark: the single-branch attention U-Net produces directly the fashion MNIST image and not the MNIST image because the network performs better in this way, as said before.*"
      ]
    },
    {
      "cell_type": "code",
      "execution_count": 7,
      "metadata": {
        "id": "P6E5CgMxb4nr"
      },
      "outputs": [],
      "source": [
        "import tensorflow as tf\n",
        "from tensorflow.keras import models, layers, regularizers\n",
        "from tensorflow.keras import backend as K"
      ]
    },
    {
      "cell_type": "markdown",
      "metadata": {},
      "source": [
        "### Insights\n",
        "In the next sections, the final best model and the final best training are shown. For finding this best path, several decisions and hyperparameters tuning have been carried out. Let's point out some of these choices.\n",
        "- Initial number of channels. (The best one is $64$).\n",
        "- Number of downsampling-upsampling floors. (The best one is $3$).\n",
        "- Batch size and number of steps per epoch.\n",
        "- Max Pooling vs strided convolution for downsampling. (Max pooling is better).\n",
        "- Transposed convolution vs interpolation for upsampling. (Interpolation is better).\n",
        "- Usage of batch normalization, different activation functions, dropout, ... . (Batch normalization improves the situation, relu is the best activation function, dropout does not improve the situation, ...).\n",
        "- Two branches-decoders vs one single branch-decoder. (One single decoder is better)."
      ]
    },
    {
      "cell_type": "markdown",
      "metadata": {
        "id": "m1RZi25Misjs"
      },
      "source": [
        "### Functions for building the model"
      ]
    },
    {
      "cell_type": "code",
      "execution_count": 8,
      "metadata": {
        "id": "nRg2PJG7NdNY"
      },
      "outputs": [],
      "source": [
        "def conv_block(x, filter_size, size, dropout, batch_norm=False):\n",
        "    \"\"\"Build a convolutional block and return its output.\n",
        "\n",
        "    A convolutional block consists in a sequence of convolutional layers. It is the basic unit for building the U-Net.\n",
        "\n",
        "    Parameters\n",
        "    ----------\n",
        "    x : tf.Tensor\n",
        "        Input\n",
        "    filter_size : int\n",
        "        Size of the filters in the convolutional layers\n",
        "    size : int\n",
        "        Number of filters in the convolutional layers\n",
        "    dropout : float\n",
        "        Amount of dropout\n",
        "    batch_norm : bool, optional\n",
        "        Whether to use or not Batch Normalization, by default False\n",
        "\n",
        "    Returns\n",
        "    -------\n",
        "    tf.Tensor\n",
        "        Output of the convolutional block\n",
        "        \n",
        "    \"\"\"    \n",
        "    conv = layers.Conv2D(size, (filter_size, filter_size), padding=\"same\")(x)\n",
        "    if batch_norm is True:\n",
        "        conv = layers.BatchNormalization(axis=3)(conv)\n",
        "    conv = layers.Activation(\"relu\")(conv)\n",
        "\n",
        "    conv = layers.Conv2D(size, (filter_size, filter_size), padding=\"same\")(conv)\n",
        "    if batch_norm is True:\n",
        "        conv = layers.BatchNormalization(axis=3)(conv)\n",
        "    conv = layers.Activation(\"relu\")(conv)\n",
        "    \n",
        "    if dropout > 0:\n",
        "        conv = layers.Dropout(dropout)(conv)\n",
        "\n",
        "    return conv"
      ]
    },
    {
      "cell_type": "code",
      "execution_count": 9,
      "metadata": {
        "id": "7S9WUyEXRu3z"
      },
      "outputs": [],
      "source": [
        "def repeat_elem(tensor, rep):\n",
        "     \"\"\"Lambda function to repeat the elements of a tensor along an axis by a factor of `rep`.\n",
        "\n",
        "     If tensor has shape (None, 256,256,3), lambda will return a tensor of shape (None, 256,256,6), if specified axis=3 and \n",
        "     rep=2.\n",
        "\n",
        "     Parameters\n",
        "     ----------\n",
        "     tensor : tf.Tensor\n",
        "     rep : int\n",
        "\n",
        "     Returns\n",
        "     -------\n",
        "     tf.Tensor\n",
        "\n",
        "     \"\"\"\n",
        "     return layers.Lambda(lambda x, repnum: K.repeat_elements(x, repnum, axis=3),\n",
        "                          arguments={'repnum': rep})(tensor)"
      ]
    },
    {
      "cell_type": "code",
      "execution_count": 10,
      "metadata": {
        "id": "f33ouqdxde-v"
      },
      "outputs": [],
      "source": [
        "def gating_signal(input, out_size, batch_norm=False):\n",
        "    \"\"\"Resize the given tensor in order to have `out_size` channels, and same spatial dimensions.\n",
        "\n",
        "    This is applied for applying the attention mechanism in an upsampling block, for making the channels dimension of the gating \n",
        "    signal (i.e. output of the previous block) equal to the channels dimension of the skip connection\n",
        "\n",
        "    Parameters\n",
        "    ----------\n",
        "    input : tf.Tensor\n",
        "        Given tensor\n",
        "    out_size :int\n",
        "        Number of channels\n",
        "    batch_norm : bool, optional\n",
        "        Whether to use or not Batch Normalization, by default False\n",
        "\n",
        "    Returns\n",
        "    -------\n",
        "    tf.Tensor\n",
        "    \n",
        "    \"\"\"\n",
        "    x = layers.Conv2D(out_size, (1, 1), padding='same')(input)\n",
        "    if batch_norm:\n",
        "        x = layers.BatchNormalization()(x)\n",
        "    x = layers.Activation('relu')(x)\n",
        "    return x"
      ]
    },
    {
      "cell_type": "code",
      "execution_count": 11,
      "metadata": {
        "id": "zA1ZAIHcgCSf"
      },
      "outputs": [],
      "source": [
        "def attention_block(x, gating, inter_shape):\n",
        "    \"\"\"Build an attention block and return its output.\n",
        "\n",
        "    Parameters\n",
        "    ----------\n",
        "    x : tf.Tensor\n",
        "        Tensor on which apply the attention mechanism. In our case, it is the skip connection.\n",
        "    gating : tf.Tensor\n",
        "        Tensor used for applying the attention. In our case, it is the output of the previous upsample block.\n",
        "    inter_shape : int\n",
        "        Number of channels in the attention block\n",
        "\n",
        "    Notes\n",
        "    ----------\n",
        "    It is assumed that the `gating` has already same channels dimension of `x`, thanks to the application of the function ``\n",
        "\n",
        "    \"\"\"\n",
        "    shape_x = K.int_shape(x)\n",
        "    shape_g = K.int_shape(gating)\n",
        "\n",
        "    # Getting the x signal to the same shape as the gating signal\n",
        "    theta_x = layers.Conv2D(inter_shape, (2, 2), strides=(2, 2), padding='same')(x)  # 16\n",
        "    shape_theta_x = K.int_shape(theta_x)\n",
        "\n",
        "    # Getting the gating signal to the same number of filters as the inter_shape\n",
        "    phi_g = layers.Conv2D(inter_shape, (1, 1), padding='same')(gating)\n",
        "    upsample_g = layers.Conv2DTranspose(inter_shape, (3, 3),\n",
        "                                 strides=(shape_theta_x[1] // shape_g[1], shape_theta_x[2] // shape_g[2]),\n",
        "                                 padding='same')(phi_g)  # 16\n",
        "\n",
        "    concat_xg = layers.add([upsample_g, theta_x])\n",
        "    act_xg = layers.Activation('relu')(concat_xg)\n",
        "    psi = layers.Conv2D(1, (1, 1), padding='same')(act_xg)\n",
        "    sigmoid_xg = layers.Activation('sigmoid')(psi)\n",
        "    shape_sigmoid = K.int_shape(sigmoid_xg)\n",
        "    upsample_psi = layers.UpSampling2D(size=(shape_x[1] // shape_sigmoid[1], shape_x[2] // shape_sigmoid[2]))(sigmoid_xg)  # 32\n",
        "\n",
        "    upsample_psi = repeat_elem(upsample_psi, shape_x[3])\n",
        "\n",
        "    y = layers.multiply([upsample_psi, x])\n",
        "\n",
        "    result = layers.Conv2D(shape_x[3], (1, 1), padding='same')(y)\n",
        "    result_bn = layers.BatchNormalization()(result)\n",
        "    return result_bn"
      ]
    },
    {
      "cell_type": "code",
      "execution_count": 12,
      "metadata": {
        "id": "oJssK3y9Ru6U"
      },
      "outputs": [],
      "source": [
        "def Attention_UNet(input_shape, NUM_CLASSES=1, dropout_rate=0.0, batch_norm=True):\n",
        "    \"\"\"Build and return the attention U-Net.\n",
        "\n",
        "    Parameters\n",
        "    ----------\n",
        "    input_shape : tuple\n",
        "        Tuple of the form (h, w, c): height, width, number of channels.\n",
        "    NUM_CLASSES : int, optional\n",
        "        Number of classes, by default 1\n",
        "    dropout_rate : float, optional\n",
        "        Amount of dropout, by default 0.0\n",
        "    batch_norm : bool, optional\n",
        "        Whether to use or not Batch Normalization, by default False\n",
        "\n",
        "    Returns\n",
        "    -------\n",
        "    tf.Model\n",
        "\n",
        "    \"\"\"\n",
        "    # Network structure\n",
        "    FILTER_NUM = 64 # number of basic filters for the first layer\n",
        "    FILTER_SIZE = 3 # size of the convolutional filter\n",
        "    UP_SAMP_SIZE = 2 # size of upsampling filters\n",
        "    \n",
        "    inputs = layers.Input(input_shape, dtype=tf.float32)\n",
        "\n",
        "    # DOWNSAMPLING (i.e. ENCODER)\n",
        "    # Down 1\n",
        "    conv_128 = conv_block(inputs, FILTER_SIZE, FILTER_NUM, dropout_rate, batch_norm)\n",
        "    pool_64 = layers.MaxPooling2D(pool_size=(2,2))(conv_128)\n",
        "    # Down 2\n",
        "    conv_64 = conv_block(pool_64, FILTER_SIZE, 2*FILTER_NUM, dropout_rate, batch_norm)\n",
        "    pool_32 = layers.MaxPooling2D(pool_size=(2,2))(conv_64)\n",
        "    # Down 3\n",
        "    conv_32 = conv_block(pool_32, FILTER_SIZE, 4*FILTER_NUM, dropout_rate, batch_norm)\n",
        "    pool_16 = layers.MaxPooling2D(pool_size=(2,2))(conv_32)\n",
        "    # Encoding\n",
        "    conv_16 = conv_block(pool_16, FILTER_SIZE, 8*FILTER_NUM, dropout_rate, batch_norm)\n",
        "\n",
        "    # UPSAMPLING (i.e. DECODER)\n",
        "    # Up 1\n",
        "    gating_32 = gating_signal(conv_16, 4*FILTER_NUM, batch_norm)\n",
        "    att_32 = attention_block(conv_32, gating_32, 4*FILTER_NUM)\n",
        "    up_32 = layers.UpSampling2D(size=(UP_SAMP_SIZE, UP_SAMP_SIZE), data_format=\"channels_last\")(conv_16)  \n",
        "    up_32 = layers.concatenate([up_32, att_32], axis=3)\n",
        "    up_conv_32 = conv_block(up_32, FILTER_SIZE, 4*FILTER_NUM, dropout_rate, batch_norm)\n",
        "    # Up 2\n",
        "    gating_64 = gating_signal(up_conv_32, 2*FILTER_NUM, batch_norm)\n",
        "    att_64 = attention_block(conv_64, gating_64, 2*FILTER_NUM)\n",
        "    up_64 = layers.UpSampling2D(size=(UP_SAMP_SIZE, UP_SAMP_SIZE), data_format=\"channels_last\")(up_conv_32)\n",
        "    up_64 = layers.concatenate([up_64, att_64], axis=3)\n",
        "    up_conv_64 = conv_block(up_64, FILTER_SIZE, 2*FILTER_NUM, dropout_rate, batch_norm)\n",
        "    # Up 3\n",
        "    gating_128 = gating_signal(up_conv_64, FILTER_NUM, batch_norm)\n",
        "    att_128 = attention_block(conv_128, gating_128, FILTER_NUM)\n",
        "    up_128 = layers.UpSampling2D(size=(UP_SAMP_SIZE, UP_SAMP_SIZE), data_format=\"channels_last\")(up_conv_64)\n",
        "    up_128 = layers.concatenate([up_128, att_128], axis=3)\n",
        "    up_conv_128 = conv_block(up_128, FILTER_SIZE, FILTER_NUM, dropout_rate, batch_norm)\n",
        "\n",
        "    # 1*1 convolutional layers\n",
        "    # We produce the fashion MNIST digit\n",
        "    y2 = layers.Conv2D(NUM_CLASSES, kernel_size=(1,1))(up_conv_128)\n",
        "    y2 = layers.BatchNormalization(axis=3)(y2)\n",
        "    y2 = layers.Activation('sigmoid')(y2)  \n",
        "\n",
        "    # We compute the MNIST digit by simply subtracting y2 from the input\n",
        "    y1 = 2*inputs - y2\n",
        "\n",
        "    # Final output: concatenation of y1 and y2 along the width. \n",
        "    # Dimensions 32*64*1\n",
        "    y = layers.concatenate([y1, y2], axis=2)\n",
        "\n",
        "    model = models.Model(inputs, y, name=\"Attention_UNet\")\n",
        "    return model"
      ]
    },
    {
      "cell_type": "markdown",
      "metadata": {
        "id": "CNiHq3y0ivhk"
      },
      "source": [
        "### Building the model"
      ]
    },
    {
      "cell_type": "code",
      "execution_count": 13,
      "metadata": {
        "id": "nvdhCrHo1SsW"
      },
      "outputs": [],
      "source": [
        "att_unet = Attention_UNet(input_shape=(32,32,1), NUM_CLASSES=1, dropout_rate=0.0, batch_norm=True)"
      ]
    },
    {
      "cell_type": "code",
      "execution_count": 14,
      "metadata": {
        "colab": {
          "base_uri": "https://localhost:8080/"
        },
        "id": "Y2w1QWGy1SsW",
        "outputId": "6cd58c6f-6703-4d91-9af5-b91463ddfb72"
      },
      "outputs": [
        {
          "name": "stdout",
          "output_type": "stream",
          "text": [
            "Model: \"Attention_UNet\"\n",
            "__________________________________________________________________________________________________\n",
            " Layer (type)                   Output Shape         Param #     Connected to                     \n",
            "==================================================================================================\n",
            " input_1 (InputLayer)           [(None, 32, 32, 1)]  0           []                               \n",
            "                                                                                                  \n",
            " conv2d (Conv2D)                (None, 32, 32, 64)   640         ['input_1[0][0]']                \n",
            "                                                                                                  \n",
            " batch_normalization (BatchNorm  (None, 32, 32, 64)  256         ['conv2d[0][0]']                 \n",
            " alization)                                                                                       \n",
            "                                                                                                  \n",
            " activation (Activation)        (None, 32, 32, 64)   0           ['batch_normalization[0][0]']    \n",
            "                                                                                                  \n",
            " conv2d_1 (Conv2D)              (None, 32, 32, 64)   36928       ['activation[0][0]']             \n",
            "                                                                                                  \n",
            " batch_normalization_1 (BatchNo  (None, 32, 32, 64)  256         ['conv2d_1[0][0]']               \n",
            " rmalization)                                                                                     \n",
            "                                                                                                  \n",
            " activation_1 (Activation)      (None, 32, 32, 64)   0           ['batch_normalization_1[0][0]']  \n",
            "                                                                                                  \n",
            " max_pooling2d (MaxPooling2D)   (None, 16, 16, 64)   0           ['activation_1[0][0]']           \n",
            "                                                                                                  \n",
            " conv2d_2 (Conv2D)              (None, 16, 16, 128)  73856       ['max_pooling2d[0][0]']          \n",
            "                                                                                                  \n",
            " batch_normalization_2 (BatchNo  (None, 16, 16, 128)  512        ['conv2d_2[0][0]']               \n",
            " rmalization)                                                                                     \n",
            "                                                                                                  \n",
            " activation_2 (Activation)      (None, 16, 16, 128)  0           ['batch_normalization_2[0][0]']  \n",
            "                                                                                                  \n",
            " conv2d_3 (Conv2D)              (None, 16, 16, 128)  147584      ['activation_2[0][0]']           \n",
            "                                                                                                  \n",
            " batch_normalization_3 (BatchNo  (None, 16, 16, 128)  512        ['conv2d_3[0][0]']               \n",
            " rmalization)                                                                                     \n",
            "                                                                                                  \n",
            " activation_3 (Activation)      (None, 16, 16, 128)  0           ['batch_normalization_3[0][0]']  \n",
            "                                                                                                  \n",
            " max_pooling2d_1 (MaxPooling2D)  (None, 8, 8, 128)   0           ['activation_3[0][0]']           \n",
            "                                                                                                  \n",
            " conv2d_4 (Conv2D)              (None, 8, 8, 256)    295168      ['max_pooling2d_1[0][0]']        \n",
            "                                                                                                  \n",
            " batch_normalization_4 (BatchNo  (None, 8, 8, 256)   1024        ['conv2d_4[0][0]']               \n",
            " rmalization)                                                                                     \n",
            "                                                                                                  \n",
            " activation_4 (Activation)      (None, 8, 8, 256)    0           ['batch_normalization_4[0][0]']  \n",
            "                                                                                                  \n",
            " conv2d_5 (Conv2D)              (None, 8, 8, 256)    590080      ['activation_4[0][0]']           \n",
            "                                                                                                  \n",
            " batch_normalization_5 (BatchNo  (None, 8, 8, 256)   1024        ['conv2d_5[0][0]']               \n",
            " rmalization)                                                                                     \n",
            "                                                                                                  \n",
            " activation_5 (Activation)      (None, 8, 8, 256)    0           ['batch_normalization_5[0][0]']  \n",
            "                                                                                                  \n",
            " max_pooling2d_2 (MaxPooling2D)  (None, 4, 4, 256)   0           ['activation_5[0][0]']           \n",
            "                                                                                                  \n",
            " conv2d_6 (Conv2D)              (None, 4, 4, 512)    1180160     ['max_pooling2d_2[0][0]']        \n",
            "                                                                                                  \n",
            " batch_normalization_6 (BatchNo  (None, 4, 4, 512)   2048        ['conv2d_6[0][0]']               \n",
            " rmalization)                                                                                     \n",
            "                                                                                                  \n",
            " activation_6 (Activation)      (None, 4, 4, 512)    0           ['batch_normalization_6[0][0]']  \n",
            "                                                                                                  \n",
            " conv2d_7 (Conv2D)              (None, 4, 4, 512)    2359808     ['activation_6[0][0]']           \n",
            "                                                                                                  \n",
            " batch_normalization_7 (BatchNo  (None, 4, 4, 512)   2048        ['conv2d_7[0][0]']               \n",
            " rmalization)                                                                                     \n",
            "                                                                                                  \n",
            " activation_7 (Activation)      (None, 4, 4, 512)    0           ['batch_normalization_7[0][0]']  \n",
            "                                                                                                  \n",
            " conv2d_8 (Conv2D)              (None, 4, 4, 256)    131328      ['activation_7[0][0]']           \n",
            "                                                                                                  \n",
            " batch_normalization_8 (BatchNo  (None, 4, 4, 256)   1024        ['conv2d_8[0][0]']               \n",
            " rmalization)                                                                                     \n",
            "                                                                                                  \n",
            " activation_8 (Activation)      (None, 4, 4, 256)    0           ['batch_normalization_8[0][0]']  \n",
            "                                                                                                  \n",
            " conv2d_10 (Conv2D)             (None, 4, 4, 256)    65792       ['activation_8[0][0]']           \n",
            "                                                                                                  \n",
            " conv2d_transpose (Conv2DTransp  (None, 4, 4, 256)   590080      ['conv2d_10[0][0]']              \n",
            " ose)                                                                                             \n",
            "                                                                                                  \n",
            " conv2d_9 (Conv2D)              (None, 4, 4, 256)    262400      ['activation_5[0][0]']           \n",
            "                                                                                                  \n",
            " add (Add)                      (None, 4, 4, 256)    0           ['conv2d_transpose[0][0]',       \n",
            "                                                                  'conv2d_9[0][0]']               \n",
            "                                                                                                  \n",
            " activation_9 (Activation)      (None, 4, 4, 256)    0           ['add[0][0]']                    \n",
            "                                                                                                  \n",
            " conv2d_11 (Conv2D)             (None, 4, 4, 1)      257         ['activation_9[0][0]']           \n",
            "                                                                                                  \n",
            " activation_10 (Activation)     (None, 4, 4, 1)      0           ['conv2d_11[0][0]']              \n",
            "                                                                                                  \n",
            " up_sampling2d (UpSampling2D)   (None, 8, 8, 1)      0           ['activation_10[0][0]']          \n",
            "                                                                                                  \n",
            " lambda (Lambda)                (None, 8, 8, 256)    0           ['up_sampling2d[0][0]']          \n",
            "                                                                                                  \n",
            " multiply (Multiply)            (None, 8, 8, 256)    0           ['lambda[0][0]',                 \n",
            "                                                                  'activation_5[0][0]']           \n",
            "                                                                                                  \n",
            " conv2d_12 (Conv2D)             (None, 8, 8, 256)    65792       ['multiply[0][0]']               \n",
            "                                                                                                  \n",
            " up_sampling2d_1 (UpSampling2D)  (None, 8, 8, 512)   0           ['activation_7[0][0]']           \n",
            "                                                                                                  \n",
            " batch_normalization_9 (BatchNo  (None, 8, 8, 256)   1024        ['conv2d_12[0][0]']              \n",
            " rmalization)                                                                                     \n",
            "                                                                                                  \n",
            " concatenate (Concatenate)      (None, 8, 8, 768)    0           ['up_sampling2d_1[0][0]',        \n",
            "                                                                  'batch_normalization_9[0][0]']  \n",
            "                                                                                                  \n",
            " conv2d_13 (Conv2D)             (None, 8, 8, 256)    1769728     ['concatenate[0][0]']            \n",
            "                                                                                                  \n",
            " batch_normalization_10 (BatchN  (None, 8, 8, 256)   1024        ['conv2d_13[0][0]']              \n",
            " ormalization)                                                                                    \n",
            "                                                                                                  \n",
            " activation_11 (Activation)     (None, 8, 8, 256)    0           ['batch_normalization_10[0][0]'] \n",
            "                                                                                                  \n",
            " conv2d_14 (Conv2D)             (None, 8, 8, 256)    590080      ['activation_11[0][0]']          \n",
            "                                                                                                  \n",
            " batch_normalization_11 (BatchN  (None, 8, 8, 256)   1024        ['conv2d_14[0][0]']              \n",
            " ormalization)                                                                                    \n",
            "                                                                                                  \n",
            " activation_12 (Activation)     (None, 8, 8, 256)    0           ['batch_normalization_11[0][0]'] \n",
            "                                                                                                  \n",
            " conv2d_15 (Conv2D)             (None, 8, 8, 128)    32896       ['activation_12[0][0]']          \n",
            "                                                                                                  \n",
            " batch_normalization_12 (BatchN  (None, 8, 8, 128)   512         ['conv2d_15[0][0]']              \n",
            " ormalization)                                                                                    \n",
            "                                                                                                  \n",
            " activation_13 (Activation)     (None, 8, 8, 128)    0           ['batch_normalization_12[0][0]'] \n",
            "                                                                                                  \n",
            " conv2d_17 (Conv2D)             (None, 8, 8, 128)    16512       ['activation_13[0][0]']          \n",
            "                                                                                                  \n",
            " conv2d_transpose_1 (Conv2DTran  (None, 8, 8, 128)   147584      ['conv2d_17[0][0]']              \n",
            " spose)                                                                                           \n",
            "                                                                                                  \n",
            " conv2d_16 (Conv2D)             (None, 8, 8, 128)    65664       ['activation_3[0][0]']           \n",
            "                                                                                                  \n",
            " add_1 (Add)                    (None, 8, 8, 128)    0           ['conv2d_transpose_1[0][0]',     \n",
            "                                                                  'conv2d_16[0][0]']              \n",
            "                                                                                                  \n",
            " activation_14 (Activation)     (None, 8, 8, 128)    0           ['add_1[0][0]']                  \n",
            "                                                                                                  \n",
            " conv2d_18 (Conv2D)             (None, 8, 8, 1)      129         ['activation_14[0][0]']          \n",
            "                                                                                                  \n",
            " activation_15 (Activation)     (None, 8, 8, 1)      0           ['conv2d_18[0][0]']              \n",
            "                                                                                                  \n",
            " up_sampling2d_2 (UpSampling2D)  (None, 16, 16, 1)   0           ['activation_15[0][0]']          \n",
            "                                                                                                  \n",
            " lambda_1 (Lambda)              (None, 16, 16, 128)  0           ['up_sampling2d_2[0][0]']        \n",
            "                                                                                                  \n",
            " multiply_1 (Multiply)          (None, 16, 16, 128)  0           ['lambda_1[0][0]',               \n",
            "                                                                  'activation_3[0][0]']           \n",
            "                                                                                                  \n",
            " conv2d_19 (Conv2D)             (None, 16, 16, 128)  16512       ['multiply_1[0][0]']             \n",
            "                                                                                                  \n",
            " up_sampling2d_3 (UpSampling2D)  (None, 16, 16, 256)  0          ['activation_12[0][0]']          \n",
            "                                                                                                  \n",
            " batch_normalization_13 (BatchN  (None, 16, 16, 128)  512        ['conv2d_19[0][0]']              \n",
            " ormalization)                                                                                    \n",
            "                                                                                                  \n",
            " concatenate_1 (Concatenate)    (None, 16, 16, 384)  0           ['up_sampling2d_3[0][0]',        \n",
            "                                                                  'batch_normalization_13[0][0]'] \n",
            "                                                                                                  \n",
            " conv2d_20 (Conv2D)             (None, 16, 16, 128)  442496      ['concatenate_1[0][0]']          \n",
            "                                                                                                  \n",
            " batch_normalization_14 (BatchN  (None, 16, 16, 128)  512        ['conv2d_20[0][0]']              \n",
            " ormalization)                                                                                    \n",
            "                                                                                                  \n",
            " activation_16 (Activation)     (None, 16, 16, 128)  0           ['batch_normalization_14[0][0]'] \n",
            "                                                                                                  \n",
            " conv2d_21 (Conv2D)             (None, 16, 16, 128)  147584      ['activation_16[0][0]']          \n",
            "                                                                                                  \n",
            " batch_normalization_15 (BatchN  (None, 16, 16, 128)  512        ['conv2d_21[0][0]']              \n",
            " ormalization)                                                                                    \n",
            "                                                                                                  \n",
            " activation_17 (Activation)     (None, 16, 16, 128)  0           ['batch_normalization_15[0][0]'] \n",
            "                                                                                                  \n",
            " conv2d_22 (Conv2D)             (None, 16, 16, 64)   8256        ['activation_17[0][0]']          \n",
            "                                                                                                  \n",
            " batch_normalization_16 (BatchN  (None, 16, 16, 64)  256         ['conv2d_22[0][0]']              \n",
            " ormalization)                                                                                    \n",
            "                                                                                                  \n",
            " activation_18 (Activation)     (None, 16, 16, 64)   0           ['batch_normalization_16[0][0]'] \n",
            "                                                                                                  \n",
            " conv2d_24 (Conv2D)             (None, 16, 16, 64)   4160        ['activation_18[0][0]']          \n",
            "                                                                                                  \n",
            " conv2d_transpose_2 (Conv2DTran  (None, 16, 16, 64)  36928       ['conv2d_24[0][0]']              \n",
            " spose)                                                                                           \n",
            "                                                                                                  \n",
            " conv2d_23 (Conv2D)             (None, 16, 16, 64)   16448       ['activation_1[0][0]']           \n",
            "                                                                                                  \n",
            " add_2 (Add)                    (None, 16, 16, 64)   0           ['conv2d_transpose_2[0][0]',     \n",
            "                                                                  'conv2d_23[0][0]']              \n",
            "                                                                                                  \n",
            " activation_19 (Activation)     (None, 16, 16, 64)   0           ['add_2[0][0]']                  \n",
            "                                                                                                  \n",
            " conv2d_25 (Conv2D)             (None, 16, 16, 1)    65          ['activation_19[0][0]']          \n",
            "                                                                                                  \n",
            " activation_20 (Activation)     (None, 16, 16, 1)    0           ['conv2d_25[0][0]']              \n",
            "                                                                                                  \n",
            " up_sampling2d_4 (UpSampling2D)  (None, 32, 32, 1)   0           ['activation_20[0][0]']          \n",
            "                                                                                                  \n",
            " lambda_2 (Lambda)              (None, 32, 32, 64)   0           ['up_sampling2d_4[0][0]']        \n",
            "                                                                                                  \n",
            " multiply_2 (Multiply)          (None, 32, 32, 64)   0           ['lambda_2[0][0]',               \n",
            "                                                                  'activation_1[0][0]']           \n",
            "                                                                                                  \n",
            " conv2d_26 (Conv2D)             (None, 32, 32, 64)   4160        ['multiply_2[0][0]']             \n",
            "                                                                                                  \n",
            " up_sampling2d_5 (UpSampling2D)  (None, 32, 32, 128)  0          ['activation_17[0][0]']          \n",
            "                                                                                                  \n",
            " batch_normalization_17 (BatchN  (None, 32, 32, 64)  256         ['conv2d_26[0][0]']              \n",
            " ormalization)                                                                                    \n",
            "                                                                                                  \n",
            " concatenate_2 (Concatenate)    (None, 32, 32, 192)  0           ['up_sampling2d_5[0][0]',        \n",
            "                                                                  'batch_normalization_17[0][0]'] \n",
            "                                                                                                  \n",
            " conv2d_27 (Conv2D)             (None, 32, 32, 64)   110656      ['concatenate_2[0][0]']          \n",
            "                                                                                                  \n",
            " batch_normalization_18 (BatchN  (None, 32, 32, 64)  256         ['conv2d_27[0][0]']              \n",
            " ormalization)                                                                                    \n",
            "                                                                                                  \n",
            " activation_21 (Activation)     (None, 32, 32, 64)   0           ['batch_normalization_18[0][0]'] \n",
            "                                                                                                  \n",
            " conv2d_28 (Conv2D)             (None, 32, 32, 64)   36928       ['activation_21[0][0]']          \n",
            "                                                                                                  \n",
            " batch_normalization_19 (BatchN  (None, 32, 32, 64)  256         ['conv2d_28[0][0]']              \n",
            " ormalization)                                                                                    \n",
            "                                                                                                  \n",
            " activation_22 (Activation)     (None, 32, 32, 64)   0           ['batch_normalization_19[0][0]'] \n",
            "                                                                                                  \n",
            " conv2d_29 (Conv2D)             (None, 32, 32, 1)    65          ['activation_22[0][0]']          \n",
            "                                                                                                  \n",
            " batch_normalization_20 (BatchN  (None, 32, 32, 1)   4           ['conv2d_29[0][0]']              \n",
            " ormalization)                                                                                    \n",
            "                                                                                                  \n",
            " tf.math.multiply (TFOpLambda)  (None, 32, 32, 1)    0           ['input_1[0][0]']                \n",
            "                                                                                                  \n",
            " activation_23 (Activation)     (None, 32, 32, 1)    0           ['batch_normalization_20[0][0]'] \n",
            "                                                                                                  \n",
            " tf.math.subtract (TFOpLambda)  (None, 32, 32, 1)    0           ['tf.math.multiply[0][0]',       \n",
            "                                                                  'activation_23[0][0]']          \n",
            "                                                                                                  \n",
            " concatenate_3 (Concatenate)    (None, 32, 64, 1)    0           ['tf.math.subtract[0][0]',       \n",
            "                                                                  'activation_23[0][0]']          \n",
            "                                                                                                  \n",
            "==================================================================================================\n",
            "Total params: 9,261,576\n",
            "Trainable params: 9,254,150\n",
            "Non-trainable params: 7,426\n",
            "__________________________________________________________________________________________________\n"
          ]
        }
      ],
      "source": [
        "att_unet.summary()"
      ]
    },
    {
      "cell_type": "markdown",
      "metadata": {
        "id": "LZbTxB5K1SsX"
      },
      "source": [
        "$9M$ parameters."
      ]
    },
    {
      "cell_type": "markdown",
      "metadata": {
        "id": "WA6xLtOtizlk"
      },
      "source": [
        "## TRAINING\n",
        "We use:\n",
        "- $64$ as batch size;\n",
        "- $10000$ as steps per epoch;\n",
        "- $15$ as number of epochs;\n",
        "- MSE as loss function;\n",
        "- Adam as optimizer, with initial learning rate $1*10^{-3}$;\n",
        "- reduce learning rate on plateau strategy;\n",
        "- test generator as validation data, with validation steps equal to $156$ ($156$ is equal to the integer division between the number of samples in the test set and the batch size)."
      ]
    },
    {
      "cell_type": "code",
      "execution_count": 15,
      "metadata": {
        "id": "uTQsWqqn1SsY"
      },
      "outputs": [],
      "source": [
        "from tensorflow.keras.optimizers import Adam"
      ]
    },
    {
      "cell_type": "code",
      "execution_count": 16,
      "metadata": {
        "id": "edXq9YzT1SsY"
      },
      "outputs": [],
      "source": [
        "att_unet.compile(optimizer=Adam(), loss='mse')"
      ]
    },
    {
      "cell_type": "code",
      "execution_count": 17,
      "metadata": {
        "id": "XbR609ih1SsY"
      },
      "outputs": [],
      "source": [
        "from tensorflow.keras.callbacks import ModelCheckpoint, ReduceLROnPlateau\n",
        "reduce_lr_callback = ReduceLROnPlateau(patience=3, min_delta=0.00001)\n",
        "\n",
        "callback_checkpoint = ModelCheckpoint('ATT_UNET.{epoch:02d}-{val_loss:.4f}.hdf5', save_weights_only=True) "
      ]
    },
    {
      "cell_type": "code",
      "execution_count": 18,
      "metadata": {
        "id": "CRs7rrHR1SsY"
      },
      "outputs": [],
      "source": [
        "steps_per_epoch = 10000\n",
        "val_steps = N_test // batchsize"
      ]
    },
    {
      "cell_type": "code",
      "execution_count": null,
      "metadata": {
        "colab": {
          "base_uri": "https://localhost:8080/"
        },
        "id": "rwgrj2iR1SsZ",
        "outputId": "4e20de00-c00f-40e6-e34c-7983fd0b63bf"
      },
      "outputs": [
        {
          "name": "stdout",
          "output_type": "stream",
          "text": [
            "Epoch 1/15\n",
            "10000/10000 [==============================] - 488s 48ms/step - loss: 0.0067 - val_loss: 8.6514e-04 - lr: 0.0010\n",
            "Epoch 2/15\n",
            "10000/10000 [==============================] - 478s 48ms/step - loss: 7.3294e-04 - val_loss: 6.0036e-04 - lr: 0.0010\n",
            "Epoch 3/15\n",
            "10000/10000 [==============================] - 476s 48ms/step - loss: 5.9117e-04 - val_loss: 5.3404e-04 - lr: 0.0010\n",
            "Epoch 4/15\n",
            "10000/10000 [==============================] - 482s 48ms/step - loss: 5.2961e-04 - val_loss: 5.2938e-04 - lr: 0.0010\n",
            "Epoch 5/15\n",
            "10000/10000 [==============================] - 501s 50ms/step - loss: 4.9181e-04 - val_loss: 4.6700e-04 - lr: 0.0010\n",
            "Epoch 6/15\n",
            "10000/10000 [==============================] - 495s 49ms/step - loss: 4.6742e-04 - val_loss: 4.5617e-04 - lr: 0.0010\n",
            "Epoch 7/15\n",
            "10000/10000 [==============================] - 508s 51ms/step - loss: 4.4637e-04 - val_loss: 4.7722e-04 - lr: 0.0010\n",
            "Epoch 8/15\n",
            "10000/10000 [==============================] - 510s 51ms/step - loss: 4.3479e-04 - val_loss: 4.3034e-04 - lr: 0.0010\n",
            "Epoch 9/15\n",
            "10000/10000 [==============================] - 507s 51ms/step - loss: 4.1961e-04 - val_loss: 4.5585e-04 - lr: 0.0010\n",
            "Epoch 10/15\n",
            "10000/10000 [==============================] - 506s 51ms/step - loss: 4.1101e-04 - val_loss: 4.1485e-04 - lr: 0.0010\n",
            "Epoch 11/15\n",
            "10000/10000 [==============================] - 503s 50ms/step - loss: 4.0126e-04 - val_loss: 3.9889e-04 - lr: 0.0010\n",
            "Epoch 12/15\n",
            "10000/10000 [==============================] - 494s 49ms/step - loss: 3.9496e-04 - val_loss: 4.1866e-04 - lr: 0.0010\n",
            "Epoch 13/15\n",
            "10000/10000 [==============================] - 496s 50ms/step - loss: 3.8775e-04 - val_loss: 3.8071e-04 - lr: 0.0010\n",
            "Epoch 14/15\n",
            "10000/10000 [==============================] - 498s 50ms/step - loss: 3.8504e-04 - val_loss: 3.8771e-04 - lr: 0.0010\n",
            "Epoch 15/15\n",
            "10000/10000 [==============================] - 506s 51ms/step - loss: 3.7835e-04 - val_loss: 3.7590e-04 - lr: 0.0010\n"
          ]
        }
      ],
      "source": [
        "hist = att_unet.fit(train_generator, epochs=15, batch_size=batchsize, validation_data=test_generator, callbacks=[callback_checkpoint,reduce_lr_callback],\n",
        "              steps_per_epoch=steps_per_epoch, validation_steps=val_steps)"
      ]
    },
    {
      "cell_type": "markdown",
      "metadata": {
        "id": "jA0U-YgGm8n5"
      },
      "source": [
        "*It is important to notice that the `reduceLROnPlateau` callback has not been activated yet.*"
      ]
    },
    {
      "cell_type": "markdown",
      "metadata": {
        "id": "7GX46KJM1SsZ"
      },
      "source": [
        "Let's compute the final score."
      ]
    },
    {
      "cell_type": "code",
      "execution_count": 50,
      "metadata": {
        "colab": {
          "base_uri": "https://localhost:8080/"
        },
        "id": "BSZnfDec4ZGZ",
        "outputId": "82132907-8218-4386-8817-a272996deda5"
      },
      "outputs": [
        {
          "name": "stdout",
          "output_type": "stream",
          "text": [
            "625/625 [==============================] - 7s 11ms/step - loss: 3.8157e-04\n",
            "625/625 [==============================] - 7s 11ms/step - loss: 3.8140e-04\n",
            "625/625 [==============================] - 7s 11ms/step - loss: 3.8213e-04\n",
            "625/625 [==============================] - 7s 11ms/step - loss: 3.8322e-04\n",
            "625/625 [==============================] - 7s 11ms/step - loss: 3.8468e-04\n",
            "625/625 [==============================] - 7s 11ms/step - loss: 3.8682e-04\n",
            "625/625 [==============================] - 7s 11ms/step - loss: 3.8095e-04\n",
            "625/625 [==============================] - 7s 11ms/step - loss: 3.8069e-04\n",
            "625/625 [==============================] - 7s 11ms/step - loss: 3.7918e-04\n",
            "625/625 [==============================] - 7s 11ms/step - loss: 3.8049e-04\n",
            "Min: 0.00037918068119324744\n",
            "Mean: 0.00038211256614886226\n",
            "Std: 2.130476315472836e-06\n"
          ]
        }
      ],
      "source": [
        "min_mse, mean_mse, std_mse = compute_final_score(att_unet)\n",
        "print('Min:', min_mse)\n",
        "print('Mean:', mean_mse)\n",
        "print('Std:', std_mse)"
      ]
    },
    {
      "cell_type": "markdown",
      "metadata": {
        "id": "gR-BBMlWlBnO"
      },
      "source": [
        "Min score: $0.000379$. Mean score: $0.000382$. Std: $2.13*10^{-6}$."
      ]
    },
    {
      "cell_type": "markdown",
      "metadata": {
        "id": "xguvj4sTlUt4"
      },
      "source": [
        "Let's plot the evolution of the mse."
      ]
    },
    {
      "cell_type": "code",
      "execution_count": null,
      "metadata": {
        "colab": {
          "base_uri": "https://localhost:8080/",
          "height": 295
        },
        "id": "AKmc7uPy1Ssb",
        "outputId": "a29623e6-4e89-4712-f2eb-70b9ced9d509"
      },
      "outputs": [
        {
          "data": {
            "image/png": "[encoded data removed]",
            "text/plain": [
              "<Figure size 432x288 with 1 Axes>"
            ]
          },
          "metadata": {
            "needs_background": "light"
          },
          "output_type": "display_data"
        }
      ],
      "source": [
        "plot_history(hist)"
      ]
    },
    {
      "cell_type": "markdown",
      "metadata": {
        "id": "12HD0wgTlTv5"
      },
      "source": [
        "Pefect curve! No overfitting!"
      ]
    },
    {
      "cell_type": "markdown",
      "metadata": {
        "id": "v_MFQi7MUVhY"
      },
      "source": [
        "### More training"
      ]
    },
    {
      "cell_type": "markdown",
      "metadata": {
        "id": "B2Ff0C7lnQA4"
      },
      "source": [
        "$10$ more epochs."
      ]
    },
    {
      "cell_type": "code",
      "execution_count": null,
      "metadata": {
        "colab": {
          "base_uri": "https://localhost:8080/"
        },
        "id": "s2LUIxhp1M-Y",
        "outputId": "9ee01595-abfd-470f-964f-f96ed8cdcb6d"
      },
      "outputs": [
        {
          "name": "stdout",
          "output_type": "stream",
          "text": [
            "Epoch 1/10\n",
            "10000/10000 [==============================] - 504s 50ms/step - loss: 3.7467e-04 - val_loss: 4.3410e-04 - lr: 0.0010\n",
            "Epoch 2/10\n",
            "10000/10000 [==============================] - 504s 50ms/step - loss: 3.6844e-04 - val_loss: 3.7797e-04 - lr: 0.0010\n",
            "Epoch 3/10\n",
            "10000/10000 [==============================] - 505s 50ms/step - loss: 3.6314e-04 - val_loss: 3.6720e-04 - lr: 0.0010\n",
            "Epoch 4/10\n",
            "10000/10000 [==============================] - 499s 50ms/step - loss: 3.6095e-04 - val_loss: 3.6929e-04 - lr: 0.0010\n",
            "Epoch 5/10\n",
            "10000/10000 [==============================] - 499s 50ms/step - loss: 3.5695e-04 - val_loss: 3.6167e-04 - lr: 0.0010\n",
            "Epoch 6/10\n",
            "10000/10000 [==============================] - 508s 51ms/step - loss: 3.5492e-04 - val_loss: 3.5648e-04 - lr: 0.0010\n",
            "Epoch 7/10\n",
            "10000/10000 [==============================] - 493s 49ms/step - loss: 3.5284e-04 - val_loss: 3.5898e-04 - lr: 0.0010\n",
            "Epoch 8/10\n",
            "10000/10000 [==============================] - 513s 51ms/step - loss: 3.4897e-04 - val_loss: 3.5308e-04 - lr: 0.0010\n",
            "Epoch 9/10\n",
            "10000/10000 [==============================] - 521s 52ms/step - loss: 3.4606e-04 - val_loss: 3.5095e-04 - lr: 0.0010\n",
            "Epoch 10/10\n",
            "10000/10000 [==============================] - 521s 52ms/step - loss: 3.2577e-04 - val_loss: 3.3274e-04 - lr: 1.0000e-04\n"
          ]
        }
      ],
      "source": [
        "hist = att_unet.fit(train_generator, epochs=10, batch_size=batchsize, validation_data=test_generator, callbacks=[callback_checkpoint,reduce_lr_callback],\n",
        "              steps_per_epoch=steps_per_epoch, validation_steps=val_steps)"
      ]
    },
    {
      "cell_type": "markdown",
      "metadata": {
        "id": "d9-0AuJknS4m"
      },
      "source": [
        "*The `reduceLROnPlateau` has been activated on the last epoch.*"
      ]
    },
    {
      "cell_type": "markdown",
      "metadata": {
        "id": "rPxVGPGMneDR"
      },
      "source": [
        "Let's compute the final score."
      ]
    },
    {
      "cell_type": "code",
      "execution_count": 52,
      "metadata": {
        "colab": {
          "base_uri": "https://localhost:8080/"
        },
        "id": "lJha44fJ45tg",
        "outputId": "5714636e-1399-4e1f-d1dd-2a6e0fdc2157"
      },
      "outputs": [
        {
          "name": "stdout",
          "output_type": "stream",
          "text": [
            "625/625 [==============================] - 9s 14ms/step - loss: 3.3350e-04\n",
            "625/625 [==============================] - 8s 13ms/step - loss: 3.3250e-04\n",
            "625/625 [==============================] - 7s 11ms/step - loss: 3.3612e-04\n",
            "625/625 [==============================] - 7s 11ms/step - loss: 3.3077e-04\n",
            "625/625 [==============================] - 8s 12ms/step - loss: 3.2732e-04\n",
            "625/625 [==============================] - 7s 11ms/step - loss: 3.3646e-04\n",
            "625/625 [==============================] - 7s 11ms/step - loss: 3.3108e-04\n",
            "625/625 [==============================] - 7s 11ms/step - loss: 3.3146e-04\n",
            "625/625 [==============================] - 7s 11ms/step - loss: 3.3256e-04\n",
            "625/625 [==============================] - 7s 11ms/step - loss: 3.3377e-04\n",
            "Min: 0.00032732324325479567\n",
            "Mean: 0.00033255403395742177\n",
            "Std: 2.5349560563843655e-06\n"
          ]
        }
      ],
      "source": [
        "min_mse, mean_mse, std_mse = compute_final_score(att_unet)\n",
        "print('Min:', min_mse)\n",
        "print('Mean:', mean_mse)\n",
        "print('Std:', std_mse)"
      ]
    },
    {
      "cell_type": "markdown",
      "metadata": {
        "id": "ikVvu8LVngTM"
      },
      "source": [
        "Min score: $0.000327$. Mean score: $0.000332$. Std: $2.53*10^{-6}$."
      ]
    },
    {
      "cell_type": "markdown",
      "metadata": {
        "id": "eVGmOl3LtzxC"
      },
      "source": [
        "### More training\n",
        "$7$ more epochs."
      ]
    },
    {
      "cell_type": "code",
      "execution_count": 28,
      "metadata": {
        "id": "oJITbvJvqAXy"
      },
      "outputs": [],
      "source": [
        "from tensorflow.keras.optimizers import Adam\n",
        "att_unet.compile(optimizer=Adam(0.0001), loss='mse')"
      ]
    },
    {
      "cell_type": "code",
      "execution_count": 30,
      "metadata": {
        "id": "ICssfAc99k3c"
      },
      "outputs": [],
      "source": [
        "from tensorflow.keras.callbacks import ModelCheckpoint, ReduceLROnPlateau\n",
        "reduce_lr_callback = ReduceLROnPlateau(monitor='val_loss', min_lr=0.000009, min_delta=0.00001, factor=0.75, patience=2, verbose=1, mode='min')\n",
        "\n",
        "callback_checkpoint = ModelCheckpoint('ATT_UNET.{epoch:02d}-{val_loss:.4f}.hdf5', save_weights_only=True) "
      ]
    },
    {
      "cell_type": "code",
      "execution_count": 31,
      "metadata": {
        "id": "XzrWCGN6n3B5"
      },
      "outputs": [],
      "source": [
        "steps_per_epoch = 10000\n",
        "val_steps = N_test // batchsize"
      ]
    },
    {
      "cell_type": "code",
      "execution_count": 1,
      "metadata": {},
      "outputs": [
        {
          "name": "stdout",
          "output_type": "stream",
          "text": [
            "Epoch 1/7\n",
            "10000/10000 [==============================] - 529s 51ms/step - loss: 3.2716e-04 - val_loss: 3.2966e-04 - lr: 1.0000e-04\n",
            "Epoch 2/7\n",
            "10000/10000 [==============================] - 506s 51ms/step - loss: 3.2510e-04 - val_loss: 3.2436e-04 - lr: 1.0000e-04\n",
            "Epoch 3/7\n",
            "10000/10000 [==============================] - ETA: 0s - loss: 3.2342e-04\n",
            "Epoch 3: ReduceLROnPlateau reducing learning rate to 7.499999810534064e-05.\n",
            "10000/10000 [==============================] - 505s 50ms/step - loss: 3.2342e-04 - val_loss: 3.2849e-04 - lr: 1.0000e-04\n",
            "Epoch 4/7\n",
            "10000/10000 [==============================] - 504s 50ms/step - loss: 3.2229e-04 - val_loss: 3.1964e-04 - lr: 7.5000e-05\n",
            "Epoch 5/7\n",
            "10000/10000 [==============================] - 504s 50ms/step - loss: 3.2145e-04 - val_loss: 3.1919e-04 - lr: 7.5000e-05\n",
            "Epoch 6/7\n",
            "10000/10000 [==============================] - ETA: 0s - loss: 3.1999e-04\n",
            "Epoch 6: ReduceLROnPlateau reducing learning rate to 5.6249997214763425e-05.\n",
            "10000/10000 [==============================] - 503s 50ms/step - loss: 3.1999e-04 - val_loss: 3.1987e-04 - lr: 7.5000e-05\n",
            "Epoch 7/7\n",
            "10000/10000 [==============================] - 504s 50ms/step - loss: 3.1841e-04 - val_loss: 3.1639e-04 - lr: 5.6250e-05\n"
          ]
        }
      ],
      "source": [
        "hist = att_unet.fit(train_generator, epochs=7, batch_size=batchsize, validation_data=test_generator, callbacks=[callback_checkpoint,reduce_lr_callback],\n",
        "              steps_per_epoch=steps_per_epoch, validation_steps=val_steps)"
      ]
    },
    {
      "cell_type": "markdown",
      "metadata": {
        "id": "4l4JPJXl6PxV"
      },
      "source": [
        "Let's compute the final score."
      ]
    },
    {
      "cell_type": "code",
      "execution_count": 56,
      "metadata": {
        "colab": {
          "base_uri": "https://localhost:8080/"
        },
        "id": "NBTVcLrX6yhP",
        "outputId": "b5e457e1-e182-4349-fcf7-605701567be5"
      },
      "outputs": [
        {
          "name": "stdout",
          "output_type": "stream",
          "text": [
            "625/625 [==============================] - 7s 12ms/step - loss: 3.1840e-04\n",
            "625/625 [==============================] - 7s 12ms/step - loss: 3.1471e-04\n",
            "625/625 [==============================] - 7s 12ms/step - loss: 3.1536e-04\n",
            "625/625 [==============================] - 7s 12ms/step - loss: 3.1238e-04\n",
            "625/625 [==============================] - 7s 12ms/step - loss: 3.1760e-04\n",
            "625/625 [==============================] - 7s 12ms/step - loss: 3.1612e-04\n",
            "625/625 [==============================] - 7s 12ms/step - loss: 3.1538e-04\n",
            "625/625 [==============================] - 8s 13ms/step - loss: 3.1303e-04\n",
            "625/625 [==============================] - 7s 12ms/step - loss: 3.1154e-04\n",
            "625/625 [==============================] - 7s 12ms/step - loss: 3.1165e-04\n",
            "Min: 0.0003115357249043882\n",
            "Mean: 0.00031461602193303404\n",
            "Std: 2.2896727290518663e-06\n"
          ]
        }
      ],
      "source": [
        "min_mse, mean_mse, std_mse = compute_final_score(att_unet)\n",
        "print('Min:', min_mse)\n",
        "print('Mean:', mean_mse)\n",
        "print('Std:', std_mse)"
      ]
    },
    {
      "cell_type": "markdown",
      "metadata": {
        "id": "zzk6sKW07QdM"
      },
      "source": [
        "Min score: $0.0003115$. Mean score: $0.0003146$. Std: $2.29*10^{-6}$."
      ]
    },
    {
      "cell_type": "markdown",
      "metadata": {
        "id": "BZsxXccAokQJ"
      },
      "source": [
        "## FINAL RESULTS\n",
        "The final results are the following.\n",
        "\n",
        "| #parameters | #epochs | Min MSE     | Mean MSE | Std MSE |\n",
        "| ----- | ---- | ----------- | ------- | ------- |\n",
        "| $9M$      | $32$       | $3.111e-4$ | $3.146e-4$| $2.29e-6$|"
      ]
    },
    {
      "cell_type": "markdown",
      "metadata": {
        "id": "WD_Qq7xXq-dB"
      },
      "source": [
        "Visualization"
      ]
    },
    {
      "cell_type": "code",
      "execution_count": null,
      "metadata": {
        "colab": {
          "base_uri": "https://localhost:8080/",
          "height": 666
        },
        "id": "_LLBhOqJqyP2",
        "outputId": "a0609c13-4e60-4301-fd2b-bf6eefed2ed4"
      },
      "outputs": [
        {
          "data": {
            "image/png": "[encoded data removed]",
            "text/plain": [
              "<Figure size 432x288 with 1 Axes>"
            ]
          },
          "metadata": {
            "needs_background": "light"
          },
          "output_type": "display_data"
        },
        {
          "data": {
            "image/png": "[encoded data removed]",
            "text/plain": [
              "<Figure size 432x288 with 1 Axes>"
            ]
          },
          "metadata": {
            "needs_background": "light"
          },
          "output_type": "display_data"
        },
        {
          "data": {
            "image/png": "[encoded data removed]",
            "text/plain": [
              "<Figure size 432x288 with 1 Axes>"
            ]
          },
          "metadata": {
            "needs_background": "light"
          },
          "output_type": "display_data"
        }
      ],
      "source": [
        "x_batch, y_batch = next(test_generator)\n",
        "x = x_batch[0]\n",
        "y = y_batch[0]\n",
        "y_pred = att_unet.predict(x.reshape((1,32,32)))\n",
        "plt.imshow(x,cmap='gray', interpolation='nearest')\n",
        "plt.show()\n",
        "plt.imshow(y, cmap='gray', interpolation='nearest')\n",
        "plt.show()\n",
        "plt.imshow(y_pred[0].reshape((32,64)), cmap='gray', interpolation='nearest')\n",
        "plt.show()"
      ]
    }
  ],
  "metadata": {
    "accelerator": "GPU",
    "colab": {
      "collapsed_sections": [],
      "name": "Blind Source Separation - July 29th Exam",
      "provenance": []
    },
    "gpuClass": "standard",
    "kernelspec": {
      "display_name": "Python 3.10.0 64-bit",
      "language": "python",
      "name": "python3"
    },
    "language_info": {
      "codemirror_mode": {
        "name": "ipython",
        "version": 3
      },
      "file_extension": ".py",
      "mimetype": "text/x-python",
      "name": "python",
      "nbconvert_exporter": "python",
      "pygments_lexer": "ipython3",
      "version": "3.10.0"
    },
    "vscode": {
      "interpreter": {
        "hash": "d14990a399795653de35f1f5395269163893147857e74010bc072f6042c8e8da"
      }
    }
  },
  "nbformat": 4,
  "nbformat_minor": 0
}
